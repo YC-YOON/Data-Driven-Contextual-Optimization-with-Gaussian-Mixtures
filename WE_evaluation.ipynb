{
 "cells": [
  {
   "cell_type": "code",
   "execution_count": 2,
   "id": "72222014",
   "metadata": {
    "ExecuteTime": {
     "end_time": "2025-09-14T19:22:55.023943Z",
     "start_time": "2025-09-14T19:22:55.010708Z"
    }
   },
   "outputs": [
    {
     "name": "stdout",
     "output_type": "stream",
     "text": [
      "     NC_mean  NC_p10  NC_p90\n",
      "DD    -8.077 -15.292  -1.180\n",
      "DRO   -8.195 -15.642  -1.085\n",
      "GMM   -8.728 -15.859  -1.985\n",
      "Ind   -7.914 -15.341  -0.896\n",
      "     OH_mean  OH_p10  OH_p90\n",
      "DD    -6.750 -11.315  -3.176\n",
      "DRO   -6.863 -11.254  -3.225\n",
      "GMM   -7.855 -13.789  -3.318\n",
      "Ind   -6.847 -11.673  -2.670\n"
     ]
    }
   ],
   "source": [
    "import pandas as pd\n",
    "import json\n",
    "import numpy as np\n",
    "\n",
    "files_NC = {\n",
    "    \"DD\": \"Results/NC_sddp_dd_20250908-034727_summary.jsonl\",\n",
    "    \"DRO\": \"Results/NC_sddp_dro_20250908-045722_summary.jsonl\",\n",
    "    \"GMM\": \"Results/NC_sddp_gmm_20250908-060747_summary.jsonl\",  \n",
    "    \"Ind\": \"Results/NC_sddp_ind_20250908-023906_summary.jsonl\"\n",
    "}\n",
    "files_OH = {\n",
    "    \"DD\": \"Results/OH_sddp_dd_20250908-042255_summary.jsonl\",\n",
    "    \"DRO\": \"Results/OH_sddp_dro_20250913-231446_summary.jsonl\",\n",
    "    \"GMM\": \"Results/OH_sddp_gmm_20250908-064322_summary.jsonl\",  \n",
    "    \"Ind\": \"Results/OH_sddp_ind_20250908-031348_summary.jsonl\"\n",
    "}\n",
    "\n",
    "def load_jsonl(path):\n",
    "    records = []\n",
    "    with open(path, \"r\", encoding=\"utf-8\") as f:\n",
    "        for line in f:\n",
    "            records.append(json.loads(line))\n",
    "    return pd.DataFrame(records)\n",
    "\n",
    "def summarize(files):\n",
    "    results = {}\n",
    "    for mode, path in files.items():\n",
    "        df = load_jsonl(path)\n",
    "        cols = [\"mean\", \"p10\", \"p90\"]\n",
    "        results[mode] = {col: np.mean(df[col]) for col in cols}\n",
    "    return pd.DataFrame(results).T.round(3)\n",
    "\n",
    "compare_NC = summarize(files_NC).add_prefix(\"NC_\")\n",
    "compare_OH = summarize(files_OH).add_prefix(\"OH_\")\n",
    "\n",
    "df1 = compare_NC\n",
    "df2 = compare_OH\n",
    "\n",
    "print(df1)\n",
    "print(df2)\n"
   ]
  }
 ],
 "metadata": {
  "kernelspec": {
   "display_name": "base",
   "language": "python",
   "name": "python3"
  },
  "language_info": {
   "codemirror_mode": {
    "name": "ipython",
    "version": 3
   },
   "file_extension": ".py",
   "mimetype": "text/x-python",
   "name": "python",
   "nbconvert_exporter": "python",
   "pygments_lexer": "ipython3",
   "version": "3.12.7"
  }
 },
 "nbformat": 4,
 "nbformat_minor": 5
}
