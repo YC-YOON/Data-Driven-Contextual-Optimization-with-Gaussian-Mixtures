{
 "cells": [
  {
   "cell_type": "code",
   "execution_count": null,
   "id": "ed1aada4",
   "metadata": {},
   "outputs": [
    {
     "name": "stdout",
     "output_type": "stream",
     "text": [
      "=== Combined quantiles (10%, 90%) and mean for each loss column ===\n",
      "              file stat  loss_NF_GMM  loss_kannan  loss_nonNF_GMM  loss_nw\n",
      " NV_1d_LinQuad.csv  0.1        5.757       10.070           5.722    8.869\n",
      " NV_1d_LinQuad.csv  0.9       12.946       22.602          12.931   14.205\n",
      " NV_1d_LinQuad.csv mean        9.880       15.406           9.748   11.509\n",
      "NV_20d_LinQuad.csv  0.1       94.249      113.379         103.331  196.473\n",
      "NV_20d_LinQuad.csv  0.9      174.691      306.892         182.220  275.430\n",
      "NV_20d_LinQuad.csv mean      140.706      196.875         143.365  233.464\n",
      " NV_5d_LinQuad.csv  0.1        7.549        9.459           8.694   15.756\n",
      " NV_5d_LinQuad.csv  0.9       45.351       50.481          61.826   56.568\n",
      " NV_5d_LinQuad.csv mean       29.518       31.060          34.986   37.003\n"
     ]
    }
   ],
   "source": [
    "from pathlib import Path\n",
    "import pandas as pd\n",
    "\n",
    "# 설정\n",
    "base_dir = Path(\"Results\")\n",
    "files = [\"NV_1d_LinQuad.csv\", \"NV_5d_LinQuad.csv\", \"NV_20d_LinQuad.csv\"]\n",
    "loss_columns = ['loss_NF_GMM', 'loss_nonNF_GMM', 'loss_kannan', 'loss_nw']\n",
    "\n",
    "rows = []\n",
    "\n",
    "for fname in files:\n",
    "    fpath = base_dir / fname\n",
    "\n",
    "    df = pd.read_csv(fpath)\n",
    "\n",
    "    cols_exist = [c for c in loss_columns if c in df.columns]\n",
    "\n",
    "    q = df[cols_exist].quantile([0.1, 0.9])\n",
    "    mean_row = pd.DataFrame(df[cols_exist].mean()).T\n",
    "    mean_row.index = ['mean']\n",
    "    stats = pd.concat([q, mean_row])\n",
    "\n",
    "    stats = stats.reset_index().rename(columns={'index': 'stat'})\n",
    "    stats['file'] = fname\n",
    "    long = stats.melt(id_vars=['file', 'stat'], value_vars=cols_exist,\n",
    "                      var_name='loss_col', value_name='value')\n",
    "    rows.append(long)\n",
    "\n",
    "if rows:\n",
    "    result_long = pd.concat(rows, ignore_index=True)\n",
    "    result_long['value'] = result_long['value'].round(3)\n",
    "\n",
    "    result_wide = result_long.pivot_table(index=['file','stat'],\n",
    "                                          columns='loss_col',\n",
    "                                          values='value',\n",
    "                                          aggfunc='first').reset_index()\n",
    "\n",
    "    print(\"=== Combined quantiles (10%, 90%) and mean for each loss column ===\")\n",
    "    print(result_wide.to_string(index=False))"
   ]
  }
 ],
 "metadata": {
  "kernelspec": {
   "display_name": "base",
   "language": "python",
   "name": "python3"
  },
  "language_info": {
   "codemirror_mode": {
    "name": "ipython",
    "version": 3
   },
   "file_extension": ".py",
   "mimetype": "text/x-python",
   "name": "python",
   "nbconvert_exporter": "python",
   "pygments_lexer": "ipython3",
   "version": "3.12.7"
  }
 },
 "nbformat": 4,
 "nbformat_minor": 5
}
