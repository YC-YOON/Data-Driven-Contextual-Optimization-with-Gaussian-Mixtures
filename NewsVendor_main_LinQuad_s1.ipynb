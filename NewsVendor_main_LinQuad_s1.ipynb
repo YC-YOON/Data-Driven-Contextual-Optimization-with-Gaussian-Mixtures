{
 "cells": [
  {
   "cell_type": "code",
   "execution_count": 1,
   "id": "9165c043169a10e7",
   "metadata": {
    "ExecuteTime": {
     "end_time": "2025-08-14T01:36:05.590389Z",
     "start_time": "2025-08-14T01:36:05.583869Z"
    }
   },
   "outputs": [],
   "source": [
    "import random\n",
    "import numpy as np\n",
    "import pandas as pd\n",
    "from pandas.core.missing import validate_limit_direction\n",
    "from sklearn.mixture import GaussianMixture\n",
    "from sklearn.mixture import BayesianGaussianMixture\n",
    "from sklearn.neighbors import KernelDensity\n",
    "import matplotlib.pyplot as plt\n",
    "from sklearn.preprocessing import StandardScaler\n",
    "from sklearn.linear_model import LinearRegression\n",
    "from scipy.stats import multivariate_normal\n",
    "from scipy.stats import truncnorm\n",
    "from sklearn.neighbors import NearestNeighbors\n",
    "from tqdm import tqdm\n",
    "import cvxpy as cp\n",
    "import gurobipy as gp\n",
    "from gurobipy import GRB\n",
    "from Newsvendor import Newsvendor\n",
    "from joblib import Parallel, delayed\n",
    "import torch\n",
    "import normflows as nf\n",
    "import matplotlib.pyplot as plt\n",
    "from itertools import product\n",
    "from torch.utils.data import TensorDataset, DataLoader, random_split\n",
    "import os\n",
    "import pickle\n",
    "from sklearn.neighbors import KernelDensity\n",
    "# np.set_printoptions(threshold=np.inf)\n",
    "# np.set_printoptions(linewidth=200)\n",
    "\n"
   ]
  },
  {
   "cell_type": "code",
   "execution_count": 2,
   "id": "77b4668e9db99a6f",
   "metadata": {
    "ExecuteTime": {
     "end_time": "2025-08-14T01:36:05.612178Z",
     "start_time": "2025-08-14T01:36:05.607715Z"
    }
   },
   "outputs": [],
   "source": [
    "# def set_all_seeds(seed=42):\n",
    "#     random.seed(seed)\n",
    "#     np.random.seed(seed)\n",
    "#     torch.manual_seed(seed)\n",
    "#     torch.cuda.manual_seed_all(seed)  # if using CUDA\n",
    "#     os.environ[\"PYTHONHASHSEED\"] = str(seed)\n",
    "#     torch.backends.cudnn.deterministic = True\n",
    "#     torch.backends.cudnn.benchmark = False\n",
    "\n",
    "# def save_random_states(path='random_states.pkl'):\n",
    "#     states = {\n",
    "#         'random': random.getstate(),\n",
    "#         'numpy': np.random.get_state(),\n",
    "#         'torch': torch.get_rng_state(),\n",
    "#     }\n",
    "#     if torch.cuda.is_available():\n",
    "#         states['torch_cuda'] = torch.cuda.get_rng_state()\n",
    "#     with open(path, 'wb') as f:\n",
    "#         pickle.dump(states, f)\n",
    "\n",
    "# def load_random_states(path='random_states.pkl'):\n",
    "#     with open(path, 'rb') as f:\n",
    "#         states = pickle.load(f)\n",
    "#     random.setstate(states['random'])\n",
    "#     np.random.set_state(states['numpy'])\n",
    "#     torch.set_rng_state(states['torch'])\n",
    "#     if torch.cuda.is_available() and 'torch_cuda' in states:\n",
    "#         torch.cuda.set_rng_state(states['torch_cuda'])\n",
    "\n",
    "# set_all_seeds(42)\n",
    "# load_random_states(path='random_states_NV_5d_NF_X_new.pkl')"
   ]
  },
  {
   "cell_type": "code",
   "execution_count": 3,
   "id": "9231860292694463",
   "metadata": {
    "ExecuteTime": {
     "end_time": "2025-08-14T01:36:05.645782Z",
     "start_time": "2025-08-14T01:36:05.631125Z"
    }
   },
   "outputs": [],
   "source": [
    "# -- Implementation 2 ---\n",
    "######################### 2-Wass GMM DRO function ###################################\n",
    "def NewsVendor_2_Wass(xi, eps, h, b):\n",
    "    xi = xi.astype(float)\n",
    "    N = xi.shape[0]\n",
    "    lda = cp.Variable(nonneg = True)\n",
    "    s = cp.Variable(N)\n",
    "    theta = cp.Variable(nonneg = True)\n",
    "    q = cp.Variable(nonneg = True)\n",
    "\n",
    "    const = []\n",
    "    for i in range(N):\n",
    "        const.append(cp.norm2(cp.hstack([2 * lda * xi[i] + theta - h, lda * (xi[i]**2) - h * q + s[i] - lda])) <= lda * (xi[i]**2) - h * q + s[i] +lda)\n",
    "        const.append(cp.norm2(cp.hstack([2 * lda * xi[i] + theta + b, lda * (xi[i]**2) + b * q + s[i] - lda])) <= lda * (xi[i]**2) + b * q + s[i] +lda)\n",
    "        const.append(lda * (xi[i]**2) - h * q + s[i] >= 0)\n",
    "        const.append(lda * (xi[i]**2) + b * q + s[i] >= 0)\n",
    "\n",
    "    obj = cp.Minimize(lda * (eps**2) + (1 / N) * cp.sum(s))\n",
    "    prob = cp.Problem(obj, const)\n",
    "    prob.solve(solver = cp.MOSEK, verbose = False)\n",
    "\n",
    "    return q.value\n",
    "\n",
    "def generate_data(n, dim_s, dim_xi):\n",
    "    s = np.random.uniform(-2, 2, size=(n, dim_s))\n",
    "    b = 50\n",
    "    W1 = 0.3 * np.ones((dim_xi, dim_s))\n",
    "    W2 = 5 * np.ones((dim_xi, dim_s))\n",
    "    eps1 = np.random.uniform(-2, 2, size=(n, dim_xi))\n",
    "    eps2 = np.random.uniform(-2, 2, size=(n, dim_xi))\n",
    "    lin  = s @ W1.T\n",
    "    quad = (s**2) @ W2.T\n",
    "    xi1 = lin + b + eps1\n",
    "    xi2 = quad + b - 10 + eps2\n",
    "    p = np.random.rand(n)\n",
    "    xi = np.where(p[:, None] > 0.5, xi1, xi2)\n",
    "    return s, xi, W1, W2\n",
    "\n",
    "def transforming_conditional(s, num_components, mu_k, sig_k, p_k, dim_s):\n",
    "    reg = 1e-6\n",
    "    mu_cond, cov_cond, weights = [], [], []\n",
    "    for k in range(num_components):\n",
    "        mu = mu_k[k]\n",
    "        sigma = sig_k[k]\n",
    "        mu_s = mu[:dim_s]\n",
    "        mu_xi = mu[dim_s:]\n",
    "        sigma_ss = sigma[:dim_s, :dim_s]\n",
    "        sigma_sx = sigma[:dim_s, dim_s:]\n",
    "        sigma_xs = sigma[dim_s:, :dim_s]\n",
    "        sigma_xx = sigma[dim_s:, dim_s:]\n",
    "        sigma_ss += reg * np.eye(dim_s)\n",
    "        try:\n",
    "            sigma_ss_inv = np.linalg.inv(sigma_ss)\n",
    "        except np.linalg.LinAlgError:\n",
    "            sigma_ss_inv = np.linalg.pinv(sigma_ss)\n",
    "        cond_mu = mu_xi + sigma_xs @ sigma_ss_inv @ (s - mu_s)\n",
    "        cond_cov = sigma_xx - sigma_xs @ sigma_ss_inv @ sigma_sx\n",
    "        cond_cov = 0.5 * (cond_cov + cond_cov.T)  \n",
    "        eigvals = np.linalg.eigvalsh(cond_cov)\n",
    "        if np.any(eigvals <= 1e-10):\n",
    "            cond_cov += reg * np.eye(cond_cov.shape[0])\n",
    "        try:\n",
    "            weight = p_k[k] * multivariate_normal.pdf(s, mean=mu_s, cov=sigma_ss)\n",
    "        except:\n",
    "            weight = 0.0\n",
    "        mu_cond.append(cond_mu)\n",
    "        cov_cond.append(cond_cov)\n",
    "        weights.append(weight)\n",
    "    weights = np.array(weights)\n",
    "    if np.any(np.isnan(weights)) or weights.sum() <= 1e-12:\n",
    "        weights = np.ones_like(weights) / len(weights)\n",
    "    else:\n",
    "        weights /= weights.sum()\n",
    "    return np.array(mu_cond), np.array(cov_cond), weights\n",
    "\n",
    "def MC_sampling(K, N, mu_list, cov_list, p_list):\n",
    "    d = mu_list.shape[1]\n",
    "    samples = np.zeros((N, d))\n",
    "    for i in range(N):\n",
    "        k = np.random.choice(K, p=p_list)\n",
    "        samples[i] = np.random.multivariate_normal(mu_list[k], cov_list[k])\n",
    "    return samples\n",
    "\n",
    "def oos_loss(q, s, h, b, W1, W2, dim_xi=1):\n",
    "    n = 100000\n",
    "    s = s.reshape(1, -1)     \n",
    "    eps1 = np.random.uniform(-2, 2, size=(n, dim_xi))\n",
    "    eps2 = np.random.uniform(-2, 2, size=(n, dim_xi))\n",
    "    lin  = s @ W1.T\n",
    "    quad = (s**2) @ W2.T\n",
    "    xi1 = lin + 50 + eps1\n",
    "    xi2 = quad + 40 + eps2\n",
    "    p = np.random.rand(n)\n",
    "    xi_samples = np.where(p[:, None] > 0.5, xi1, xi2)\n",
    "    q = np.array(q).reshape(1, -1)\n",
    "    if q.shape[1] == 1 and dim_xi > 1:\n",
    "        q = np.tile(q, (1, dim_xi))\n",
    "    losses = h * np.maximum(q - xi_samples, 0) + b * np.maximum(xi_samples - q, 0)\n",
    "    return np.mean(losses)\n",
    "\n",
    "def oos_loss_valid(q, xi, h, b):\n",
    "    loss = h * np.maximum(q - xi, 0) + b * np.maximum(xi - q, 0)\n",
    "    return np.mean(loss)\n",
    "\n",
    "def select_K_by_AIC(z_np, max_K):\n",
    "    aic_scores = []\n",
    "    models = []\n",
    "    for k in range(1, max_K + 1):\n",
    "        gmm = GaussianMixture(n_components=k)\n",
    "        gmm.fit(z_np)\n",
    "        aic = gmm.aic(z_np)\n",
    "        aic_scores.append(aic)\n",
    "        models.append(gmm)\n",
    "    best_index = np.argmin(aic_scores)\n",
    "    best_K = best_index + 1\n",
    "    return best_K\n",
    "\n",
    "def cv_GMM(N, max_K, eps_list, xi, s, h, b, hidden_node, hidden_layer, block_size, num_bins, total_epoch, device):\n",
    "    dim_s, dim_xi = s.shape[1], xi.shape[1]\n",
    "    latent_size = dim_s+dim_xi\n",
    "    X = np.concatenate([s, xi], axis=1)           \n",
    "    split = int(len(X) * 0.9)\n",
    "    train, val = X[:split], X[split:]\n",
    "\n",
    "    s_train, xi_train = train[:, :dim_s], train[:, dim_s:]\n",
    "    s_val,   xi_val   = val[:,   :dim_s], val[:,   dim_s:]\n",
    "\n",
    "    scaler_s  = StandardScaler().fit(s_train)\n",
    "    scaler_xi = StandardScaler().fit(xi_train)\n",
    "\n",
    "    s_train_std  = scaler_s.transform(s_train)\n",
    "    xi_train_std = scaler_xi.transform(xi_train)\n",
    "    s_val_std    = scaler_s.transform(s_val)      \n",
    "\n",
    "    data_train_std = np.concatenate([s_train_std, xi_train_std], axis=1)\n",
    "    x_train_tensor = torch.tensor(data_train_std, dtype=torch.float32).to(device)\n",
    "    \n",
    "    best_K = select_K_by_AIC(data_train_std, max_K=max_K)\n",
    "\n",
    "    cov_type = 'full' if dim_s <= 10 else 'diag'\n",
    "    gmm_x = GaussianMixture(n_components=best_K, covariance_type=cov_type, reg_covar=1e-2).fit(data_train_std)\n",
    "    mu_x, cov_x, p_x = gmm_x.means_, gmm_x.covariances_, gmm_x.weights_\n",
    "    sig_x = np.array([np.diag(cov) for cov in cov_x]) if cov_type == 'diag' else cov_x\n",
    "\n",
    "    nfm, _ = train_nf_model(latent_size, best_K, hidden_node, hidden_layer, block_size, num_bins, total_epoch, x_train_tensor, device)\n",
    "\n",
    "    gamma_std_list = []\n",
    "    for j in range(s_val_std.shape[0]):\n",
    "        s_j_std = s_val_std[j].ravel()  # (dim_s,)\n",
    "        mu_cond_x, cov_cond_x, w_x = transforming_conditional(s=s_j_std, num_components=best_K, mu_k=mu_x, sig_k=sig_x, p_k=p_x, dim_s=dim_s)\n",
    "        xi_hat_std = (w_x[:, None] * mu_cond_x).sum(axis=0, keepdims=True)  # (1, dim_xi)\n",
    "        gamma_std_list.append(np.hstack([s_j_std.reshape(1, -1), xi_hat_std]))  # (1, dim_s+dim_xi)\n",
    "    s_val_aug_std = np.vstack(gamma_std_list)  # (n_val, dim_s+dim_xi)\n",
    "    s_tensor = torch.tensor(s_val_aug_std, dtype=torch.float32).to(device)\n",
    "\n",
    "    z_s_val = inverse(nfm, s_tensor)\n",
    "    z_s_val = z_s_val[:, :dim_s]\n",
    "    z_sample_np = inverse(nfm, x_train_tensor)\n",
    "\n",
    "    cov_type = 'full' if dim_s <= 10 else 'diag'\n",
    "    gmm_z = GaussianMixture(n_components=best_K, covariance_type=cov_type, reg_covar=1e-2).fit(z_sample_np)\n",
    "    mu_z, cov_z, p_z = gmm_z.means_, gmm_z.covariances_, gmm_z.weights_\n",
    "    sig_z = np.array([np.diag(cov) for cov in cov_z]) if cov_type == 'diag' else cov_z\n",
    "\n",
    "    best_eps_result = {'eps': None, 'score': float('inf')}\n",
    "    for eps in eps_list:\n",
    "        valid_score = 0.0\n",
    "        for j in range(z_s_val.shape[0]):\n",
    "            z_s_j = z_s_val[j].ravel()  # (dim_s,)\n",
    "            mu_cond, cov_cond, p_cond = transforming_conditional(s=z_s_j, num_components=best_K, mu_k=mu_z, sig_k=sig_z, p_k=p_z, dim_s=dim_s)\n",
    "            z_xi_sample = MC_sampling(best_K, 500, mu_cond, cov_cond, p_cond)  # (500, dim_xi)\n",
    "            z_full = np.hstack([np.repeat(z_s_j.reshape(1, -1), 500, axis=0), z_xi_sample])  # (500, dim_s+dim_xi)\n",
    "            z_tensor = torch.tensor(z_full, dtype=torch.float32).to(device)\n",
    "            xi_sampled_std = forward(nfm, z_tensor)[:, dim_s:]\n",
    "            xi_sampled = scaler_xi.inverse_transform(xi_sampled_std)\n",
    "            xi_sampled = np.maximum(xi_sampled, 0)\n",
    "            q_gmm = NewsVendor_2_Wass(xi_sampled, eps, h, b)\n",
    "            valid_score += oos_loss_valid(q_gmm, xi_val[j], h, b)\n",
    "\n",
    "        # print(f\"[eps={eps:.4f}] Validation Score = {valid_score:.4f}\")\n",
    "        if valid_score < best_eps_result['score']:\n",
    "            best_eps_result.update({'eps': eps, 'score': valid_score})\n",
    "\n",
    "    return best_K, best_eps_result['eps']\n",
    "\n",
    "def cv_GMM_nonNF(N, max_K, eps_list, xi, s, h, b, hidden_node, hidden_layer, block_size, num_bins, total_epoch, device):\n",
    "    # ----- split -----\n",
    "    dim_s, dim_xi = s.shape[1], xi.shape[1]\n",
    "    X = np.concatenate([s, xi], axis=1)           \n",
    "    split = int(len(X) * 0.9)\n",
    "    train, val = X[:split], X[split:]\n",
    "\n",
    "    s_train, xi_train = train[:, :dim_s], train[:, dim_s:]\n",
    "    s_val,   xi_val   = val[:,   :dim_s], val[:,   dim_s:]\n",
    "\n",
    "    scaler_s  = StandardScaler().fit(s_train)\n",
    "    scaler_xi = StandardScaler().fit(xi_train)\n",
    "\n",
    "    s_train_std  = scaler_s.transform(s_train)\n",
    "    xi_train_std = scaler_xi.transform(xi_train)\n",
    "    s_val_std    = scaler_s.transform(s_val)      \n",
    "\n",
    "    data_train_std = np.concatenate([s_train_std, xi_train_std], axis=1)\n",
    "    best_K = select_K_by_AIC(data_train_std, max_K=max_K)\n",
    "\n",
    "    # --- Fit GMM on x_std\n",
    "    cov_type = 'full' if dim_s <= 10 else 'diag'\n",
    "    gmm_x = GaussianMixture(n_components=best_K, covariance_type=cov_type, reg_covar=1e-2).fit(data_train_std)\n",
    "    mu_x, cov_x, p_x = gmm_x.means_, gmm_x.covariances_, gmm_x.weights_\n",
    "    sig_x = np.array([np.diag(cov) for cov in cov_x]) if cov_type == 'diag' else cov_x\n",
    "    \n",
    "    # --- Grid over eps to pick best by validation\n",
    "    best_eps_result = {'eps': None, 'score': float('inf')}\n",
    "    num_mc = 500\n",
    "\n",
    "    for eps in eps_list:\n",
    "        valid_score = 0.0\n",
    "\n",
    "        for j in range(s_val.shape[0]):\n",
    "            s_j = s_val_std[j].ravel()  \n",
    "            mu_cond_x, cov_cond_x, p_cond_x = transforming_conditional(s=s_j, num_components=best_K,mu_k=mu_x, sig_k=sig_x, p_k=p_x, dim_s=dim_s)\n",
    "            xi_sampled_std = MC_sampling(best_K, num_mc, mu_cond_x, cov_cond_x, p_cond_x)\n",
    "            xi_sampled = scaler_xi.inverse_transform(xi_sampled_std)\n",
    "            xi_sampled = np.maximum(xi_sampled, 0)\n",
    "            q_gmm= NewsVendor_2_Wass(xi_sampled, eps, h, b)\n",
    "            valid_score += oos_loss_valid(q_gmm, xi_val[j], h, b)\n",
    "\n",
    "        # print(f\"[NON-NF GMM] [K={best_K}] [eps={eps:.4f}] Validation Score = {valid_score:.6f}\")\n",
    "        if valid_score < best_eps_result['score']:\n",
    "            best_eps_result.update({'eps': eps, 'score': valid_score})\n",
    "\n",
    "    return best_K, best_eps_result['eps']"
   ]
  },
  {
   "cell_type": "code",
   "execution_count": 4,
   "id": "239f9932e6c6aafb",
   "metadata": {
    "ExecuteTime": {
     "end_time": "2025-08-14T01:36:05.660111Z",
     "start_time": "2025-08-14T01:36:05.655069Z"
    }
   },
   "outputs": [],
   "source": [
    "def train_nf_model(latent_size, best_K, hidden_node, hidden_layer, num_bins, block_size, total_epoch, x, device, batch_size=64, lr=1e-3, patience=30, val_split=0.2):\n",
    "\n",
    "    x_np = x.cpu().numpy()\n",
    "    gmm = GaussianMixture(n_components=best_K, covariance_type='diag', reg_covar=1e-2).fit(x_np)\n",
    "    means = torch.tensor(gmm.means_, dtype=torch.float32, device=device)\n",
    "    weights = torch.tensor(gmm.weights_, dtype=torch.float32, device=device)\n",
    "    stds = torch.tensor(np.sqrt(gmm.covariances_), dtype=torch.float32, device=device)\n",
    "\n",
    "    flows = [nf.flows.AutoregressiveRationalQuadraticSpline(latent_size, hidden_layer, hidden_node, num_bins=num_bins) for _ in range(block_size)]\n",
    "    q0 = nf.distributions.GaussianMixture(n_modes=best_K, dim=latent_size, loc=means, scale=stds, weights=weights, trainable=False)\n",
    "    nfm = nf.NormalizingFlow(q0=q0, flows=flows).to(device)\n",
    "    optimizer = torch.optim.Adam(nfm.parameters(), lr=lr)\n",
    "\n",
    "    dataset = TensorDataset(x)\n",
    "    val_size = int(len(dataset) * val_split)\n",
    "    train_size = len(dataset) - val_size\n",
    "    train_dataset, val_dataset = random_split(dataset, [train_size, val_size])\n",
    "\n",
    "    train_loader = DataLoader(train_dataset, batch_size=batch_size, shuffle=True)\n",
    "    val_loader = DataLoader(val_dataset, batch_size=batch_size, shuffle=False)\n",
    "\n",
    "    loss_hist = []\n",
    "    val_loss_hist = []\n",
    "\n",
    "    best_val_loss = float('inf')\n",
    "    patience_counter = 0\n",
    "    best_model_state = None\n",
    "\n",
    "    for epoch in tqdm(range(total_epoch), desc=\"Training NF\", leave=False):\n",
    "        nfm.train()\n",
    "        train_loss_epoch = 0.0\n",
    "        for batch in train_loader:\n",
    "            x_batch = batch[0].to(device)\n",
    "            optimizer.zero_grad()\n",
    "            loss = nfm.forward_kld(x_batch)\n",
    "            if not torch.isnan(loss):\n",
    "                loss.backward()\n",
    "                optimizer.step()\n",
    "                train_loss_epoch += loss.item()\n",
    "\n",
    "        nfm.eval()\n",
    "        val_loss_epoch = 0.0\n",
    "        with torch.no_grad():\n",
    "            for batch in val_loader:\n",
    "                x_batch = batch[0].to(device)\n",
    "                loss = nfm.forward_kld(x_batch)\n",
    "                if not torch.isnan(loss):\n",
    "                    val_loss_epoch += loss.item()\n",
    "\n",
    "        loss_hist.append(train_loss_epoch)\n",
    "        val_loss_hist.append(val_loss_epoch)\n",
    "\n",
    "        if val_loss_epoch < best_val_loss:\n",
    "            best_val_loss = val_loss_epoch\n",
    "            patience_counter = 0\n",
    "            best_model_state = nfm.state_dict()\n",
    "        else:\n",
    "            patience_counter += 1\n",
    "            if patience_counter >= patience:\n",
    "                # print(f\"Early stopping at epoch {epoch+1} (val loss: {val_loss_epoch:.4f})\")\n",
    "                break\n",
    "\n",
    "    if best_model_state is not None:\n",
    "        nfm.load_state_dict(best_model_state)\n",
    "\n",
    "    return nfm, loss_hist\n",
    "\n",
    "def inverse(nfm, x):\n",
    "    with torch.no_grad():\n",
    "        z_np = nfm.inverse(x).cpu().numpy()\n",
    "    return z_np\n",
    "\n",
    "def forward(nfm, z):\n",
    "    with torch.no_grad():\n",
    "        x = nfm.forward(z).cpu().numpy()\n",
    "    return x\n"
   ]
  },
  {
   "cell_type": "code",
   "execution_count": 5,
   "id": "6a8bb0fa",
   "metadata": {
    "ExecuteTime": {
     "end_time": "2025-08-14T01:36:05.677655Z",
     "start_time": "2025-08-14T01:36:05.671635Z"
    }
   },
   "outputs": [],
   "source": [
    "############################### NW function #########################\n",
    "def NW_weights(gamma, gammas, H):\n",
    "    N = len(gammas)\n",
    "    numerator = np.zeros(N)\n",
    "    for i in range(N):\n",
    "        numerator[i] = np.exp(-np.linalg.norm(gammas[i] - gamma) / H)\n",
    "    denominator = numerator.sum()\n",
    "    weight = numerator / denominator if denominator != 0 else np.ones(N) / N\n",
    "    weight = np.round(weight, 6)\n",
    "    weight = weight / weight.sum() if weight.sum() != 0 else np.ones(N) / N\n",
    "    return weight\n",
    "\n",
    "def cv_lda(Cs, C_H, xi, gammas, h, b):\n",
    "    valid_scores = []\n",
    "\n",
    "    split = int(len(xi) * 0.9)\n",
    "    xi_subtrain, xi_valid = xi[:split], xi[split:]\n",
    "    gammas_subtrain, gammas_valid = gammas[:split], gammas[split:]\n",
    "    N = xi_subtrain.shape[0]\n",
    "    dim_s = gammas.shape[1]\n",
    "    H = C_H * 1 / (N ** (1 / 6))\n",
    "\n",
    "    use_kde = dim_s <= 5  # Use KDE only if the dimension is small\n",
    "\n",
    "    if use_kde:\n",
    "        kde = KernelDensity(kernel='exponential', bandwidth=1).fit(gammas_subtrain)\n",
    "\n",
    "    for C in Cs:\n",
    "        valid_score = 0\n",
    "        for j in range(len(gammas_valid)):\n",
    "            gamma = gammas_valid[j]\n",
    "            if use_kde:\n",
    "                g_gamma = np.exp(kde.score_samples(gamma.reshape(1, -1))).item()\n",
    "            else:\n",
    "                g_gamma = 1.0  # fallback default if KDE is not used\n",
    "\n",
    "            lda_0 = 1 / np.sqrt(N * (H ** 2) * g_gamma)\n",
    "            weight = NW_weights(gamma, gammas_subtrain, H)\n",
    "            params = {\n",
    "                \"b\": b,\n",
    "                \"h\": h,\n",
    "                \"gamma\": gamma,\n",
    "                \"xi\": xi_subtrain,\n",
    "                \"weight\": weight,\n",
    "            }\n",
    "            lda = lda_0 * C\n",
    "            News = Newsvendor(reg=lda, verbose=False)\n",
    "            News.fit(params)\n",
    "            q = News.coef_\n",
    "            valid_score += oos_loss_valid(q, xi_valid[j], h, b)\n",
    "\n",
    "        valid_score /= len(gammas_valid)\n",
    "        valid_scores.append(valid_score)\n",
    "\n",
    "    idx = np.argmin(valid_scores)\n",
    "    return Cs[idx]\n",
    "\n",
    "def cv_lda2(Cs,C_H,xi,gammas,H,h,b):\n",
    "    valid_scores=[]\n",
    "\n",
    "    split = int(len(xi) * 0.9)\n",
    "    xi_subtrain, xi_valid = xi[:split], xi[split:]\n",
    "    gammas_subtrain, gammas_valid = gammas[:split], gammas[split:]\n",
    "    \n",
    "    N = xi_subtrain.shape[0]\n",
    "    H=C_H * 1/(N**(1/6))\n",
    "    lda_0 = 1/np.sqrt(N*(H**2))\n",
    "\n",
    "    for i,C in enumerate(Cs):\n",
    "        valid_score = 0\n",
    "        for j in range(gammas_valid.shape[0]):\n",
    "            gamma = gammas_valid[j]\n",
    "            weight=NW_weights(gamma,gammas_subtrain,H)\n",
    "            params={\n",
    "            \"b\":b,\n",
    "            \"h\":h,\n",
    "            \"gamma\": gamma,\n",
    "            \"xi\":xi_subtrain,\n",
    "            \"weight\":weight,\n",
    "            }\n",
    "            lda = C * lda_0\n",
    "            News=Newsvendor(reg=lda,verbose=False)\n",
    "            News.fit(params)\n",
    "            q=News.coef_\n",
    "            valid_score += oos_loss_valid(q,np.array([xi_valid[j]]),h,b)\n",
    "            # valid_score += oos_loss_valid(q,np.array([xi_valid[j]]))\n",
    "        valid_scores.append(valid_score)\n",
    "    # print(valid_scores)\n",
    "    idx=np.argmin(valid_scores)\n",
    "    return(Cs[idx])\n",
    "\n",
    "def cv_H(Cs, xi, gammas, h, b):\n",
    "    valid_scores = []\n",
    "\n",
    "    split = int(len(xi) * 0.9)\n",
    "    xi_subtrain, xi_valid = xi[:split], xi[split:]\n",
    "    gammas_subtrain, gammas_valid = gammas[:split], gammas[split:]\n",
    "    N = xi_subtrain.shape[0]\n",
    "    H_0 = 1 / (N ** (1 / 6))\n",
    "\n",
    "    for i, C in enumerate(Cs):\n",
    "        valid_score = 0\n",
    "        H = C * H_0\n",
    "\n",
    "        for j in range(gammas_valid.shape[0]):\n",
    "            gamma = gammas_valid[j]\n",
    "            weight = NW_weights(gamma, gammas_subtrain, H)\n",
    "\n",
    "            weight = np.round(weight, 6)\n",
    "            weight = weight / weight.sum()\n",
    "            params = {\n",
    "                \"b\": b,\n",
    "                \"h\": h,\n",
    "                \"gamma\": gamma,\n",
    "                \"xi\": xi_subtrain,\n",
    "                \"weight\": weight,\n",
    "            }\n",
    "\n",
    "            News = Newsvendor(reg=0, verbose=False)\n",
    "            News.fit(params)\n",
    "            q = News.coef_\n",
    "            valid_score += oos_loss_valid(q, xi_valid[j], h, b)\n",
    "\n",
    "        valid_scores.append(valid_score)\n",
    "\n",
    "    idx = np.argmin(valid_scores)\n",
    "    return Cs[idx]"
   ]
  },
  {
   "cell_type": "code",
   "execution_count": 6,
   "id": "1ca224f5bdf7c506",
   "metadata": {
    "ExecuteTime": {
     "end_time": "2025-08-14T01:36:05.689423Z",
     "start_time": "2025-08-14T01:36:05.686106Z"
    }
   },
   "outputs": [],
   "source": [
    "########################### Kannan DRO setting ##############################\n",
    "def NewsVendor_1_Wass(xi, eps, h, b):\n",
    "    xi = xi.astype(float)\n",
    "    N = xi.shape[0]\n",
    "    lda = cp.Variable(nonneg=True)\n",
    "    s = cp.Variable(N)\n",
    "    z = cp.Variable((N,2))\n",
    "    q = cp.Variable(nonneg=True)\n",
    "\n",
    "    const = []\n",
    "    for i in range(N):\n",
    "        const.append(h * q + z[i,0] * xi[i] <= s[i])\n",
    "        const.append(-b * q + z[i,1] * xi[i] <= s[i])\n",
    "        const.append(z[i,0] >= -h)\n",
    "        const.append(z[i,1] >= b)\n",
    "        for k in range(2):\n",
    "            const.append(cp.norm_inf(z[i,k]) <= lda)\n",
    "\n",
    "    obj = cp.Minimize(lda * eps  + (1 / N) * cp.sum(s))\n",
    "    prob = cp.Problem(obj, const)\n",
    "    prob.solve(solver = cp.MOSEK)\n",
    "\n",
    "    return q.value \n",
    "\n",
    "def cv_eps_kannan(eps_list, xi, gammas, h, b):\n",
    "    valid_scores = []\n",
    "\n",
    "    split = int(len(xi) - 10)\n",
    "    xi_subtrain, xi_valid = xi[:split], xi[split:]\n",
    "    gammas_subtrain, gammas_valid = gammas[:split], gammas[split:]\n",
    "\n",
    "    model = LinearRegression().fit(gammas_subtrain, xi_subtrain)\n",
    "    residuals = xi_subtrain - model.predict(gammas_subtrain)\n",
    "\n",
    "    for i_eps, eps in enumerate(eps_list):\n",
    "        valid_score = 0\n",
    "        for j in range(len(gammas_valid)):\n",
    "            gamma = gammas_valid[j]\n",
    "            xi_j = np.array([xi_valid[j]])\n",
    "\n",
    "            f_hat = model.predict(gamma.reshape(1, -1)).item()\n",
    "            xi_ER = np.maximum(residuals + f_hat, 0)\n",
    "            q = NewsVendor_1_Wass(xi_ER, eps, h, b)\n",
    "        \n",
    "            valid_score += oos_loss_valid(q, xi_j, h, b)\n",
    "\n",
    "        valid_scores.append((eps, valid_score))\n",
    "\n",
    "    best_eps, _ = min(valid_scores, key=lambda x: x[1])\n",
    "    return best_eps\n"
   ]
  },
  {
   "cell_type": "code",
   "execution_count": 7,
   "id": "8421a8ae3fe1f85c",
   "metadata": {
    "ExecuteTime": {
     "start_time": "2025-08-14T01:36:05.697481Z"
    },
    "jupyter": {
     "is_executing": true
    }
   },
   "outputs": [
    {
     "name": "stdout",
     "output_type": "stream",
     "text": [
      "✅✅✅✅✅✅✅Running trials for dim_s = 1✅✅✅✅✅✅✅✅\n"
     ]
    },
    {
     "name": "stderr",
     "output_type": "stream",
     "text": [
      " 20%|██        | 20/100 [00:00<00:00, 95.91it/s]"
     ]
    },
    {
     "name": "stdout",
     "output_type": "stream",
     "text": [
      "NW Finished 1 trial for N = 100, 10.117602573703936\n",
      "NW Finished 16 trial for N = 100, 10.126534520936978\n",
      "NW Finished 11 trial for N = 100, 10.749106198483025\n",
      "NW Finished 8 trial for N = 100, 12.737941659719791\n",
      "NW Finished 9 trial for N = 100, 12.856284872808045\n",
      "NW Finished 10 trial for N = 100, 11.343478325953479\n",
      "NW Finished 12 trial for N = 100, 10.66802426652281\n",
      "NW Finished 17 trial for N = 100, 8.34136196442147\n",
      "NW Finished 19 trial for N = 100, 10.136390066954633\n",
      "NW Finished 18 trial for N = 100, 9.483211969450961\n",
      "NW Finished 0 trial for N = 100, 11.7411910960428\n",
      "NW Finished 5 trial for N = 100, 11.963571143213924\n",
      "NW Finished 6 trial for N = 100, 9.917767759935273\n",
      "NW Finished 3 trial for N = 100, 14.418772818449781\n",
      "NW Finished 13 trial for N = 100, 11.621054862962021\n",
      "NW Finished 7 trial for N = 100, 9.60854607455858\n",
      "NW Finished 2 trial for N = 100, 10.790084294869944\n",
      "NW Finished 4 trial for N = 100, 10.665219099187487\n",
      "NW Finished 15 trial for N = 100, 10.771477427376873\n",
      "NW Finished 14 trial for N = 100, 12.190215761368652\n"
     ]
    },
    {
     "name": "stderr",
     "output_type": "stream",
     "text": [
      "                                                             \r"
     ]
    },
    {
     "name": "stdout",
     "output_type": "stream",
     "text": [
      "11 trial : 3, 0.05\n"
     ]
    },
    {
     "name": "stderr",
     "output_type": "stream",
     "text": [
      "                                                              \r"
     ]
    },
    {
     "name": "stdout",
     "output_type": "stream",
     "text": [
      "16 trial : 3, 0.01\n"
     ]
    },
    {
     "name": "stderr",
     "output_type": "stream",
     "text": [
      "                                                              \r"
     ]
    },
    {
     "name": "stdout",
     "output_type": "stream",
     "text": [
      "19 trial : 3, 0.01\n"
     ]
    },
    {
     "name": "stderr",
     "output_type": "stream",
     "text": [
      "                                                              \r"
     ]
    },
    {
     "name": "stdout",
     "output_type": "stream",
     "text": [
      "8 trial : 3, 0.05\n",
      "10 trial : 3, 1\n",
      "12 trial : 3, 0.05\n",
      "1 trial : 3, 1\n"
     ]
    },
    {
     "name": "stderr",
     "output_type": "stream",
     "text": [
      "Training NF:   0%|          | 0/200 [00:00<?, ?it/s]          "
     ]
    },
    {
     "name": "stdout",
     "output_type": "stream",
     "text": [
      "14 trial : 3, 1\n"
     ]
    },
    {
     "name": "stderr",
     "output_type": "stream",
     "text": [
      "                                                              \r"
     ]
    },
    {
     "name": "stdout",
     "output_type": "stream",
     "text": [
      "9 trial : 3, 1\n",
      "0 trial : 3, 0.5\n"
     ]
    },
    {
     "name": "stderr",
     "output_type": "stream",
     "text": [
      "                                                              \r"
     ]
    },
    {
     "name": "stdout",
     "output_type": "stream",
     "text": [
      "15 trial : 3, 0.01\n",
      "7 trial : 2, 0.1\n",
      "17 trial : 3, 1\n"
     ]
    },
    {
     "name": "stderr",
     "output_type": "stream",
     "text": [
      "Training NF:   0%|          | 0/200 [00:00<?, ?it/s]29.31it/s]"
     ]
    },
    {
     "name": "stdout",
     "output_type": "stream",
     "text": [
      "5 trial : 3, 0.05\n",
      "4 trial : 3, 0.1\n",
      "13 trial : 2, 0.05\n",
      "3 trial : 3, 0.5\n"
     ]
    },
    {
     "name": "stderr",
     "output_type": "stream",
     "text": [
      "Training NF:  27%|██▋       | 54/200 [00:00<00:00, 243.14it/s]"
     ]
    },
    {
     "name": "stdout",
     "output_type": "stream",
     "text": [
      "18 trial : 3, 0.01\n",
      "6 trial : 3, 0.5\n"
     ]
    },
    {
     "name": "stderr",
     "output_type": "stream",
     "text": [
      "                                                               \r"
     ]
    },
    {
     "name": "stdout",
     "output_type": "stream",
     "text": [
      "2 trial : 3, 0.5\n"
     ]
    },
    {
     "name": "stderr",
     "output_type": "stream",
     "text": [
      "                                                              \r"
     ]
    },
    {
     "name": "stdout",
     "output_type": "stream",
     "text": [
      "Trial 11 : NF-GMM Finished 11 trial for N = 100\n",
      "Trial 16 : NF-GMM Finished 16 trial for N = 100\n",
      "Trial 19 : NF-GMM Finished 19 trial for N = 100\n",
      "Trial 10 : NF-GMM Finished 10 trial for N = 100\n",
      "Trial 1 : NF-GMM Finished 1 trial for N = 100\n",
      "Trial 12 : NF-GMM Finished 12 trial for N = 100\n",
      "Trial 8 : NF-GMM Finished 8 trial for N = 100\n",
      "Trial 14 : NF-GMM Finished 14 trial for N = 100\n",
      "Trial 0 : NF-GMM Finished 0 trial for N = 100\n",
      "Trial 9 : NF-GMM Finished 9 trial for N = 100\n",
      "Trial 15 : NF-GMM Finished 15 trial for N = 100\n",
      "Trial 17 : NF-GMM Finished 17 trial for N = 100\n",
      "Trial 5 : NF-GMM Finished 5 trial for N = 100\n",
      "Trial 4 : NF-GMM Finished 4 trial for N = 100\n",
      "Trial 7 : NF-GMM Finished 7 trial for N = 100\n",
      "Trial 13 : NF-GMM Finished 13 trial for N = 100\n",
      "Trial 3 : NF-GMM Finished 3 trial for N = 100\n",
      "Trial 18 : NF-GMM Finished 18 trial for N = 100\n",
      "Trial 6 : NF-GMM Finished 6 trial for N = 100\n",
      "Trial 2 : NF-GMM Finished 2 trial for N = 100\n",
      "Trial 11 : GMM (non-NF) Finished for N = 100\n",
      "Trial 16 : GMM (non-NF) Finished for N = 100\n",
      "Trial 19 : GMM (non-NF) Finished for N = 100\n",
      "Trial 14 : GMM (non-NF) Finished for N = 100\n",
      "Trial 8 : GMM (non-NF) Finished for N = 100\n",
      "Trial 1 : GMM (non-NF) Finished for N = 100\n",
      "Trial 9 : GMM (non-NF) Finished for N = 100\n",
      "Trial 10 : GMM (non-NF) Finished for N = 100\n",
      "Trial 12 : GMM (non-NF) Finished for N = 100\n",
      "Trial 0 : GMM (non-NF) Finished for N = 100\n",
      "Trial 7 : GMM (non-NF) Finished for N = 100\n",
      "Trial 4 : GMM (non-NF) Finished for N = 100\n",
      "Trial 17 : GMM (non-NF) Finished for N = 100\n",
      "Trial 15 : GMM (non-NF) Finished for N = 100\n",
      "Trial 18 : GMM (non-NF) Finished for N = 100\n",
      "Trial 5 : GMM (non-NF) Finished for N = 100\n",
      "Trial 6 : GMM (non-NF) Finished for N = 100\n",
      "Trial 13 : GMM (non-NF) Finished for N = 100\n",
      "Trial 3 : GMM (non-NF) Finished for N = 100\n",
      "Trial 2 : GMM (non-NF) Finished for N = 100\n",
      "Kanna Best eps at 11 trial for N = 100 : 1\n"
     ]
    },
    {
     "name": "stderr",
     "output_type": "stream",
     "text": [
      " 40%|████      | 40/100 [06:23<11:17, 11.29s/it]"
     ]
    },
    {
     "name": "stdout",
     "output_type": "stream",
     "text": [
      "KANNAN Finished 11 trial for N = 100\n",
      "NF-gmm,nonNF-gmm,kannan,nw : 10.715115148347067, 10.646880128977019, 11.946911170061052, 10.749106198483025\n",
      "Kanna Best eps at 16 trial for N = 100 : 0.05\n",
      "Kanna Best eps at 19 trial for N = 100 : 0.05\n",
      "KANNAN Finished 16 trial for N = 100\n",
      "NF-gmm,nonNF-gmm,kannan,nw : 8.724910869817178, 8.963979922870681, 10.342361577390095, 10.126534520936978\n",
      "KANNAN Finished 19 trial for N = 100\n",
      "NF-gmm,nonNF-gmm,kannan,nw : 7.086560855211913, 5.959686179212058, 12.470405035694272, 10.136390066954633\n",
      "Kanna Best eps at 14 trial for N = 100 : 0.01\n",
      "KANNAN Finished 14 trial for N = 100\n",
      "NF-gmm,nonNF-gmm,kannan,nw : 6.3277033058858025, 7.190570646402659, 16.90957354701225, 12.190215761368652\n",
      "Kanna Best eps at 8 trial for N = 100 : 1\n",
      "KANNAN Finished 8 trial for N = 100\n",
      "NF-gmm,nonNF-gmm,kannan,nw : 12.727161960378895, 12.779343941340073, 15.553147601992544, 12.737941659719791\n",
      "Kanna Best eps at 1 trial for N = 100 : 0.01\n",
      "Kanna Best eps at 12 trial for N = 100 : 0.05\n",
      "Kanna Best eps at 10 trial for N = 100 : 1\n",
      "Kanna Best eps at 9 trial for N = 100 : 0.05\n",
      "Kanna Best eps at 0 trial for N = 100 : 1\n",
      "KANNAN Finished 1 trial for N = 100\n",
      "NF-gmm,nonNF-gmm,kannan,nw : 10.880147740894373, 10.64130317669022, 16.69827710561369, 10.117602573703936\n",
      "KANNAN Finished 12 trial for N = 100\n",
      "NF-gmm,nonNF-gmm,kannan,nw : 10.582797425384456, 10.594655318916827, 10.54818386883716, 10.66802426652281\n",
      "KANNAN Finished 10 trial for N = 100\n",
      "NF-gmm,nonNF-gmm,kannan,nw : 9.067701758644903, 9.397378109204483, 13.193813019429312, 11.343478325953479\n",
      "KANNAN Finished 9 trial for N = 100\n",
      "NF-gmm,nonNF-gmm,kannan,nw : 13.009295224433648, 12.524851272934391, 16.168904641401987, 12.856284872808045\n",
      "KANNAN Finished 0 trial for N = 100\n",
      "NF-gmm,nonNF-gmm,kannan,nw : 13.109028394756322, 12.058012427926705, 14.352130190514316, 11.7411910960428\n",
      "Kanna Best eps at 7 trial for N = 100 : 0.05\n",
      "Kanna Best eps at 15 trial for N = 100 : 1\n",
      "Kanna Best eps at 4 trial for N = 100 : 0.05\n",
      "KANNAN Finished 7 trial for N = 100\n",
      "NF-gmm,nonNF-gmm,kannan,nw : 5.68016058497682, 6.204636178115694, 11.819149128163527, 9.60854607455858\n",
      "KANNAN Finished 15 trial for N = 100\n",
      "NF-gmm,nonNF-gmm,kannan,nw : 11.34810392890904, 10.768307445957214, 13.475283782684752, 10.771477427376873\n",
      "KANNAN Finished 4 trial for N = 100\n",
      "NF-gmm,nonNF-gmm,kannan,nw : 10.03204140930366, 11.923219245776133, 10.124082759698023, 10.665219099187487\n",
      "Kanna Best eps at 17 trial for N = 100 : 0.01\n",
      "KANNAN Finished 17 trial for N = 100\n",
      "NF-gmm,nonNF-gmm,kannan,nw : 4.9945119207592095, 4.929052746270279, 13.23371722179766, 8.34136196442147\n",
      "Kanna Best eps at 6 trial for N = 100 : 0.01\n",
      "Kanna Best eps at 18 trial for N = 100 : 0.01\n",
      "Kanna Best eps at 5 trial for N = 100 : 0.05\n",
      "Kanna Best eps at 13 trial for N = 100 : 0.05\n",
      "KANNAN Finished 6 trial for N = 100\n",
      "NF-gmm,nonNF-gmm,kannan,nw : 7.863520577503709, 7.597052877739219, 18.828925216159764, 9.917767759935273\n",
      "KANNAN Finished 18 trial for N = 100\n",
      "NF-gmm,nonNF-gmm,kannan,nw : 9.734635248152834, 10.6163867624274, 11.241840098119916, 9.483211969450961\n",
      "Kanna Best eps at 3 trial for N = 100 : 1\n",
      "KANNAN Finished 5 trial for N = 100\n",
      "NF-gmm,nonNF-gmm,kannan,nw : 12.057793817185866, 12.490505878153488, 14.428114906140946, 11.963571143213924\n",
      "KANNAN Finished 13 trial for N = 100\n",
      "NF-gmm,nonNF-gmm,kannan,nw : 13.112691791252349, 11.618257836864982, 16.76476417317606, 11.621054862962021\n",
      "KANNAN Finished 3 trial for N = 100\n",
      "NF-gmm,nonNF-gmm,kannan,nw : 12.666801305879202, 12.769137933702424, 17.863485526362922, 14.418772818449781\n",
      "Kanna Best eps at 2 trial for N = 100 : 0.01\n",
      "KANNAN Finished 2 trial for N = 100\n",
      "NF-gmm,nonNF-gmm,kannan,nw : 7.172833873088839, 6.152091175272085, 13.689271225337997, 10.790084294869944\n",
      "NW Finished 20 trial for N = 100, 11.623805996124272\n"
     ]
    },
    {
     "name": "stderr",
     "output_type": "stream",
     "text": [
      "                                                             \r"
     ]
    },
    {
     "name": "stdout",
     "output_type": "stream",
     "text": [
      "NW Finished 21 trial for N = 100, 8.868534063836774\n"
     ]
    },
    {
     "name": "stderr",
     "output_type": "stream",
     "text": [
      "Training NF:   0%|          | 0/300 [00:00<?, ?it/s]9.58it/s]"
     ]
    },
    {
     "name": "stdout",
     "output_type": "stream",
     "text": [
      "NW Finished 22 trial for N = 100, 8.358514134914074\n"
     ]
    },
    {
     "name": "stderr",
     "output_type": "stream",
     "text": [
      "Training NF:   5%|▌         | 15/300 [00:00<00:08, 35.27it/s]"
     ]
    },
    {
     "name": "stdout",
     "output_type": "stream",
     "text": [
      "NW Finished 23 trial for N = 100, 10.446879229085276\n"
     ]
    },
    {
     "name": "stderr",
     "output_type": "stream",
     "text": [
      "Training NF:   0%|          | 0/300 [00:00<?, ?it/s]9.85it/s]"
     ]
    },
    {
     "name": "stdout",
     "output_type": "stream",
     "text": [
      "NW Finished 24 trial for N = 100, 10.77673764740636\n"
     ]
    },
    {
     "name": "stderr",
     "output_type": "stream",
     "text": [
      "Training NF:   3%|▎         | 9/300 [00:00<00:07, 37.74it/s] "
     ]
    },
    {
     "name": "stdout",
     "output_type": "stream",
     "text": [
      "NW Finished 25 trial for N = 100, 12.539222818755105\n",
      "NW Finished 27 trial for N = 100, 10.582992525983396\n"
     ]
    },
    {
     "name": "stderr",
     "output_type": "stream",
     "text": [
      "Training NF:   1%|          | 3/300 [00:00<00:11, 25.26it/s]]"
     ]
    },
    {
     "name": "stdout",
     "output_type": "stream",
     "text": [
      "NW Finished 26 trial for N = 100, 12.808940902882814\n",
      "NW Finished 28 trial for N = 100, 9.443626739877885\n",
      "NW Finished 29 trial for N = 100, 12.710169047941537\n"
     ]
    },
    {
     "name": "stderr",
     "output_type": "stream",
     "text": [
      "Training NF:   5%|▌         | 16/300 [00:00<00:07, 38.04it/s]"
     ]
    },
    {
     "name": "stdout",
     "output_type": "stream",
     "text": [
      "NW Finished 30 trial for N = 100, 12.772862756010145\n",
      "NW Finished 32 trial for N = 100, 11.48208248520404\n"
     ]
    },
    {
     "name": "stderr",
     "output_type": "stream",
     "text": [
      "                                                             \r"
     ]
    },
    {
     "name": "stdout",
     "output_type": "stream",
     "text": [
      "NW Finished 31 trial for N = 100, 13.053333013549093\n"
     ]
    },
    {
     "name": "stderr",
     "output_type": "stream",
     "text": [
      "                                                             \r"
     ]
    },
    {
     "name": "stdout",
     "output_type": "stream",
     "text": [
      "NW Finished 33 trial for N = 100, 9.371235303139265\n"
     ]
    },
    {
     "name": "stderr",
     "output_type": "stream",
     "text": [
      "Training NF:   0%|          | 0/300 [00:00<?, ?it/s]8.01it/s]"
     ]
    },
    {
     "name": "stdout",
     "output_type": "stream",
     "text": [
      "NW Finished 35 trial for N = 100, 8.975308771196923\n",
      "NW Finished 36 trial for N = 100, 8.823351080429461\n",
      "NW Finished 38 trial for N = 100, 11.041683939931781\n",
      "NW Finished 34 trial for N = 100, 10.05635758254075\n"
     ]
    },
    {
     "name": "stderr",
     "output_type": "stream",
     "text": [
      "Training NF:   0%|          | 0/300 [00:00<?, ?it/s].43it/s] "
     ]
    },
    {
     "name": "stdout",
     "output_type": "stream",
     "text": [
      "NW Finished 37 trial for N = 100, 11.42676523553535\n"
     ]
    },
    {
     "name": "stderr",
     "output_type": "stream",
     "text": [
      "                                                             \r"
     ]
    },
    {
     "name": "stdout",
     "output_type": "stream",
     "text": [
      "NW Finished 39 trial for N = 100, 10.68026791382722\n"
     ]
    },
    {
     "name": "stderr",
     "output_type": "stream",
     "text": [
      "                                                             \r"
     ]
    },
    {
     "name": "stdout",
     "output_type": "stream",
     "text": [
      "20 trial : 3, 0.01\n"
     ]
    },
    {
     "name": "stderr",
     "output_type": "stream",
     "text": [
      "                                                              \r"
     ]
    },
    {
     "name": "stdout",
     "output_type": "stream",
     "text": [
      "21 trial : 3, 1\n"
     ]
    },
    {
     "name": "stderr",
     "output_type": "stream",
     "text": [
      "                                                              \r"
     ]
    },
    {
     "name": "stdout",
     "output_type": "stream",
     "text": [
      "22 trial : 3, 0.01\n",
      "24 trial : 3, 0.05\n"
     ]
    },
    {
     "name": "stderr",
     "output_type": "stream",
     "text": [
      "                                                              \r"
     ]
    },
    {
     "name": "stdout",
     "output_type": "stream",
     "text": [
      "26 trial : 3, 0.05\n",
      "28 trial : 3, 0.01\n",
      "25 trial : 3, 0.5\n",
      "23 trial : 3, 0.1\n",
      "30 trial : 3, 1\n"
     ]
    },
    {
     "name": "stderr",
     "output_type": "stream",
     "text": [
      "Training NF:  14%|█▍        | 28/200 [00:00<00:00, 271.92it/s]"
     ]
    },
    {
     "name": "stdout",
     "output_type": "stream",
     "text": [
      "31 trial : 3, 0.5\n",
      "27 trial : 3, 0.5\n",
      "32 trial : 3, 0.01\n"
     ]
    },
    {
     "name": "stderr",
     "output_type": "stream",
     "text": [
      "                                                              \r"
     ]
    },
    {
     "name": "stdout",
     "output_type": "stream",
     "text": [
      "29 trial : 3, 0.5\n",
      "33 trial : 3, 0.1\n"
     ]
    },
    {
     "name": "stderr",
     "output_type": "stream",
     "text": [
      "                                                               \r"
     ]
    },
    {
     "name": "stdout",
     "output_type": "stream",
     "text": [
      "38 trial : 3, 0.1\n"
     ]
    },
    {
     "name": "stderr",
     "output_type": "stream",
     "text": [
      "Training NF:  82%|████████▎ | 165/200 [00:00<00:00, 228.98it/s]"
     ]
    },
    {
     "name": "stdout",
     "output_type": "stream",
     "text": [
      "Trial 20 : NF-GMM Finished 20 trial for N = 100\n",
      "34 trial : 3, 0.1\n"
     ]
    },
    {
     "name": "stderr",
     "output_type": "stream",
     "text": [
      "Training NF:  23%|██▎       | 46/200 [00:00<00:00, 232.34it/s] "
     ]
    },
    {
     "name": "stdout",
     "output_type": "stream",
     "text": [
      "35 trial : 3, 0.01\n",
      "36 trial : 3, 1\n"
     ]
    },
    {
     "name": "stderr",
     "output_type": "stream",
     "text": [
      "                                                               \r"
     ]
    },
    {
     "name": "stdout",
     "output_type": "stream",
     "text": [
      "37 trial : 3, 0.5\n"
     ]
    },
    {
     "name": "stderr",
     "output_type": "stream",
     "text": [
      "                                                              \r"
     ]
    },
    {
     "name": "stdout",
     "output_type": "stream",
     "text": [
      "Trial 21 : NF-GMM Finished 21 trial for N = 100\n",
      "Trial 26 : NF-GMM Finished 26 trial for N = 100\n",
      "Trial 24 : NF-GMM Finished 24 trial for N = 100\n",
      "Trial 22 : NF-GMM Finished 22 trial for N = 100\n",
      "Trial 25 : NF-GMM Finished 25 trial for N = 100\n",
      "Trial 23 : NF-GMM Finished 23 trial for N = 100\n",
      "Trial 28 : NF-GMM Finished 28 trial for N = 100\n",
      "Trial 30 : NF-GMM Finished 30 trial for N = 100\n",
      "Trial 27 : NF-GMM Finished 27 trial for N = 100\n",
      "Trial 31 : NF-GMM Finished 31 trial for N = 100\n",
      "Trial 32 : NF-GMM Finished 32 trial for N = 100\n",
      "Trial 29 : NF-GMM Finished 29 trial for N = 100\n",
      "Trial 33 : NF-GMM Finished 33 trial for N = 100\n",
      "Trial 38 : NF-GMM Finished 38 trial for N = 100\n",
      "Trial 36 : NF-GMM Finished 36 trial for N = 100\n",
      "Trial 35 : NF-GMM Finished 35 trial for N = 100\n",
      "Trial 34 : NF-GMM Finished 34 trial for N = 100\n",
      "Trial 37 : NF-GMM Finished 37 trial for N = 100\n",
      "39 trial : 3, 0.05\n"
     ]
    },
    {
     "name": "stderr",
     "output_type": "stream",
     "text": [
      "                                                               \r"
     ]
    },
    {
     "name": "stdout",
     "output_type": "stream",
     "text": [
      "Trial 39 : NF-GMM Finished 39 trial for N = 100\n",
      "Trial 20 : GMM (non-NF) Finished for N = 100\n",
      "Trial 21 : GMM (non-NF) Finished for N = 100\n",
      "Trial 26 : GMM (non-NF) Finished for N = 100\n",
      "Trial 22 : GMM (non-NF) Finished for N = 100\n",
      "Trial 27 : GMM (non-NF) Finished for N = 100\n",
      "Trial 24 : GMM (non-NF) Finished for N = 100\n",
      "Trial 29 : GMM (non-NF) Finished for N = 100\n",
      "Trial 32 : GMM (non-NF) Finished for N = 100\n",
      "Trial 25 : GMM (non-NF) Finished for N = 100\n",
      "Trial 30 : GMM (non-NF) Finished for N = 100\n",
      "Trial 31 : GMM (non-NF) Finished for N = 100\n",
      "Trial 28 : GMM (non-NF) Finished for N = 100\n",
      "Trial 23 : GMM (non-NF) Finished for N = 100\n",
      "Trial 33 : GMM (non-NF) Finished for N = 100\n",
      "Trial 38 : GMM (non-NF) Finished for N = 100\n",
      "Trial 34 : GMM (non-NF) Finished for N = 100\n",
      "Trial 37 : GMM (non-NF) Finished for N = 100\n",
      "Trial 35 : GMM (non-NF) Finished for N = 100\n",
      "Trial 36 : GMM (non-NF) Finished for N = 100\n",
      "Kanna Best eps at 20 trial for N = 100 : 0.05\n"
     ]
    },
    {
     "name": "stderr",
     "output_type": "stream",
     "text": [
      " 60%|██████    | 60/100 [12:42<09:51, 14.78s/it]"
     ]
    },
    {
     "name": "stdout",
     "output_type": "stream",
     "text": [
      "KANNAN Finished 20 trial for N = 100\n",
      "NF-gmm,nonNF-gmm,kannan,nw : 11.522787293177377, 11.864911984086554, 12.583218924306468, 11.623805996124272\n",
      "Kanna Best eps at 21 trial for N = 100 : 0.1\n",
      "KANNAN Finished 21 trial for N = 100\n",
      "NF-gmm,nonNF-gmm,kannan,nw : 15.126532802267127, 13.672252634144385, 9.44700905725072, 8.868534063836774\n",
      "Kanna Best eps at 22 trial for N = 100 : 0.05\n",
      "Kanna Best eps at 26 trial for N = 100 : 0.5\n",
      "KANNAN Finished 26 trial for N = 100\n",
      "NF-gmm,nonNF-gmm,kannan,nw : 12.64839347472418, 12.716555003492726, 15.55682517011694, 12.808940902882814\n",
      "Kanna Best eps at 27 trial for N = 100 : 0.5\n",
      "KANNAN Finished 22 trial for N = 100\n",
      "NF-gmm,nonNF-gmm,kannan,nw : 5.292833505098091, 5.323970097359631, 8.241971462618809, 8.358514134914074\n",
      "Kanna Best eps at 24 trial for N = 100 : 1\n",
      "KANNAN Finished 27 trial for N = 100\n",
      "NF-gmm,nonNF-gmm,kannan,nw : 4.357988446142036, 3.5701445473523346, 13.85403027981603, 10.582992525983396\n",
      "KANNAN Finished 24 trial for N = 100\n",
      "NF-gmm,nonNF-gmm,kannan,nw : 6.721461412621499, 5.897394894940988, 10.75693477983357, 10.77673764740636\n",
      "Kanna Best eps at 28 trial for N = 100 : 0.05\n",
      "Kanna Best eps at 25 trial for N = 100 : 0.05\n",
      "Kanna Best eps at 32 trial for N = 100 : 0.5\n",
      "Trial 39 : GMM (non-NF) Finished for N = 100\n",
      "KANNAN Finished 28 trial for N = 100\n",
      "NF-gmm,nonNF-gmm,kannan,nw : 8.700548208554734, 8.718682050645729, 22.21327616793072, 9.443626739877885\n",
      "Kanna Best eps at 30 trial for N = 100 : 0.01\n",
      "Kanna Best eps at 29 trial for N = 100 : 1\n",
      "Kanna Best eps at 23 trial for N = 100 : 1\n",
      "Kanna Best eps at 31 trial for N = 100 : 0.01\n",
      "KANNAN Finished 25 trial for N = 100\n",
      "NF-gmm,nonNF-gmm,kannan,nw : 11.885140593731352, 12.718876899518278, 22.377736138690935, 12.539222818755105\n",
      "KANNAN Finished 32 trial for N = 100\n",
      "NF-gmm,nonNF-gmm,kannan,nw : 12.681174470210108, 11.589964871238866, 13.046022405923358, 11.48208248520404\n",
      "KANNAN Finished 29 trial for N = 100\n",
      "NF-gmm,nonNF-gmm,kannan,nw : 12.740185381999414, 12.506397359356974, 17.479337804289454, 12.710169047941537\n",
      "KANNAN Finished 30 trial for N = 100\n",
      "NF-gmm,nonNF-gmm,kannan,nw : 11.48829085412164, 12.545045433647726, 24.03359973300715, 12.772862756010145\n",
      "KANNAN Finished 23 trial for N = 100\n",
      "NF-gmm,nonNF-gmm,kannan,nw : 10.329617098423116, 9.904426722914067, 11.503829007338522, 10.446879229085276\n",
      "KANNAN Finished 31 trial for N = 100\n",
      "NF-gmm,nonNF-gmm,kannan,nw : 12.314655065874392, 12.482947374897382, 15.474921041814381, 13.053333013549093\n",
      "Kanna Best eps at 33 trial for N = 100 : 0.05\n",
      "KANNAN Finished 33 trial for N = 100\n",
      "NF-gmm,nonNF-gmm,kannan,nw : 7.969037268784535, 8.235237968336852, 8.895415591129552, 9.371235303139265\n",
      "Kanna Best eps at 38 trial for N = 100 : 0.05\n",
      "KANNAN Finished 38 trial for N = 100\n",
      "NF-gmm,nonNF-gmm,kannan,nw : 7.629876679453724, 7.203006929921253, 11.064737345122081, 11.041683939931781\n",
      "Kanna Best eps at 34 trial for N = 100 : 0.5\n",
      "KANNAN Finished 34 trial for N = 100\n",
      "NF-gmm,nonNF-gmm,kannan,nw : 24.755543053177586, 19.473478603212165, 12.364278258757581, 10.05635758254075\n",
      "Kanna Best eps at 36 trial for N = 100 : 0.01\n",
      "Kanna Best eps at 35 trial for N = 100 : 0.5\n",
      "Kanna Best eps at 37 trial for N = 100 : 0.01\n",
      "KANNAN Finished 36 trial for N = 100\n",
      "NF-gmm,nonNF-gmm,kannan,nw : 6.9795225696805465, 6.880446673736011, 7.765915106414886, 8.823351080429461\n",
      "KANNAN Finished 35 trial for N = 100\n",
      "NF-gmm,nonNF-gmm,kannan,nw : 4.809353348753095, 3.8054040115862477, 11.66550220241147, 8.975308771196923\n",
      "KANNAN Finished 37 trial for N = 100\n",
      "NF-gmm,nonNF-gmm,kannan,nw : 8.509391401679455, 8.286848769926333, 12.3550419200222, 11.42676523553535\n",
      "NW Finished 40 trial for N = 100, 11.340657144459682\n"
     ]
    },
    {
     "name": "stderr",
     "output_type": "stream",
     "text": [
      "                                                             \r"
     ]
    },
    {
     "name": "stdout",
     "output_type": "stream",
     "text": [
      "NW Finished 41 trial for N = 100, 14.302996820863235\n"
     ]
    },
    {
     "name": "stderr",
     "output_type": "stream",
     "text": [
      "                                                             \r"
     ]
    },
    {
     "name": "stdout",
     "output_type": "stream",
     "text": [
      "NW Finished 42 trial for N = 100, 6.168059181937896\n",
      "NW Finished 43 trial for N = 100, 11.163516588227393\n"
     ]
    },
    {
     "name": "stderr",
     "output_type": "stream",
     "text": [
      "Training NF:   3%|▎         | 9/300 [00:00<00:07, 36.85it/s]]"
     ]
    },
    {
     "name": "stdout",
     "output_type": "stream",
     "text": [
      "NW Finished 45 trial for N = 100, 8.847558991896477\n"
     ]
    },
    {
     "name": "stderr",
     "output_type": "stream",
     "text": [
      "Training NF:  10%|█         | 30/300 [00:00<00:08, 32.47it/s]"
     ]
    },
    {
     "name": "stdout",
     "output_type": "stream",
     "text": [
      "NW Finished 44 trial for N = 100, 8.043768111873053\n",
      "NW Finished 46 trial for N = 100, 9.501978033894323\n"
     ]
    },
    {
     "name": "stderr",
     "output_type": "stream",
     "text": [
      "Training NF:   5%|▌         | 16/300 [00:00<00:07, 37.69it/s]"
     ]
    },
    {
     "name": "stdout",
     "output_type": "stream",
     "text": [
      "NW Finished 48 trial for N = 100, 12.172660688461198\n",
      "NW Finished 47 trial for N = 100, 13.701948476042952\n"
     ]
    },
    {
     "name": "stderr",
     "output_type": "stream",
     "text": [
      "Training NF:   8%|▊         | 25/300 [00:00<00:07, 38.01it/s]"
     ]
    },
    {
     "name": "stdout",
     "output_type": "stream",
     "text": [
      "NW Finished 50 trial for N = 100, 11.197415934984022\n",
      "NW Finished 49 trial for N = 100, 10.77089214713949\n",
      "NW Finished 52 trial for N = 100, 11.491639172666646\n",
      "NW Finished 51 trial for N = 100, 20.51037319439505\n"
     ]
    },
    {
     "name": "stderr",
     "output_type": "stream",
     "text": [
      "Training NF:   1%|▏         | 4/300 [00:00<00:08, 35.31it/s]]"
     ]
    },
    {
     "name": "stdout",
     "output_type": "stream",
     "text": [
      "NW Finished 53 trial for N = 100, 12.501299628910203\n",
      "Kanna Best eps at 39 trial for N = 100 : 0.01\n"
     ]
    },
    {
     "name": "stderr",
     "output_type": "stream",
     "text": [
      "Training NF:   7%|▋         | 22/300 [00:00<00:07, 38.86it/s]"
     ]
    },
    {
     "name": "stdout",
     "output_type": "stream",
     "text": [
      "KANNAN Finished 39 trial for N = 100\n",
      "NF-gmm,nonNF-gmm,kannan,nw : 10.55408146974273, 10.766217258464433, 10.705844722501764, 10.68026791382722\n"
     ]
    },
    {
     "name": "stderr",
     "output_type": "stream",
     "text": [
      "                                                             \r"
     ]
    },
    {
     "name": "stdout",
     "output_type": "stream",
     "text": [
      "NW Finished 54 trial for N = 100, 13.17027872949858\n"
     ]
    },
    {
     "name": "stderr",
     "output_type": "stream",
     "text": [
      "Training NF:   5%|▌         | 16/300 [00:00<00:07, 36.80it/s]"
     ]
    },
    {
     "name": "stdout",
     "output_type": "stream",
     "text": [
      "NW Finished 55 trial for N = 100, 13.331806328886719\n"
     ]
    },
    {
     "name": "stderr",
     "output_type": "stream",
     "text": [
      "Training NF:   0%|          | 0/300 [00:00<?, ?it/s]7.55it/s]"
     ]
    },
    {
     "name": "stdout",
     "output_type": "stream",
     "text": [
      "NW Finished 56 trial for N = 100, 14.204814677667642\n",
      "NW Finished 57 trial for N = 100, 11.166518054704843\n"
     ]
    },
    {
     "name": "stderr",
     "output_type": "stream",
     "text": [
      "Training NF:   0%|          | 0/300 [00:00<?, ?it/s]8.23it/s]"
     ]
    },
    {
     "name": "stdout",
     "output_type": "stream",
     "text": [
      "NW Finished 58 trial for N = 100, 12.727640746773384\n"
     ]
    },
    {
     "name": "stderr",
     "output_type": "stream",
     "text": [
      "                                                             \r"
     ]
    },
    {
     "name": "stdout",
     "output_type": "stream",
     "text": [
      "NW Finished 59 trial for N = 100, 11.314250770996804\n"
     ]
    },
    {
     "name": "stderr",
     "output_type": "stream",
     "text": [
      "                                                             \r"
     ]
    },
    {
     "name": "stdout",
     "output_type": "stream",
     "text": [
      "40 trial : 3, 0.5\n"
     ]
    },
    {
     "name": "stderr",
     "output_type": "stream",
     "text": [
      "                                                              \r"
     ]
    },
    {
     "name": "stdout",
     "output_type": "stream",
     "text": [
      "41 trial : 3, 1\n"
     ]
    },
    {
     "name": "stderr",
     "output_type": "stream",
     "text": [
      "                                                              \r"
     ]
    },
    {
     "name": "stdout",
     "output_type": "stream",
     "text": [
      "42 trial : 3, 1\n"
     ]
    },
    {
     "name": "stderr",
     "output_type": "stream",
     "text": [
      "                                                              \r"
     ]
    },
    {
     "name": "stdout",
     "output_type": "stream",
     "text": [
      "43 trial : 3, 0.1\n",
      "47 trial : 3, 0.5\n"
     ]
    },
    {
     "name": "stderr",
     "output_type": "stream",
     "text": [
      "                                                              \r"
     ]
    },
    {
     "name": "stdout",
     "output_type": "stream",
     "text": [
      "45 trial : 3, 0.5\n",
      "44 trial : 3, 0.5\n",
      "46 trial : 3, 0.05\n",
      "51 trial : 3, 0.01\n"
     ]
    },
    {
     "name": "stderr",
     "output_type": "stream",
     "text": [
      "                                                              \r"
     ]
    },
    {
     "name": "stdout",
     "output_type": "stream",
     "text": [
      "49 trial : 3, 0.05\n"
     ]
    },
    {
     "name": "stderr",
     "output_type": "stream",
     "text": [
      "                                                              \r"
     ]
    },
    {
     "name": "stdout",
     "output_type": "stream",
     "text": [
      "52 trial : 3, 1\n",
      "48 trial : 3, 0.05\n"
     ]
    },
    {
     "name": "stderr",
     "output_type": "stream",
     "text": [
      "                                                              \r"
     ]
    },
    {
     "name": "stdout",
     "output_type": "stream",
     "text": [
      "50 trial : 3, 0.01\n",
      "53 trial : 3, 0.1\n",
      "Trial 40 : NF-GMM Finished 40 trial for N = 100\n"
     ]
    },
    {
     "name": "stderr",
     "output_type": "stream",
     "text": [
      "                                                              \r"
     ]
    },
    {
     "name": "stdout",
     "output_type": "stream",
     "text": [
      "54 trial : 3, 0.05\n",
      "55 trial : 3, 0.05\n"
     ]
    },
    {
     "name": "stderr",
     "output_type": "stream",
     "text": [
      "Training NF:  14%|█▎        | 27/200 [00:00<00:00, 246.36it/s]"
     ]
    },
    {
     "name": "stdout",
     "output_type": "stream",
     "text": [
      "56 trial : 3, 0.05\n"
     ]
    },
    {
     "name": "stderr",
     "output_type": "stream",
     "text": [
      "                                                              \r"
     ]
    },
    {
     "name": "stdout",
     "output_type": "stream",
     "text": [
      "57 trial : 3, 0.05\n"
     ]
    },
    {
     "name": "stderr",
     "output_type": "stream",
     "text": [
      "                                                              \r"
     ]
    },
    {
     "name": "stdout",
     "output_type": "stream",
     "text": [
      "Trial 41 : NF-GMM Finished 41 trial for N = 100\n",
      "58 trial : 3, 0.1\n"
     ]
    },
    {
     "name": "stderr",
     "output_type": "stream",
     "text": [
      "                                                              \r"
     ]
    },
    {
     "name": "stdout",
     "output_type": "stream",
     "text": [
      "Trial 42 : NF-GMM Finished 42 trial for N = 100\n",
      "Trial 43 : NF-GMM Finished 43 trial for N = 100\n",
      "Trial 47 : NF-GMM Finished 47 trial for N = 100\n",
      "Trial 51 : NF-GMM Finished 51 trial for N = 100\n",
      "Trial 46 : NF-GMM Finished 46 trial for N = 100\n",
      "Trial 44 : NF-GMM Finished 44 trial for N = 100\n",
      "Trial 45 : NF-GMM Finished 45 trial for N = 100\n",
      "Trial 52 : NF-GMM Finished 52 trial for N = 100\n",
      "Trial 49 : NF-GMM Finished 49 trial for N = 100\n",
      "Trial 50 : NF-GMM Finished 50 trial for N = 100\n",
      "Trial 48 : NF-GMM Finished 48 trial for N = 100\n",
      "Trial 53 : NF-GMM Finished 53 trial for N = 100\n",
      "Trial 54 : NF-GMM Finished 54 trial for N = 100\n",
      "Trial 55 : NF-GMM Finished 55 trial for N = 100\n",
      "Trial 56 : NF-GMM Finished 56 trial for N = 100\n",
      "Trial 57 : NF-GMM Finished 57 trial for N = 100\n",
      "Trial 58 : NF-GMM Finished 58 trial for N = 100\n",
      "59 trial : 3, 0.01\n"
     ]
    },
    {
     "name": "stderr",
     "output_type": "stream",
     "text": [
      "                                                              \r"
     ]
    },
    {
     "name": "stdout",
     "output_type": "stream",
     "text": [
      "Trial 59 : NF-GMM Finished 59 trial for N = 100\n",
      "Trial 40 : GMM (non-NF) Finished for N = 100\n",
      "Trial 42 : GMM (non-NF) Finished for N = 100\n",
      "Trial 41 : GMM (non-NF) Finished for N = 100\n",
      "Trial 43 : GMM (non-NF) Finished for N = 100\n",
      "Trial 47 : GMM (non-NF) Finished for N = 100\n",
      "Trial 45 : GMM (non-NF) Finished for N = 100\n",
      "Trial 46 : GMM (non-NF) Finished for N = 100\n",
      "Trial 52 : GMM (non-NF) Finished for N = 100\n",
      "Trial 49 : GMM (non-NF) Finished for N = 100\n",
      "Trial 51 : GMM (non-NF) Finished for N = 100\n",
      "Trial 44 : GMM (non-NF) Finished for N = 100\n",
      "Trial 50 : GMM (non-NF) Finished for N = 100\n",
      "Trial 48 : GMM (non-NF) Finished for N = 100\n",
      "Trial 53 : GMM (non-NF) Finished for N = 100\n",
      "Trial 55 : GMM (non-NF) Finished for N = 100\n",
      "Trial 57 : GMM (non-NF) Finished for N = 100\n",
      "Trial 56 : GMM (non-NF) Finished for N = 100\n",
      "Trial 54 : GMM (non-NF) Finished for N = 100\n",
      "Trial 58 : GMM (non-NF) Finished for N = 100\n",
      "Kanna Best eps at 40 trial for N = 100 : 0.01\n"
     ]
    },
    {
     "name": "stderr",
     "output_type": "stream",
     "text": [
      " 80%|████████  | 80/100 [19:01<05:28, 16.43s/it]"
     ]
    },
    {
     "name": "stdout",
     "output_type": "stream",
     "text": [
      "KANNAN Finished 40 trial for N = 100\n",
      "NF-gmm,nonNF-gmm,kannan,nw : 6.184512907453673, 6.144071238600863, 13.999320315308069, 11.340657144459682\n",
      "Kanna Best eps at 42 trial for N = 100 : 1\n",
      "KANNAN Finished 42 trial for N = 100\n",
      "NF-gmm,nonNF-gmm,kannan,nw : 5.915966992247649, 5.83478934087497, 15.413600088618738, 6.168059181937896\n",
      "Kanna Best eps at 43 trial for N = 100 : 0.05\n",
      "Kanna Best eps at 41 trial for N = 100 : 1\n",
      "KANNAN Finished 43 trial for N = 100\n",
      "NF-gmm,nonNF-gmm,kannan,nw : 7.219184628593724, 5.733885474131319, 14.872075108304848, 11.163516588227393\n",
      "KANNAN Finished 41 trial for N = 100\n",
      "NF-gmm,nonNF-gmm,kannan,nw : 9.233911981416433, 9.416059273499572, 19.30711706667933, 14.302996820863235\n",
      "Kanna Best eps at 47 trial for N = 100 : 0.05\n",
      "Kanna Best eps at 46 trial for N = 100 : 0.01\n",
      "KANNAN Finished 47 trial for N = 100\n",
      "NF-gmm,nonNF-gmm,kannan,nw : 11.764057615798931, 13.02512626171184, 25.106901261121624, 13.701948476042952\n",
      "Kanna Best eps at 45 trial for N = 100 : 0.01\n",
      "Kanna Best eps at 52 trial for N = 100 : 0.5\n",
      "Kanna Best eps at 49 trial for N = 100 : 1\n",
      "KANNAN Finished 46 trial for N = 100\n",
      "NF-gmm,nonNF-gmm,kannan,nw : 9.009919539170774, 8.918361298310659, 18.242940214209955, 9.501978033894323\n",
      "KANNAN Finished 45 trial for N = 100\n",
      "NF-gmm,nonNF-gmm,kannan,nw : 9.54424472339326, 7.09004761657795, 6.90730100228302, 8.847558991896477\n",
      "Kanna Best eps at 51 trial for N = 100 : 0.01\n",
      "Kanna Best eps at 44 trial for N = 100 : 0.05\n",
      "KANNAN Finished 52 trial for N = 100\n",
      "NF-gmm,nonNF-gmm,kannan,nw : 10.684710910838922, 10.74068056849898, 12.62006629049778, 11.491639172666646\n",
      "KANNAN Finished 49 trial for N = 100\n",
      "NF-gmm,nonNF-gmm,kannan,nw : 7.843150418198134, 8.422032713750669, 10.69228141586725, 10.77089214713949\n",
      "KANNAN Finished 51 trial for N = 100\n",
      "NF-gmm,nonNF-gmm,kannan,nw : 11.805800880624885, 10.106218961090038, 26.826554580340385, 20.51037319439505\n",
      "KANNAN Finished 44 trial for N = 100\n",
      "NF-gmm,nonNF-gmm,kannan,nw : 8.668748218627067, 7.761869405497772, 8.959652361186189, 8.043768111873053\n",
      "Kanna Best eps at 50 trial for N = 100 : 0.01\n",
      "Kanna Best eps at 48 trial for N = 100 : 0.01\n",
      "KANNAN Finished 50 trial for N = 100\n",
      "NF-gmm,nonNF-gmm,kannan,nw : 9.693506483299897, 9.381760922105286, 12.398448167181238, 11.197415934984022\n",
      "KANNAN Finished 48 trial for N = 100\n",
      "NF-gmm,nonNF-gmm,kannan,nw : 11.672387511369964, 11.67489745117869, 16.377608198005735, 12.172660688461198\n",
      "Kanna Best eps at 53 trial for N = 100 : 0.01\n",
      "KANNAN Finished 53 trial for N = 100\n",
      "NF-gmm,nonNF-gmm,kannan,nw : 11.991501063648514, 12.172313042339663, 14.469836938998546, 12.501299628910203\n",
      "Kanna Best eps at 55 trial for N = 100 : 0.01\n",
      "Kanna Best eps at 57 trial for N = 100 : 0.05\n",
      "KANNAN Finished 55 trial for N = 100\n",
      "NF-gmm,nonNF-gmm,kannan,nw : 6.062384389174081, 6.413884765293364, 16.326494592632486, 13.331806328886719\n",
      "Kanna Best eps at 54 trial for N = 100 : 0.05\n",
      "NW Finished 60 trial for N = 100, 10.936913679422817\n",
      "KANNAN Finished 57 trial for N = 100\n",
      "NF-gmm,nonNF-gmm,kannan,nw : 5.908944211726484, 5.473395578428062, 20.488443439309226, 11.166518054704843\n"
     ]
    },
    {
     "name": "stderr",
     "output_type": "stream",
     "text": [
      "Training NF:   2%|▏         | 5/300 [00:00<00:06, 43.84it/s]"
     ]
    },
    {
     "name": "stdout",
     "output_type": "stream",
     "text": [
      "Kanna Best eps at 56 trial for N = 100 : 0.01\n"
     ]
    },
    {
     "name": "stderr",
     "output_type": "stream",
     "text": [
      "Training NF:   5%|▌         | 15/300 [00:00<00:06, 43.12it/s]"
     ]
    },
    {
     "name": "stdout",
     "output_type": "stream",
     "text": [
      "KANNAN Finished 54 trial for N = 100\n",
      "NF-gmm,nonNF-gmm,kannan,nw : 12.788365055083117, 12.817502044307966, 17.66370916231952, 13.17027872949858\n",
      "Kanna Best eps at 58 trial for N = 100 : 0.5\n"
     ]
    },
    {
     "name": "stderr",
     "output_type": "stream",
     "text": [
      "Training NF:   8%|▊         | 25/300 [00:00<00:06, 43.54it/s]"
     ]
    },
    {
     "name": "stdout",
     "output_type": "stream",
     "text": [
      "KANNAN Finished 56 trial for N = 100\n",
      "NF-gmm,nonNF-gmm,kannan,nw : 8.360468476121921, 8.402923730116626, 21.131183119635168, 14.204814677667642\n"
     ]
    },
    {
     "name": "stderr",
     "output_type": "stream",
     "text": [
      "                                                             \r"
     ]
    },
    {
     "name": "stdout",
     "output_type": "stream",
     "text": [
      "KANNAN Finished 58 trial for N = 100\n",
      "NF-gmm,nonNF-gmm,kannan,nw : 13.599486571013474, 12.873386917733779, 14.291500930215179, 12.727640746773384\n",
      "Trial 59 : GMM (non-NF) Finished for N = 100\n",
      "NW Finished 61 trial for N = 100, 8.498976380912856\n"
     ]
    },
    {
     "name": "stderr",
     "output_type": "stream",
     "text": [
      "                                                             \r"
     ]
    },
    {
     "name": "stdout",
     "output_type": "stream",
     "text": [
      "NW Finished 62 trial for N = 100, 10.835936679006936\n",
      "NW Finished 63 trial for N = 100, 9.308371590149363\n"
     ]
    },
    {
     "name": "stderr",
     "output_type": "stream",
     "text": [
      "Training NF:   1%|▏         | 4/300 [00:00<00:07, 37.34it/s]]"
     ]
    },
    {
     "name": "stdout",
     "output_type": "stream",
     "text": [
      "NW Finished 64 trial for N = 100, 13.927716259434069\n"
     ]
    },
    {
     "name": "stderr",
     "output_type": "stream",
     "text": [
      "Training NF:   0%|          | 0/300 [00:00<?, ?it/s]9.11it/s]"
     ]
    },
    {
     "name": "stdout",
     "output_type": "stream",
     "text": [
      "NW Finished 67 trial for N = 100, 10.006668399691174\n",
      "NW Finished 65 trial for N = 100, 16.803336921520653\n",
      "NW Finished 66 trial for N = 100, 12.400633531580036\n"
     ]
    },
    {
     "name": "stderr",
     "output_type": "stream",
     "text": [
      "Training NF:   0%|          | 0/300 [00:00<?, ?it/s].96it/s] "
     ]
    },
    {
     "name": "stdout",
     "output_type": "stream",
     "text": [
      "NW Finished 68 trial for N = 100, 6.706081114427076\n"
     ]
    },
    {
     "name": "stderr",
     "output_type": "stream",
     "text": [
      "Training NF:   3%|▎         | 8/300 [00:00<00:07, 37.15it/s]]"
     ]
    },
    {
     "name": "stdout",
     "output_type": "stream",
     "text": [
      "NW Finished 70 trial for N = 100, 10.89885558590502\n",
      "NW Finished 69 trial for N = 100, 12.42655791428299\n"
     ]
    },
    {
     "name": "stderr",
     "output_type": "stream",
     "text": [
      "                                                             \r"
     ]
    },
    {
     "name": "stdout",
     "output_type": "stream",
     "text": [
      "NW Finished 71 trial for N = 100, 13.686483878019699\n"
     ]
    },
    {
     "name": "stderr",
     "output_type": "stream",
     "text": [
      "Training NF:   1%|▏         | 4/300 [00:00<00:08, 36.14it/s]"
     ]
    },
    {
     "name": "stdout",
     "output_type": "stream",
     "text": [
      "NW Finished 72 trial for N = 100, 15.89992305628591\n"
     ]
    },
    {
     "name": "stderr",
     "output_type": "stream",
     "text": [
      "                                                             \r"
     ]
    },
    {
     "name": "stdout",
     "output_type": "stream",
     "text": [
      "NW Finished 73 trial for N = 100, 14.055576960893122\n"
     ]
    },
    {
     "name": "stderr",
     "output_type": "stream",
     "text": [
      "                                                             \r"
     ]
    },
    {
     "name": "stdout",
     "output_type": "stream",
     "text": [
      "NW Finished 74 trial for N = 100, 9.698433675313678\n"
     ]
    },
    {
     "name": "stderr",
     "output_type": "stream",
     "text": [
      "Training NF:   0%|          | 0/300 [00:00<?, ?it/s].27it/s]]"
     ]
    },
    {
     "name": "stdout",
     "output_type": "stream",
     "text": [
      "NW Finished 75 trial for N = 100, 10.823136792208562\n",
      "NW Finished 76 trial for N = 100, 14.318361481069648\n"
     ]
    },
    {
     "name": "stderr",
     "output_type": "stream",
     "text": [
      "Training NF:   8%|▊         | 23/300 [00:00<00:07, 38.88it/s]"
     ]
    },
    {
     "name": "stdout",
     "output_type": "stream",
     "text": [
      "NW Finished 77 trial for N = 100, 11.4572969070502\n"
     ]
    },
    {
     "name": "stderr",
     "output_type": "stream",
     "text": [
      "Training NF:   1%|▏         | 4/300 [00:00<00:08, 33.97it/s]]"
     ]
    },
    {
     "name": "stdout",
     "output_type": "stream",
     "text": [
      "NW Finished 78 trial for N = 100, 15.078974488873857\n"
     ]
    },
    {
     "name": "stderr",
     "output_type": "stream",
     "text": [
      "                                                             \r"
     ]
    },
    {
     "name": "stdout",
     "output_type": "stream",
     "text": [
      "Kanna Best eps at 59 trial for N = 100 : 0.01\n",
      "KANNAN Finished 59 trial for N = 100\n",
      "NF-gmm,nonNF-gmm,kannan,nw : 8.163793609727495, 6.754298939740767, 12.71402040734281, 11.314250770996804\n",
      "NW Finished 79 trial for N = 100, 14.12899662921532\n"
     ]
    },
    {
     "name": "stderr",
     "output_type": "stream",
     "text": [
      "                                                             \r"
     ]
    },
    {
     "name": "stdout",
     "output_type": "stream",
     "text": [
      "60 trial : 3, 1\n"
     ]
    },
    {
     "name": "stderr",
     "output_type": "stream",
     "text": [
      "                                                              \r"
     ]
    },
    {
     "name": "stdout",
     "output_type": "stream",
     "text": [
      "61 trial : 3, 0.01\n"
     ]
    },
    {
     "name": "stderr",
     "output_type": "stream",
     "text": [
      "                                                              \r"
     ]
    },
    {
     "name": "stdout",
     "output_type": "stream",
     "text": [
      "Trial 60 : NF-GMM Finished 60 trial for N = 100\n",
      "62 trial : 3, 0.1\n"
     ]
    },
    {
     "name": "stderr",
     "output_type": "stream",
     "text": [
      "                                                              \r"
     ]
    },
    {
     "name": "stdout",
     "output_type": "stream",
     "text": [
      "68 trial : 3, 1\n"
     ]
    },
    {
     "name": "stderr",
     "output_type": "stream",
     "text": [
      "                                                              \r"
     ]
    },
    {
     "name": "stdout",
     "output_type": "stream",
     "text": [
      "65 trial : 3, 1\n",
      "67 trial : 3, 0.01\n"
     ]
    },
    {
     "name": "stderr",
     "output_type": "stream",
     "text": [
      "Training NF:  24%|██▍       | 48/200 [00:00<00:00, 226.82it/s]"
     ]
    },
    {
     "name": "stdout",
     "output_type": "stream",
     "text": [
      "63 trial : 3, 1\n",
      "64 trial : 3, 0.5\n",
      "70 trial : 3, 0.1\n"
     ]
    },
    {
     "name": "stderr",
     "output_type": "stream",
     "text": [
      "Training NF:  24%|██▍       | 48/200 [00:00<00:00, 218.47it/s]"
     ]
    },
    {
     "name": "stdout",
     "output_type": "stream",
     "text": [
      "66 trial : 3, 1\n"
     ]
    },
    {
     "name": "stderr",
     "output_type": "stream",
     "text": [
      "Training NF:  48%|████▊     | 95/200 [00:00<00:00, 221.21it/s]"
     ]
    },
    {
     "name": "stdout",
     "output_type": "stream",
     "text": [
      "69 trial : 3, 1\n"
     ]
    },
    {
     "name": "stderr",
     "output_type": "stream",
     "text": [
      "                                                               \r"
     ]
    },
    {
     "name": "stdout",
     "output_type": "stream",
     "text": [
      "71 trial : 3, 0.05\n"
     ]
    },
    {
     "name": "stderr",
     "output_type": "stream",
     "text": [
      "                                                              \r"
     ]
    },
    {
     "name": "stdout",
     "output_type": "stream",
     "text": [
      "72 trial : 3, 0.01\n"
     ]
    },
    {
     "name": "stderr",
     "output_type": "stream",
     "text": [
      "                                                              \r"
     ]
    },
    {
     "name": "stdout",
     "output_type": "stream",
     "text": [
      "73 trial : 3, 0.5\n"
     ]
    },
    {
     "name": "stderr",
     "output_type": "stream",
     "text": [
      "                                                              \r"
     ]
    },
    {
     "name": "stdout",
     "output_type": "stream",
     "text": [
      "74 trial : 3, 0.1\n",
      "Trial 61 : NF-GMM Finished 61 trial for N = 100\n"
     ]
    },
    {
     "name": "stderr",
     "output_type": "stream",
     "text": [
      "                                                              \r"
     ]
    },
    {
     "name": "stdout",
     "output_type": "stream",
     "text": [
      "76 trial : 3, 0.5\n"
     ]
    },
    {
     "name": "stderr",
     "output_type": "stream",
     "text": [
      "                                                              \r"
     ]
    },
    {
     "name": "stdout",
     "output_type": "stream",
     "text": [
      "Trial 62 : NF-GMM Finished 62 trial for N = 100\n",
      "75 trial : 3, 0.05\n"
     ]
    },
    {
     "name": "stderr",
     "output_type": "stream",
     "text": [
      "                                                              \r"
     ]
    },
    {
     "name": "stdout",
     "output_type": "stream",
     "text": [
      "Trial 68 : NF-GMM Finished 68 trial for N = 100\n",
      "77 trial : 3, 0.01\n",
      "78 trial : 3, 0.01\n",
      "Trial 65 : NF-GMM Finished 65 trial for N = 100\n"
     ]
    },
    {
     "name": "stderr",
     "output_type": "stream",
     "text": [
      "                                                              \r"
     ]
    },
    {
     "name": "stdout",
     "output_type": "stream",
     "text": [
      "Trial 67 : NF-GMM Finished 67 trial for N = 100\n",
      "Trial 66 : NF-GMM Finished 66 trial for N = 100\n",
      "Trial 64 : NF-GMM Finished 64 trial for N = 100\n",
      "Trial 63 : NF-GMM Finished 63 trial for N = 100\n",
      "Trial 69 : NF-GMM Finished 69 trial for N = 100\n",
      "Trial 70 : NF-GMM Finished 70 trial for N = 100\n",
      "Trial 71 : NF-GMM Finished 71 trial for N = 100\n",
      "Trial 72 : NF-GMM Finished 72 trial for N = 100\n",
      "Trial 73 : NF-GMM Finished 73 trial for N = 100\n",
      "Trial 74 : NF-GMM Finished 74 trial for N = 100\n",
      "Trial 76 : NF-GMM Finished 76 trial for N = 100\n",
      "Trial 75 : NF-GMM Finished 75 trial for N = 100\n",
      "Trial 77 : NF-GMM Finished 77 trial for N = 100\n",
      "Trial 78 : NF-GMM Finished 78 trial for N = 100\n",
      "79 trial : 3, 0.05\n"
     ]
    },
    {
     "name": "stderr",
     "output_type": "stream",
     "text": [
      "                                                              \r"
     ]
    },
    {
     "name": "stdout",
     "output_type": "stream",
     "text": [
      "Trial 79 : NF-GMM Finished 79 trial for N = 100\n",
      "Trial 60 : GMM (non-NF) Finished for N = 100\n",
      "Trial 61 : GMM (non-NF) Finished for N = 100\n",
      "Trial 62 : GMM (non-NF) Finished for N = 100\n",
      "Trial 68 : GMM (non-NF) Finished for N = 100\n",
      "Trial 65 : GMM (non-NF) Finished for N = 100\n",
      "Trial 69 : GMM (non-NF) Finished for N = 100\n",
      "Trial 67 : GMM (non-NF) Finished for N = 100\n",
      "Trial 63 : GMM (non-NF) Finished for N = 100\n",
      "Trial 64 : GMM (non-NF) Finished for N = 100\n",
      "Trial 72 : GMM (non-NF) Finished for N = 100\n",
      "Trial 71 : GMM (non-NF) Finished for N = 100\n",
      "Trial 66 : GMM (non-NF) Finished for N = 100\n",
      "Trial 70 : GMM (non-NF) Finished for N = 100\n",
      "Trial 73 : GMM (non-NF) Finished for N = 100\n",
      "Trial 74 : GMM (non-NF) Finished for N = 100\n",
      "Trial 76 : GMM (non-NF) Finished for N = 100\n",
      "Kanna Best eps at 60 trial for N = 100 : 0.5\n"
     ]
    },
    {
     "name": "stderr",
     "output_type": "stream",
     "text": [
      "100%|██████████| 100/100 [25:21<00:00, 15.21s/it]"
     ]
    },
    {
     "name": "stdout",
     "output_type": "stream",
     "text": [
      "Trial 77 : GMM (non-NF) Finished for N = 100\n",
      "KANNAN Finished 60 trial for N = 100\n",
      "NF-gmm,nonNF-gmm,kannan,nw : 12.945620457109708, 13.147719297939064, 12.02042039481478, 10.936913679422817\n"
     ]
    },
    {
     "name": "stderr",
     "output_type": "stream",
     "text": [
      "\n"
     ]
    },
    {
     "name": "stdout",
     "output_type": "stream",
     "text": [
      "Trial 75 : GMM (non-NF) Finished for N = 100\n",
      "Trial 78 : GMM (non-NF) Finished for N = 100\n",
      "Kanna Best eps at 62 trial for N = 100 : 0.05\n",
      "Kanna Best eps at 61 trial for N = 100 : 0.05\n",
      "KANNAN Finished 62 trial for N = 100\n",
      "NF-gmm,nonNF-gmm,kannan,nw : 11.763918712740484, 10.95091644632159, 12.914815554609788, 10.835936679006936\n",
      "KANNAN Finished 61 trial for N = 100\n",
      "NF-gmm,nonNF-gmm,kannan,nw : 3.775894599841725, 3.7004354679958342, 14.164901019521793, 8.498976380912856\n",
      "Kanna Best eps at 68 trial for N = 100 : 0.01\n",
      "KANNAN Finished 68 trial for N = 100\n",
      "NF-gmm,nonNF-gmm,kannan,nw : 5.446215950689404, 7.108164708841366, 9.371755230370058, 6.706081114427076\n",
      "Kanna Best eps at 65 trial for N = 100 : 1\n",
      "KANNAN Finished 65 trial for N = 100\n",
      "NF-gmm,nonNF-gmm,kannan,nw : 11.082562646581485, 9.987951800526801, 25.034930699914945, 16.803336921520653\n",
      "Kanna Best eps at 69 trial for N = 100 : 0.1\n",
      "Kanna Best eps at 67 trial for N = 100 : 0.05\n",
      "KANNAN Finished 69 trial for N = 100\n",
      "NF-gmm,nonNF-gmm,kannan,nw : 5.735486160502454, 5.7222331663033925, 15.009783508897119, 12.42655791428299\n",
      "Kanna Best eps at 63 trial for N = 100 : 0.05\n",
      "KANNAN Finished 67 trial for N = 100\n",
      "NF-gmm,nonNF-gmm,kannan,nw : 10.126466744489903, 12.814848547547069, 10.070464439027388, 10.006668399691174\n",
      "Kanna Best eps at 64 trial for N = 100 : 0.01\n",
      "Kanna Best eps at 72 trial for N = 100 : 0.01\n",
      "KANNAN Finished 63 trial for N = 100\n",
      "NF-gmm,nonNF-gmm,kannan,nw : 11.882156656460161, 10.052633833620193, 8.80845336104571, 9.308371590149363\n",
      "KANNAN Finished 64 trial for N = 100\n",
      "NF-gmm,nonNF-gmm,kannan,nw : 10.077190453974453, 12.65839331250142, 25.31160029225621, 13.927716259434069\n",
      "KANNAN Finished 72 trial for N = 100\n",
      "NF-gmm,nonNF-gmm,kannan,nw : 5.75723797623136, 5.6792944356731185, 21.186111290253784, 15.89992305628591\n",
      "Kanna Best eps at 71 trial for N = 100 : 0.01\n",
      "Kanna Best eps at 66 trial for N = 100 : 0.01\n",
      "Kanna Best eps at 70 trial for N = 100 : 0.01\n",
      "KANNAN Finished 71 trial for N = 100\n",
      "NF-gmm,nonNF-gmm,kannan,nw : 12.83629537101264, 13.332250575406631, 28.63899362456004, 13.686483878019699\n",
      "KANNAN Finished 66 trial for N = 100\n",
      "NF-gmm,nonNF-gmm,kannan,nw : 11.590680826319556, 11.661916724988716, 14.486698272566334, 12.400633531580036\n",
      "KANNAN Finished 70 trial for N = 100\n",
      "NF-gmm,nonNF-gmm,kannan,nw : 10.188007907939925, 10.102608162880186, 10.263386030672844, 10.89885558590502\n",
      "Kanna Best eps at 73 trial for N = 100 : 0.5\n",
      "KANNAN Finished 73 trial for N = 100\n",
      "NF-gmm,nonNF-gmm,kannan,nw : 12.68491794656511, 14.114862384915076, 19.776808944947604, 14.055576960893122\n",
      "Kanna Best eps at 74 trial for N = 100 : 0.5\n",
      "KANNAN Finished 74 trial for N = 100\n",
      "NF-gmm,nonNF-gmm,kannan,nw : 10.316269792748779, 10.765899113985396, 14.086174024105016, 9.698433675313678\n",
      "NW Finished 80 trial for N = 100, 13.737065813541108\n"
     ]
    },
    {
     "name": "stderr",
     "output_type": "stream",
     "text": [
      "Training NF:   5%|▍         | 14/300 [00:00<00:07, 36.80it/s]"
     ]
    },
    {
     "name": "stdout",
     "output_type": "stream",
     "text": [
      "Kanna Best eps at 76 trial for N = 100 : 0.01\n"
     ]
    },
    {
     "name": "stderr",
     "output_type": "stream",
     "text": [
      "                                                             \r"
     ]
    },
    {
     "name": "stdout",
     "output_type": "stream",
     "text": [
      "KANNAN Finished 76 trial for N = 100\n",
      "NF-gmm,nonNF-gmm,kannan,nw : 14.472353773027056, 14.588247730851247, 19.04924001399131, 14.318361481069648\n",
      "Kanna Best eps at 75 trial for N = 100 : 0.05\n",
      "Kanna Best eps at 77 trial for N = 100 : 1\n",
      "KANNAN Finished 75 trial for N = 100\n",
      "NF-gmm,nonNF-gmm,kannan,nw : 10.657670807374124, 10.663926476416542, 10.861798726526825, 10.823136792208562\n",
      "KANNAN Finished 77 trial for N = 100\n",
      "NF-gmm,nonNF-gmm,kannan,nw : 9.87479500434637, 7.862770058114846, 17.935471517014232, 11.4572969070502\n",
      "Kanna Best eps at 78 trial for N = 100 : 0.5\n",
      "KANNAN Finished 78 trial for N = 100\n",
      "NF-gmm,nonNF-gmm,kannan,nw : 13.632730097537767, 13.56792688558176, 25.388959800530163, 15.078974488873857\n",
      "NW Finished 81 trial for N = 100, 8.717246922559834\n"
     ]
    },
    {
     "name": "stderr",
     "output_type": "stream",
     "text": [
      "                                                             \r"
     ]
    },
    {
     "name": "stdout",
     "output_type": "stream",
     "text": [
      "NW Finished 82 trial for N = 100, 15.737263909064062\n"
     ]
    },
    {
     "name": "stderr",
     "output_type": "stream",
     "text": [
      "                                                             \r"
     ]
    },
    {
     "name": "stdout",
     "output_type": "stream",
     "text": [
      "NW Finished 83 trial for N = 100, 8.369844697911727\n"
     ]
    },
    {
     "name": "stderr",
     "output_type": "stream",
     "text": [
      "Training NF:   0%|          | 0/300 [00:00<?, ?it/s]6.04it/s]"
     ]
    },
    {
     "name": "stdout",
     "output_type": "stream",
     "text": [
      "NW Finished 84 trial for N = 100, 11.247884727420868\n"
     ]
    },
    {
     "name": "stderr",
     "output_type": "stream",
     "text": [
      "                                                             \r"
     ]
    },
    {
     "name": "stdout",
     "output_type": "stream",
     "text": [
      "NW Finished 85 trial for N = 100, 9.419719073641629\n",
      "NW Finished 86 trial for N = 100, 13.182761414156042\n"
     ]
    },
    {
     "name": "stderr",
     "output_type": "stream",
     "text": [
      "Training NF:   7%|▋         | 20/300 [00:00<00:07, 36.69it/s]"
     ]
    },
    {
     "name": "stdout",
     "output_type": "stream",
     "text": [
      "NW Finished 87 trial for N = 100, 11.60410352395447\n",
      "NW Finished 88 trial for N = 100, 9.100026415039379\n",
      "NW Finished 89 trial for N = 100, 12.105147591974465\n",
      "Trial 79 : GMM (non-NF) Finished for N = 100\n"
     ]
    },
    {
     "name": "stderr",
     "output_type": "stream",
     "text": [
      "                                                             \r"
     ]
    },
    {
     "name": "stdout",
     "output_type": "stream",
     "text": [
      "NW Finished 92 trial for N = 100, 9.184336876021924\n",
      "NW Finished 91 trial for N = 100, 13.921493939533168\n",
      "NW Finished 90 trial for N = 100, 11.687261098228722\n"
     ]
    },
    {
     "name": "stderr",
     "output_type": "stream",
     "text": [
      "                                                             \r"
     ]
    },
    {
     "name": "stdout",
     "output_type": "stream",
     "text": [
      "NW Finished 93 trial for N = 100, 10.64129782469177\n"
     ]
    },
    {
     "name": "stderr",
     "output_type": "stream",
     "text": [
      "                                                             \r"
     ]
    },
    {
     "name": "stdout",
     "output_type": "stream",
     "text": [
      "NW Finished 94 trial for N = 100, 16.346256115520525\n"
     ]
    },
    {
     "name": "stderr",
     "output_type": "stream",
     "text": [
      "                                                             \r"
     ]
    },
    {
     "name": "stdout",
     "output_type": "stream",
     "text": [
      "NW Finished 95 trial for N = 100, 11.933188799636433\n"
     ]
    },
    {
     "name": "stderr",
     "output_type": "stream",
     "text": [
      "                                                             \r"
     ]
    },
    {
     "name": "stdout",
     "output_type": "stream",
     "text": [
      "NW Finished 97 trial for N = 100, 8.931306935189475\n",
      "NW Finished 96 trial for N = 100, 9.564445998907404\n"
     ]
    },
    {
     "name": "stderr",
     "output_type": "stream",
     "text": [
      "Training NF:   5%|▌         | 16/300 [00:00<00:07, 36.19it/s]"
     ]
    },
    {
     "name": "stdout",
     "output_type": "stream",
     "text": [
      "NW Finished 98 trial for N = 100, 12.926384514042137\n"
     ]
    },
    {
     "name": "stderr",
     "output_type": "stream",
     "text": [
      "                                                             \r"
     ]
    },
    {
     "name": "stdout",
     "output_type": "stream",
     "text": [
      "Kanna Best eps at 79 trial for N = 100 : 1\n",
      "KANNAN Finished 79 trial for N = 100\n",
      "NF-gmm,nonNF-gmm,kannan,nw : 6.345287533808281, 7.705906380942032, 18.790859043406943, 14.12899662921532\n",
      "NW Finished 99 trial for N = 100, 16.919172035539876\n"
     ]
    },
    {
     "name": "stderr",
     "output_type": "stream",
     "text": [
      "                                                             \r"
     ]
    },
    {
     "name": "stdout",
     "output_type": "stream",
     "text": [
      "80 trial : 3, 1\n"
     ]
    },
    {
     "name": "stderr",
     "output_type": "stream",
     "text": [
      "                                                              \r"
     ]
    },
    {
     "name": "stdout",
     "output_type": "stream",
     "text": [
      "81 trial : 3, 0.1\n"
     ]
    },
    {
     "name": "stderr",
     "output_type": "stream",
     "text": [
      "                                                              \r"
     ]
    },
    {
     "name": "stdout",
     "output_type": "stream",
     "text": [
      "82 trial : 2, 0.5\n"
     ]
    },
    {
     "name": "stderr",
     "output_type": "stream",
     "text": [
      "                                                              \r"
     ]
    },
    {
     "name": "stdout",
     "output_type": "stream",
     "text": [
      "83 trial : 3, 0.05\n"
     ]
    },
    {
     "name": "stderr",
     "output_type": "stream",
     "text": [
      "                                                              \r"
     ]
    },
    {
     "name": "stdout",
     "output_type": "stream",
     "text": [
      "84 trial : 3, 0.1\n",
      "Trial 80 : NF-GMM Finished 80 trial for N = 100\n"
     ]
    },
    {
     "name": "stderr",
     "output_type": "stream",
     "text": [
      "                                                               \r"
     ]
    },
    {
     "name": "stdout",
     "output_type": "stream",
     "text": [
      "85 trial : 3, 0.05\n",
      "86 trial : 3, 0.1\n"
     ]
    },
    {
     "name": "stderr",
     "output_type": "stream",
     "text": [
      "                                                              \r"
     ]
    },
    {
     "name": "stdout",
     "output_type": "stream",
     "text": [
      "Trial 81 : NF-GMM Finished 81 trial for N = 100\n",
      "89 trial : 3, 0.1\n"
     ]
    },
    {
     "name": "stderr",
     "output_type": "stream",
     "text": [
      "                                                              \r"
     ]
    },
    {
     "name": "stdout",
     "output_type": "stream",
     "text": [
      "87 trial : 3, 0.01\n",
      "88 trial : 3, 1\n",
      "91 trial : 3, 0.01\n"
     ]
    },
    {
     "name": "stderr",
     "output_type": "stream",
     "text": [
      "                                                              \r"
     ]
    },
    {
     "name": "stdout",
     "output_type": "stream",
     "text": [
      "90 trial : 3, 0.05\n",
      "92 trial : 3, 0.5\n"
     ]
    },
    {
     "name": "stderr",
     "output_type": "stream",
     "text": [
      "                                                              \r"
     ]
    },
    {
     "name": "stdout",
     "output_type": "stream",
     "text": [
      "93 trial : 3, 0.05\n",
      "Trial 82 : NF-GMM Finished 82 trial for N = 100\n"
     ]
    },
    {
     "name": "stderr",
     "output_type": "stream",
     "text": [
      "                                                              \r"
     ]
    },
    {
     "name": "stdout",
     "output_type": "stream",
     "text": [
      "Trial 84 : NF-GMM Finished 84 trial for N = 100\n",
      "Trial 83 : NF-GMM Finished 83 trial for N = 100\n",
      "94 trial : 3, 0.5\n"
     ]
    },
    {
     "name": "stderr",
     "output_type": "stream",
     "text": [
      "                                                              \r"
     ]
    },
    {
     "name": "stdout",
     "output_type": "stream",
     "text": [
      "95 trial : 3, 1\n"
     ]
    },
    {
     "name": "stderr",
     "output_type": "stream",
     "text": [
      "                                                              \r"
     ]
    },
    {
     "name": "stdout",
     "output_type": "stream",
     "text": [
      "Trial 85 : NF-GMM Finished 85 trial for N = 100\n",
      "Trial 86 : NF-GMM Finished 86 trial for N = 100\n",
      "Trial 89 : NF-GMM Finished 89 trial for N = 100\n",
      "98 trial : 3, 0.05\n"
     ]
    },
    {
     "name": "stderr",
     "output_type": "stream",
     "text": [
      "Training NF:  12%|█▎        | 25/200 [00:00<00:00, 243.57it/s]"
     ]
    },
    {
     "name": "stdout",
     "output_type": "stream",
     "text": [
      "97 trial : 3, 0.5\n"
     ]
    },
    {
     "name": "stderr",
     "output_type": "stream",
     "text": [
      "Training NF:  13%|█▎        | 26/200 [00:00<00:00, 252.71it/s]"
     ]
    },
    {
     "name": "stdout",
     "output_type": "stream",
     "text": [
      "96 trial : 2, 0.1\n",
      "Trial 87 : NF-GMM Finished 87 trial for N = 100\n",
      "Trial 88 : NF-GMM Finished 88 trial for N = 100\n"
     ]
    },
    {
     "name": "stderr",
     "output_type": "stream",
     "text": [
      "Training NF:  41%|████      | 82/200 [00:00<00:00, 249.04it/s]"
     ]
    },
    {
     "name": "stdout",
     "output_type": "stream",
     "text": [
      "Trial 91 : NF-GMM Finished 91 trial for N = 100\n"
     ]
    },
    {
     "name": "stderr",
     "output_type": "stream",
     "text": [
      "                                                               \r"
     ]
    },
    {
     "name": "stdout",
     "output_type": "stream",
     "text": [
      "Trial 90 : NF-GMM Finished 90 trial for N = 100\n",
      "Trial 92 : NF-GMM Finished 92 trial for N = 100\n",
      "Trial 93 : NF-GMM Finished 93 trial for N = 100\n",
      "Trial 94 : NF-GMM Finished 94 trial for N = 100\n",
      "Trial 95 : NF-GMM Finished 95 trial for N = 100\n",
      "Trial 98 : NF-GMM Finished 98 trial for N = 100\n",
      "Trial 97 : NF-GMM Finished 97 trial for N = 100\n",
      "Trial 96 : NF-GMM Finished 96 trial for N = 100\n",
      "99 trial : 3, 0.5\n"
     ]
    },
    {
     "name": "stderr",
     "output_type": "stream",
     "text": [
      "                                                              \r"
     ]
    },
    {
     "name": "stdout",
     "output_type": "stream",
     "text": [
      "Trial 99 : NF-GMM Finished 99 trial for N = 100\n",
      "Trial 80 : GMM (non-NF) Finished for N = 100\n",
      "Trial 81 : GMM (non-NF) Finished for N = 100\n",
      "Trial 82 : GMM (non-NF) Finished for N = 100\n",
      "Trial 84 : GMM (non-NF) Finished for N = 100\n",
      "Trial 83 : GMM (non-NF) Finished for N = 100\n",
      "Trial 85 : GMM (non-NF) Finished for N = 100\n",
      "Trial 89 : GMM (non-NF) Finished for N = 100\n",
      "Trial 86 : GMM (non-NF) Finished for N = 100\n",
      "Trial 87 : GMM (non-NF) Finished for N = 100\n",
      "Trial 88 : GMM (non-NF) Finished for N = 100\n",
      "Trial 92 : GMM (non-NF) Finished for N = 100\n",
      "Trial 90 : GMM (non-NF) Finished for N = 100\n",
      "Trial 91 : GMM (non-NF) Finished for N = 100\n",
      "Trial 93 : GMM (non-NF) Finished for N = 100\n",
      "Kanna Best eps at 80 trial for N = 100 : 0.01\n",
      "Trial 94 : GMM (non-NF) Finished for N = 100\n",
      "KANNAN Finished 80 trial for N = 100\n",
      "NF-gmm,nonNF-gmm,kannan,nw : 12.356549482733582, 12.169527203562287, 17.121930832043397, 13.737065813541108\n",
      "Trial 95 : GMM (non-NF) Finished for N = 100\n",
      "Trial 98 : GMM (non-NF) Finished for N = 100\n",
      "Kanna Best eps at 81 trial for N = 100 : 0.05\n",
      "Trial 97 : GMM (non-NF) Finished for N = 100\n",
      "KANNAN Finished 81 trial for N = 100\n",
      "NF-gmm,nonNF-gmm,kannan,nw : 6.040743328824513, 6.182024986231439, 10.29118724889427, 8.717246922559834\n",
      "Trial 96 : GMM (non-NF) Finished for N = 100\n",
      "Kanna Best eps at 82 trial for N = 100 : 1\n",
      "KANNAN Finished 82 trial for N = 100\n",
      "NF-gmm,nonNF-gmm,kannan,nw : 12.966293322025434, 14.276314791093432, 22.60215330935906, 15.737263909064062\n",
      "Kanna Best eps at 83 trial for N = 100 : 0.05\n",
      "Kanna Best eps at 84 trial for N = 100 : 0.01\n",
      "KANNAN Finished 84 trial for N = 100\n",
      "NF-gmm,nonNF-gmm,kannan,nw : 11.079592329974295, 13.206875771257659, 12.639401301356866, 11.247884727420868\n",
      "KANNAN Finished 83 trial for N = 100\n",
      "NF-gmm,nonNF-gmm,kannan,nw : 3.5964783442013584, 3.6540495221852836, 12.607612011433616, 8.369844697911727\n",
      "Kanna Best eps at 85 trial for N = 100 : 0.01\n",
      "Kanna Best eps at 89 trial for N = 100 : 0.5\n",
      "KANNAN Finished 85 trial for N = 100\n",
      "NF-gmm,nonNF-gmm,kannan,nw : 9.165296194841794, 9.559641165517208, 9.317328107930635, 9.419719073641629\n",
      "Kanna Best eps at 86 trial for N = 100 : 0.1\n",
      "Kanna Best eps at 87 trial for N = 100 : 0.05\n",
      "Kanna Best eps at 88 trial for N = 100 : 0.01\n",
      "KANNAN Finished 89 trial for N = 100\n",
      "NF-gmm,nonNF-gmm,kannan,nw : 11.656562848695845, 11.265516888076887, 21.69377746049501, 12.105147591974465\n",
      "KANNAN Finished 86 trial for N = 100\n",
      "NF-gmm,nonNF-gmm,kannan,nw : 12.48331395770398, 12.515326008318254, 20.269143721868616, 13.182761414156042\n",
      "KANNAN Finished 87 trial for N = 100\n",
      "NF-gmm,nonNF-gmm,kannan,nw : 8.010558797678133, 7.978879490729965, 18.05999223942462, 11.60410352395447\n",
      "KANNAN Finished 88 trial for N = 100\n",
      "NF-gmm,nonNF-gmm,kannan,nw : 10.025055615665579, 11.22576183012559, 19.96618297368756, 9.100026415039379\n",
      "Kanna Best eps at 90 trial for N = 100 : 0.05\n",
      "Kanna Best eps at 92 trial for N = 100 : 0.01\n",
      "KANNAN Finished 90 trial for N = 100\n",
      "NF-gmm,nonNF-gmm,kannan,nw : 8.420819940602339, 7.691004254251844, 18.488206809609867, 11.687261098228722\n",
      "KANNAN Finished 92 trial for N = 100\n",
      "NF-gmm,nonNF-gmm,kannan,nw : 8.806895227953659, 5.616923889449223, 12.572864301507499, 9.184336876021924\n",
      "Kanna Best eps at 91 trial for N = 100 : 0.01\n",
      "KANNAN Finished 91 trial for N = 100\n",
      "NF-gmm,nonNF-gmm,kannan,nw : 8.98680241109334, 8.940092525754665, 23.27022887231293, 13.921493939533168\n",
      "Kanna Best eps at 93 trial for N = 100 : 0.05\n",
      "KANNAN Finished 93 trial for N = 100\n",
      "NF-gmm,nonNF-gmm,kannan,nw : 12.115587154540412, 12.781394252291872, 10.87231162198739, 10.64129782469177\n",
      "Kanna Best eps at 94 trial for N = 100 : 1\n",
      "KANNAN Finished 94 trial for N = 100\n",
      "NF-gmm,nonNF-gmm,kannan,nw : 8.798090750709633, 8.157462631358406, 25.067877808398595, 16.346256115520525\n",
      "Kanna Best eps at 95 trial for N = 100 : 0.5\n",
      "KANNAN Finished 95 trial for N = 100\n",
      "NF-gmm,nonNF-gmm,kannan,nw : 13.73701109324467, 11.757983820369779, 14.754425778337112, 11.933188799636433\n",
      "Kanna Best eps at 98 trial for N = 100 : 0.05\n",
      "Kanna Best eps at 97 trial for N = 100 : 0.01\n",
      "KANNAN Finished 98 trial for N = 100\n",
      "NF-gmm,nonNF-gmm,kannan,nw : 12.707686721503055, 12.93081187197787, 19.918651643590643, 12.926384514042137\n",
      "KANNAN Finished 97 trial for N = 100\n",
      "NF-gmm,nonNF-gmm,kannan,nw : 9.90194219360864, 9.296719913450838, 8.998087682723785, 8.931306935189475\n",
      "Kanna Best eps at 96 trial for N = 100 : 0.01\n",
      "KANNAN Finished 96 trial for N = 100\n",
      "NF-gmm,nonNF-gmm,kannan,nw : 4.191463411454183, 4.354483294534884, 12.46038361407898, 9.564445998907404\n",
      "Trial 99 : GMM (non-NF) Finished for N = 100\n",
      "Kanna Best eps at 99 trial for N = 100 : 0.05\n",
      "KANNAN Finished 99 trial for N = 100\n",
      "NF-gmm,nonNF-gmm,kannan,nw : 11.768093361469884, 11.925030609981473, 26.65862380500856, 16.919172035539876\n",
      "✅ Saved to NV_1d_LinQuad.csv\n"
     ]
    }
   ],
   "source": [
    " # ----------------------- Implementation 2 ----------------------------\n",
    "T = 100\n",
    "N = 100\n",
    "dim_s_list = [1]\n",
    "dim_xi = 1\n",
    "eps_list = [0.01, 0.05, 0.1, 0.5, 1]\n",
    "max_K = 3\n",
    "Cs = CHs = [1, 5,10]\n",
    "h, b = 10, 2\n",
    "hidden_node, hidden_layer, block_size, bins, total_epoch = 32, 1, 1, 8, 300\n",
    "device = torch.device(\"cuda\" if torch.cuda.is_available() else \"cpu\")\n",
    "\n",
    "for dim_s in dim_s_list: \n",
    "    print(f\"✅✅✅✅✅✅✅Running trials for dim_s = {dim_s}✅✅✅✅✅✅✅✅\")\n",
    "    def run_trial(tt, N):\n",
    "        max_retry = 30\n",
    "        random.seed(tt)\n",
    "        np.random.seed(tt)\n",
    "        torch.manual_seed(tt)\n",
    "        torch.cuda.manual_seed_all(tt)  \n",
    "        for attempt_trial in range(max_retry):\n",
    "            try:\n",
    "                s, xi, _, _ = generate_data(N, dim_s, dim_xi)\n",
    "                gammas = s\n",
    "                s_single, _, W1_oos, W2_oos = generate_data(1, dim_s, dim_xi)\n",
    "                gamma = s_single[0]\n",
    "\n",
    "                #-------------------------------- NW--------------------------------\n",
    "                C_H = cv_H(CHs, xi, gammas, h, b)\n",
    "                H = C_H * 1 / (N ** (1 / 6))\n",
    "                kde = KernelDensity(kernel='exponential', bandwidth=1).fit(gammas)\n",
    "                g_gamma = np.exp(kde.score_samples(gamma.reshape(1, -1))).item()\n",
    "                weight = NW_weights(gamma, gammas, H)\n",
    "                C_smart = cv_lda(Cs, C_H, xi, gammas, h, b)\n",
    "                lda_0 = 1 / np.sqrt(N * (H ** 2) * g_gamma)\n",
    "                lda_smart = C_smart * lda_0\n",
    "                nw_model = Newsvendor(reg=lda_smart, verbose=False)\n",
    "                nw_model.fit({\"b\": b, \"h\": h, \"gamma\": gamma, \"xi\": xi, \"weight\": weight})\n",
    "                q_nw = nw_model.coef_\n",
    "                loss_nw = oos_loss(q_nw, gamma, h, b, W1_oos, W2_oos, dim_xi=1)\n",
    "                print(f\"NW Finished {tt} trial for N = {N}, {loss_nw}\")\n",
    "\n",
    "                #--------------------------- NF-GMM-------------------------------\n",
    "                best_K_NF, best_eps_NF = cv_GMM(N, max_K, eps_list, xi, gammas, h, b, hidden_node, hidden_layer, block_size, bins, total_epoch, device)\n",
    "                print(f\"{tt} trial : {best_K_NF}, {best_eps_NF}\")\n",
    "                scaler_s, scaler_xi =StandardScaler(), StandardScaler()\n",
    "                s_std = scaler_s.fit_transform(gammas)\n",
    "                xi_std = scaler_xi.fit_transform(xi)\n",
    "                s_val = gamma.reshape(1, -1)                                # (1, dim_s)\n",
    "                s_val_std = scaler_s.transform(s_val) \n",
    "                data_std = np.hstack([s_std, xi_std]) \n",
    "                x_tensor = torch.tensor(data_std, dtype=torch.float32).to(device)\n",
    "\n",
    "                cov_type = 'full' if dim_s <= 10 else 'diag'\n",
    "                gmm_x = GaussianMixture(n_components=best_K_NF, covariance_type=cov_type, reg_covar=1e-2).fit(data_std)\n",
    "                mu_x, cov_x, p_x = gmm_x.means_, gmm_x.covariances_, gmm_x.weights_\n",
    "                sig_x = np.array([np.diag(cov) for cov in cov_x]) if cov_type == 'diag' else cov_x\n",
    "\n",
    "                nfm, _ = train_nf_model(latent_size=dim_s + dim_xi, best_K=best_K_NF, hidden_node=hidden_node, hidden_layer=hidden_layer, block_size=block_size, num_bins=bins, total_epoch=200, x=x_tensor, device=device)\n",
    "\n",
    "                s_vec = s_val_std.ravel()                                 \n",
    "\n",
    "                mu_cond_x, cov_cond_x, w_x = transforming_conditional(s=s_vec, num_components=best_K_NF, mu_k=mu_x, sig_k=sig_x, p_k=p_x, dim_s=dim_s)\n",
    "                xi_hat_std = (w_x[:, None] * mu_cond_x).sum(axis=0, keepdims=True )    # (1, dim_xi)\n",
    "\n",
    "                gamma_std = np.hstack([s_val_std, xi_hat_std])                         # (1, dim_s+dim_xi)\n",
    "                gamma_tensor = torch.tensor(gamma_std, dtype=torch.float32).to(device)\n",
    "\n",
    "                z_s = inverse(nfm, gamma_tensor)[:, :dim_s].reshape(-1)\n",
    "                z_train = inverse(nfm, x_tensor)\n",
    "\n",
    "                cov_type = 'full' if dim_s <= 10 else 'diag'\n",
    "                gmm_z = GaussianMixture(n_components=best_K_NF, covariance_type=cov_type, reg_covar=1e-2).fit(z_train)\n",
    "                mu_z, cov_z, p_z = gmm_z.means_, gmm_z.covariances_, gmm_z.weights_\n",
    "                sig_z = np.array([np.diag(cov) for cov in cov_z]) if cov_type == 'diag' else cov_z\n",
    "\n",
    "                mu_cond_z, cov_cond_z, w_z = transforming_conditional(s=z_s, num_components= best_K_NF, mu_k=mu_z, sig_k=sig_z, p_k=p_z, dim_s=dim_s)\n",
    "                z_xi_sample = MC_sampling(best_K_NF, 1000, mu_cond_z, cov_cond_z, w_z)\n",
    "                z_full = np.hstack([np.repeat(z_s.reshape(1, -1), len(z_xi_sample), axis=0), z_xi_sample])\n",
    "\n",
    "                z_tensor = torch.tensor(z_full, dtype=torch.float32).to(device)\n",
    "                xi_sampled_std = forward(nfm, z_tensor)[:, dim_s:]\n",
    "                xi_sampled = scaler_xi.inverse_transform(xi_sampled_std)\n",
    "                xi_sampled = np.maximum(xi_sampled, 0)        \n",
    "                q_NF_gmm = NewsVendor_2_Wass(xi_sampled, best_eps_NF, h, b)\n",
    "                loss_NF_gmm = oos_loss(q_NF_gmm, gamma, h, b, W1_oos, W2_oos, dim_xi=1)\n",
    "                print(f\"Trial {tt} : NF-GMM Finished {tt} trial for N = {N}\")\n",
    "\n",
    "                #-------------------- Non-NF-GMM--------------------------\n",
    "                best_K_nonNF, best_eps_nonNF = cv_GMM_nonNF(N, max_K, eps_list, xi, gammas, h, b, hidden_node, hidden_layer, block_size, bins, total_epoch, device)\n",
    "                scaler_xi, scaler_s = StandardScaler(), StandardScaler()\n",
    "                s_std = scaler_s.fit_transform(gammas)\n",
    "                xi_std = scaler_xi.fit_transform(xi)\n",
    "                data = np.hstack([s_std, xi_std])  \n",
    "\n",
    "                cov_type_nonNF = 'full' if dim_s <= 10 else 'diag'\n",
    "                gmm_x = GaussianMixture(n_components=best_K_nonNF, covariance_type=cov_type_nonNF, reg_covar=1e-2).fit(data)\n",
    "                mu_x, cov_x, p_x = gmm_x.means_, gmm_x.covariances_, gmm_x.weights_\n",
    "                sig_x = np.array([np.diag(cov) for cov in cov_x]) if cov_type_nonNF == 'diag' else cov_x\n",
    "\n",
    "                s_val = gamma.reshape(1, -1) \n",
    "                s_val_std = scaler_s.transform(s_val)  \n",
    "                s_vec = s_val_std.ravel()               \n",
    "                mu_cond_x_nonNF, cov_cond_x_nonNF, p_cond_x_nonNF = transforming_conditional(s=s_vec, num_components=best_K_nonNF, mu_k=mu_x, sig_k=sig_x, p_k=p_x, dim_s=dim_s)\n",
    "\n",
    "                num_mc = 1000\n",
    "                xi_sampled_std = MC_sampling(best_K_nonNF, num_mc, mu_cond_x_nonNF, cov_cond_x_nonNF, p_cond_x_nonNF)  \n",
    "                xi_sampled = scaler_xi.inverse_transform(xi_sampled_std)\n",
    "                xi_sampled = np.maximum(xi_sampled, 0)  \n",
    "                q_nonNF_gmm = NewsVendor_2_Wass(xi_sampled, best_eps_nonNF, h, b)\n",
    "                loss_nonNF_gmm = oos_loss(q_nonNF_gmm, gamma, h, b, W1_oos, W2_oos, dim_xi=1)\n",
    "                print(f\"Trial {tt} : GMM (non-NF) Finished for N = {N}\")\n",
    "\n",
    "                #---------------------------Kannan-----------------------------\n",
    "                best_eps2 = cv_eps_kannan(eps_list, xi, gammas, h, b)\n",
    "                print(f\"Kanna Best eps at {tt} trial for N = {N} : {best_eps2}\")\n",
    "                model = LinearRegression().fit(gammas, xi)\n",
    "                residuals = xi - model.predict(gammas)\n",
    "                f_hat = model.predict(np.atleast_2d(gamma)).item()\n",
    "                xi_er = np.maximum(residuals + f_hat, 0) \n",
    "                q_reg = NewsVendor_1_Wass(xi_er, best_eps2, h=h, b=b)\n",
    "                loss_reg = oos_loss(q_reg, gamma, h, b, W1_oos, W2_oos, dim_xi=1)\n",
    "                print(f\"KANNAN Finished {tt} trial for N = {N}\")\n",
    "\n",
    "                print(f\"NF-gmm,nonNF-gmm,kannan,nw : {loss_NF_gmm}, {loss_nonNF_gmm}, {loss_reg}, {loss_nw}\")\n",
    "                return {\n",
    "                    'K_NF_GMM' : best_K_NF,\n",
    "                    'K_nonNF_GMM' : best_K_nonNF,\n",
    "                    'eps_NF_GMM': best_eps_NF,\n",
    "                    'eps_nonNF_GMM': best_eps_nonNF,\n",
    "                    'eps_kannan': best_eps2,\n",
    "                    'loss_NF_GMM': loss_NF_gmm,\n",
    "                    'loss_nonNF_GMM': loss_nonNF_gmm,\n",
    "                    'loss_kannan': loss_reg,\n",
    "                    'loss_nw': loss_nw,\n",
    "                }\n",
    "                \n",
    "            except Exception as e:\n",
    "                print(f\"[Global Retry {attempt_trial+1}/{max_retry}] Trial {tt}, N={N} failed: {e}\")\n",
    "                continue\n",
    "\n",
    "        print(f\"⚠️ Trial {tt}, N={N} failed after {max_retry} retries.\")\n",
    "        return None\n",
    "\n",
    "    results = Parallel(n_jobs=-1)(delayed(run_trial)(tt, N) for tt in tqdm(range(T)))\n",
    "\n",
    "    # --- Eliminate None or malformed results ---\n",
    "    results = [r for r in results if isinstance(r, dict) and r is not None]\n",
    "\n",
    "    # --- Handle empty case ---\n",
    "    if len(results) == 0:\n",
    "        print(f\"⚠️ No valid results for N={N}, skipping.\")\n",
    "        continue  #\n",
    "  \n",
    "    # --- Add Trial indices (if not already present) ---\n",
    "    for i, r in enumerate(results):\n",
    "        r['Trial'] = i\n",
    "\n",
    "    # --- Construct DataFrame ---   \n",
    "    df = pd.DataFrame(results)\n",
    "\n",
    "    # --- Ensure 'Trial' column exists ---\n",
    "    if 'Trial' in df.columns:\n",
    "        cols = ['Trial'] + [c for c in df.columns if c != 'Trial']\n",
    "        df = df[cols]\n",
    "    else:\n",
    "        print(\"⚠️ Warning: 'Trial' column not found. Columns:\", df.columns)\n",
    "\n",
    "    # --- Add AVG row ---\n",
    "    mean_row = {'Trial': 'AVG'}\n",
    "    for col in df.columns:\n",
    "        if col != 'Trial' and pd.api.types.is_numeric_dtype(df[col]):\n",
    "            mean_row[col] = df[col].mean(skipna=True)\n",
    "    df = pd.concat([df, pd.DataFrame([mean_row])], ignore_index=True)\n",
    "\n",
    "    # --- SAVE ---\n",
    "    save_path = f\"NV_{dim_s}d_LinQuad.csv\"\n",
    "    df.to_csv(save_path, index=False) \n",
    "    print(f\"✅ Saved to {save_path}\")"
   ]
  }
 ],
 "metadata": {
  "kernelspec": {
   "display_name": "sklearn-env",
   "language": "python",
   "name": "python3"
  },
  "language_info": {
   "codemirror_mode": {
    "name": "ipython",
    "version": 3
   },
   "file_extension": ".py",
   "mimetype": "text/x-python",
   "name": "python",
   "nbconvert_exporter": "python",
   "pygments_lexer": "ipython3",
   "version": "3.13.5"
  }
 },
 "nbformat": 4,
 "nbformat_minor": 5
}
