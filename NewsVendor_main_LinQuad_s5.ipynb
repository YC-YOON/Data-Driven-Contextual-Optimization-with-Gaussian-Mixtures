{
 "cells": [
  {
   "cell_type": "code",
   "execution_count": 1,
   "id": "9165c043169a10e7",
   "metadata": {
    "ExecuteTime": {
     "end_time": "2025-08-14T01:36:05.590389Z",
     "start_time": "2025-08-14T01:36:05.583869Z"
    }
   },
   "outputs": [],
   "source": [
    "import random\n",
    "import numpy as np\n",
    "import pandas as pd\n",
    "from pandas.core.missing import validate_limit_direction\n",
    "from sklearn.mixture import GaussianMixture\n",
    "from sklearn.mixture import BayesianGaussianMixture\n",
    "from sklearn.neighbors import KernelDensity\n",
    "import matplotlib.pyplot as plt\n",
    "from sklearn.preprocessing import StandardScaler\n",
    "from sklearn.linear_model import LinearRegression\n",
    "from scipy.stats import multivariate_normal\n",
    "from scipy.stats import truncnorm\n",
    "from sklearn.neighbors import NearestNeighbors\n",
    "from tqdm import tqdm\n",
    "import cvxpy as cp\n",
    "import gurobipy as gp\n",
    "from gurobipy import GRB\n",
    "from Newsvendor import Newsvendor\n",
    "from joblib import Parallel, delayed\n",
    "import torch\n",
    "import normflows as nf\n",
    "import matplotlib.pyplot as plt\n",
    "from itertools import product\n",
    "from torch.utils.data import TensorDataset, DataLoader, random_split\n",
    "import os\n",
    "import pickle\n",
    "from sklearn.neighbors import KernelDensity\n",
    "# np.set_printoptions(threshold=np.inf)\n",
    "# np.set_printoptions(linewidth=200)\n",
    "\n"
   ]
  },
  {
   "cell_type": "code",
   "execution_count": 3,
   "id": "9231860292694463",
   "metadata": {
    "ExecuteTime": {
     "end_time": "2025-08-14T01:36:05.645782Z",
     "start_time": "2025-08-14T01:36:05.631125Z"
    }
   },
   "outputs": [],
   "source": [
    "# -- Implementation 2 ---\n",
    "######################### 2-Wass GMM DRO function ###################################\n",
    "def NewsVendor_2_Wass(xi, eps, h, b):\n",
    "    xi = xi.astype(float)\n",
    "    N = xi.shape[0]\n",
    "    lda = cp.Variable(nonneg = True)\n",
    "    s = cp.Variable(N)\n",
    "    theta = cp.Variable(nonneg = True)\n",
    "    q = cp.Variable(nonneg = True)\n",
    "\n",
    "    const = []\n",
    "    for i in range(N):\n",
    "        const.append(cp.norm2(cp.hstack([2 * lda * xi[i] + theta - h, lda * (xi[i]**2) - h * q + s[i] - lda])) <= lda * (xi[i]**2) - h * q + s[i] +lda)\n",
    "        const.append(cp.norm2(cp.hstack([2 * lda * xi[i] + theta + b, lda * (xi[i]**2) + b * q + s[i] - lda])) <= lda * (xi[i]**2) + b * q + s[i] +lda)\n",
    "        const.append(lda * (xi[i]**2) - h * q + s[i] >= 0)\n",
    "        const.append(lda * (xi[i]**2) + b * q + s[i] >= 0)\n",
    "\n",
    "    obj = cp.Minimize(lda * (eps**2) + (1 / N) * cp.sum(s))\n",
    "    prob = cp.Problem(obj, const)\n",
    "    prob.solve(solver = cp.MOSEK, verbose = False)\n",
    "\n",
    "    return q.value\n",
    "\n",
    "def generate_data(n, dim_s, dim_xi):\n",
    "    s = np.random.uniform(-2, 2, size=(n, dim_s))\n",
    "    b = 50\n",
    "    W1 = 0.3 * np.ones((dim_xi, dim_s))\n",
    "    W2 = 5 * np.ones((dim_xi, dim_s))\n",
    "    eps1 = np.random.uniform(-2, 2, size=(n, dim_xi))\n",
    "    eps2 = np.random.uniform(-2, 2, size=(n, dim_xi))\n",
    "    lin  = s @ W1.T\n",
    "    quad = (s**2) @ W2.T\n",
    "    xi1 = lin + b + eps1\n",
    "    xi2 = quad + b - 10 + eps2\n",
    "    p = np.random.rand(n)\n",
    "    xi = np.where(p[:, None] > 0.5, xi1, xi2)\n",
    "    return s, xi, W1, W2\n",
    "\n",
    "def transforming_conditional(s, num_components, mu_k, sig_k, p_k, dim_s):\n",
    "    reg = 1e-6\n",
    "    mu_cond, cov_cond, weights = [], [], []\n",
    "    for k in range(num_components):\n",
    "        mu = mu_k[k]\n",
    "        sigma = sig_k[k]\n",
    "        mu_s = mu[:dim_s]\n",
    "        mu_xi = mu[dim_s:]\n",
    "        sigma_ss = sigma[:dim_s, :dim_s]\n",
    "        sigma_sx = sigma[:dim_s, dim_s:]\n",
    "        sigma_xs = sigma[dim_s:, :dim_s]\n",
    "        sigma_xx = sigma[dim_s:, dim_s:]\n",
    "        sigma_ss += reg * np.eye(dim_s)\n",
    "        try:\n",
    "            sigma_ss_inv = np.linalg.inv(sigma_ss)\n",
    "        except np.linalg.LinAlgError:\n",
    "            sigma_ss_inv = np.linalg.pinv(sigma_ss)\n",
    "        cond_mu = mu_xi + sigma_xs @ sigma_ss_inv @ (s - mu_s)\n",
    "        cond_cov = sigma_xx - sigma_xs @ sigma_ss_inv @ sigma_sx\n",
    "        cond_cov = 0.5 * (cond_cov + cond_cov.T)  \n",
    "        eigvals = np.linalg.eigvalsh(cond_cov)\n",
    "        if np.any(eigvals <= 1e-10):\n",
    "            cond_cov += reg * np.eye(cond_cov.shape[0])\n",
    "        try:\n",
    "            weight = p_k[k] * multivariate_normal.pdf(s, mean=mu_s, cov=sigma_ss)\n",
    "        except:\n",
    "            weight = 0.0\n",
    "        mu_cond.append(cond_mu)\n",
    "        cov_cond.append(cond_cov)\n",
    "        weights.append(weight)\n",
    "    weights = np.array(weights)\n",
    "    if np.any(np.isnan(weights)) or weights.sum() <= 1e-12:\n",
    "        weights = np.ones_like(weights) / len(weights)\n",
    "    else:\n",
    "        weights /= weights.sum()\n",
    "    return np.array(mu_cond), np.array(cov_cond), weights\n",
    "\n",
    "def MC_sampling(K, N, mu_list, cov_list, p_list):\n",
    "    d = mu_list.shape[1]\n",
    "    samples = np.zeros((N, d))\n",
    "    for i in range(N):\n",
    "        k = np.random.choice(K, p=p_list)\n",
    "        samples[i] = np.random.multivariate_normal(mu_list[k], cov_list[k])\n",
    "    return samples\n",
    "\n",
    "def oos_loss(q, s, h, b, W1, W2, dim_xi=1):\n",
    "    n = 100000\n",
    "    s = s.reshape(1, -1)     \n",
    "    eps1 = np.random.uniform(-2, 2, size=(n, dim_xi))\n",
    "    eps2 = np.random.uniform(-2, 2, size=(n, dim_xi))\n",
    "    lin  = s @ W1.T\n",
    "    quad = (s**2) @ W2.T\n",
    "    xi1 = lin + 50 + eps1\n",
    "    xi2 = quad + 40 + eps2\n",
    "    p = np.random.rand(n)\n",
    "    xi_samples = np.where(p[:, None] > 0.5, xi1, xi2)\n",
    "    q = np.array(q).reshape(1, -1)\n",
    "    if q.shape[1] == 1 and dim_xi > 1:\n",
    "        q = np.tile(q, (1, dim_xi))\n",
    "    losses = h * np.maximum(q - xi_samples, 0) + b * np.maximum(xi_samples - q, 0)\n",
    "    return np.mean(losses)\n",
    "\n",
    "def oos_loss_valid(q, xi, h, b):\n",
    "    loss = h * np.maximum(q - xi, 0) + b * np.maximum(xi - q, 0)\n",
    "    return np.mean(loss)\n",
    "\n",
    "def select_K_by_AIC(z_np, max_K):\n",
    "    aic_scores = []\n",
    "    models = []\n",
    "    for k in range(1, max_K + 1):\n",
    "        gmm = GaussianMixture(n_components=k)\n",
    "        gmm.fit(z_np)\n",
    "        aic = gmm.aic(z_np)\n",
    "        aic_scores.append(aic)\n",
    "        models.append(gmm)\n",
    "    best_index = np.argmin(aic_scores)\n",
    "    best_K = best_index + 1\n",
    "    return best_K\n",
    "\n",
    "def cv_GMM(N, max_K, eps_list, xi, s, h, b, hidden_node, hidden_layer, block_size, num_bins, total_epoch, device):\n",
    "    dim_s, dim_xi = s.shape[1], xi.shape[1]\n",
    "    latent_size = dim_s+dim_xi\n",
    "    X = np.concatenate([s, xi], axis=1)           \n",
    "    split = int(len(X) * 0.9)\n",
    "    train, val = X[:split], X[split:]\n",
    "\n",
    "    s_train, xi_train = train[:, :dim_s], train[:, dim_s:]\n",
    "    s_val,   xi_val   = val[:,   :dim_s], val[:,   dim_s:]\n",
    "\n",
    "    scaler_s  = StandardScaler().fit(s_train)\n",
    "    scaler_xi = StandardScaler().fit(xi_train)\n",
    "\n",
    "    s_train_std  = scaler_s.transform(s_train)\n",
    "    xi_train_std = scaler_xi.transform(xi_train)\n",
    "    s_val_std    = scaler_s.transform(s_val)      \n",
    "\n",
    "    data_train_std = np.concatenate([s_train_std, xi_train_std], axis=1)\n",
    "    x_train_tensor = torch.tensor(data_train_std, dtype=torch.float32).to(device)\n",
    "    \n",
    "    best_K = select_K_by_AIC(data_train_std, max_K=max_K)\n",
    "\n",
    "    cov_type = 'full' if dim_s <= 10 else 'diag'\n",
    "    gmm_x = GaussianMixture(n_components=best_K, covariance_type=cov_type, reg_covar=1e-2).fit(data_train_std)\n",
    "    mu_x, cov_x, p_x = gmm_x.means_, gmm_x.covariances_, gmm_x.weights_\n",
    "    sig_x = np.array([np.diag(cov) for cov in cov_x]) if cov_type == 'diag' else cov_x\n",
    "\n",
    "    nfm, _ = train_nf_model(latent_size, best_K, hidden_node, hidden_layer, block_size, num_bins, total_epoch, x_train_tensor, device)\n",
    "\n",
    "    gamma_std_list = []\n",
    "    for j in range(s_val_std.shape[0]):\n",
    "        s_j_std = s_val_std[j].ravel()  # (dim_s,)\n",
    "        mu_cond_x, cov_cond_x, w_x = transforming_conditional(s=s_j_std, num_components=best_K, mu_k=mu_x, sig_k=sig_x, p_k=p_x, dim_s=dim_s)\n",
    "        xi_hat_std = (w_x[:, None] * mu_cond_x).sum(axis=0, keepdims=True)  # (1, dim_xi)\n",
    "        gamma_std_list.append(np.hstack([s_j_std.reshape(1, -1), xi_hat_std]))  # (1, dim_s+dim_xi)\n",
    "    s_val_aug_std = np.vstack(gamma_std_list)  # (n_val, dim_s+dim_xi)\n",
    "    s_tensor = torch.tensor(s_val_aug_std, dtype=torch.float32).to(device)\n",
    "\n",
    "    z_s_val = inverse(nfm, s_tensor)\n",
    "    z_s_val = z_s_val[:, :dim_s]\n",
    "    z_sample_np = inverse(nfm, x_train_tensor)\n",
    "\n",
    "    cov_type = 'full' if dim_s <= 10 else 'diag'\n",
    "    gmm_z = GaussianMixture(n_components=best_K, covariance_type=cov_type, reg_covar=1e-2).fit(z_sample_np)\n",
    "    mu_z, cov_z, p_z = gmm_z.means_, gmm_z.covariances_, gmm_z.weights_\n",
    "    sig_z = np.array([np.diag(cov) for cov in cov_z]) if cov_type == 'diag' else cov_z\n",
    "\n",
    "    best_eps_result = {'eps': None, 'score': float('inf')}\n",
    "    for eps in eps_list:\n",
    "        valid_score = 0.0\n",
    "        for j in range(z_s_val.shape[0]):\n",
    "            z_s_j = z_s_val[j].ravel()  # (dim_s,)\n",
    "            mu_cond, cov_cond, p_cond = transforming_conditional(s=z_s_j, num_components=best_K, mu_k=mu_z, sig_k=sig_z, p_k=p_z, dim_s=dim_s)\n",
    "            z_xi_sample = MC_sampling(best_K, 500, mu_cond, cov_cond, p_cond)  # (500, dim_xi)\n",
    "            z_full = np.hstack([np.repeat(z_s_j.reshape(1, -1), 500, axis=0), z_xi_sample])  # (500, dim_s+dim_xi)\n",
    "            z_tensor = torch.tensor(z_full, dtype=torch.float32).to(device)\n",
    "            xi_sampled_std = forward(nfm, z_tensor)[:, dim_s:]\n",
    "            xi_sampled = scaler_xi.inverse_transform(xi_sampled_std)\n",
    "            xi_sampled = np.maximum(xi_sampled, 0)\n",
    "            q_gmm = NewsVendor_2_Wass(xi_sampled, eps, h, b)\n",
    "            valid_score += oos_loss_valid(q_gmm, xi_val[j], h, b)\n",
    "\n",
    "        # print(f\"[eps={eps:.4f}] Validation Score = {valid_score:.4f}\")\n",
    "        if valid_score < best_eps_result['score']:\n",
    "            best_eps_result.update({'eps': eps, 'score': valid_score})\n",
    "\n",
    "    return best_K, best_eps_result['eps']\n",
    "\n",
    "def cv_GMM_nonNF(N, max_K, eps_list, xi, s, h, b, hidden_node, hidden_layer, block_size, num_bins, total_epoch, device):\n",
    "    # ----- split -----\n",
    "    dim_s, dim_xi = s.shape[1], xi.shape[1]\n",
    "    X = np.concatenate([s, xi], axis=1)           \n",
    "    split = int(len(X) * 0.9)\n",
    "    train, val = X[:split], X[split:]\n",
    "\n",
    "    s_train, xi_train = train[:, :dim_s], train[:, dim_s:]\n",
    "    s_val,   xi_val   = val[:,   :dim_s], val[:,   dim_s:]\n",
    "\n",
    "    scaler_s  = StandardScaler().fit(s_train)\n",
    "    scaler_xi = StandardScaler().fit(xi_train)\n",
    "\n",
    "    s_train_std  = scaler_s.transform(s_train)\n",
    "    xi_train_std = scaler_xi.transform(xi_train)\n",
    "    s_val_std    = scaler_s.transform(s_val)      \n",
    "\n",
    "    data_train_std = np.concatenate([s_train_std, xi_train_std], axis=1)\n",
    "    best_K = select_K_by_AIC(data_train_std, max_K=max_K)\n",
    "\n",
    "    # --- Fit GMM on x_std\n",
    "    cov_type = 'full' if dim_s <= 10 else 'diag'\n",
    "    gmm_x = GaussianMixture(n_components=best_K, covariance_type=cov_type, reg_covar=1e-2).fit(data_train_std)\n",
    "    mu_x, cov_x, p_x = gmm_x.means_, gmm_x.covariances_, gmm_x.weights_\n",
    "    sig_x = np.array([np.diag(cov) for cov in cov_x]) if cov_type == 'diag' else cov_x\n",
    "    \n",
    "    # --- Grid over eps to pick best by validation\n",
    "    best_eps_result = {'eps': None, 'score': float('inf')}\n",
    "    num_mc = 500\n",
    "\n",
    "    for eps in eps_list:\n",
    "        valid_score = 0.0\n",
    "\n",
    "        for j in range(s_val.shape[0]):\n",
    "            s_j = s_val_std[j].ravel()  \n",
    "            mu_cond_x, cov_cond_x, p_cond_x = transforming_conditional(s=s_j, num_components=best_K,mu_k=mu_x, sig_k=sig_x, p_k=p_x, dim_s=dim_s)\n",
    "            xi_sampled_std = MC_sampling(best_K, num_mc, mu_cond_x, cov_cond_x, p_cond_x)\n",
    "            xi_sampled = scaler_xi.inverse_transform(xi_sampled_std)\n",
    "            xi_sampled = np.maximum(xi_sampled, 0)\n",
    "            q_gmm= NewsVendor_2_Wass(xi_sampled, eps, h, b)\n",
    "            valid_score += oos_loss_valid(q_gmm, xi_val[j], h, b)\n",
    "\n",
    "        # print(f\"[NON-NF GMM] [K={best_K}] [eps={eps:.4f}] Validation Score = {valid_score:.6f}\")\n",
    "        if valid_score < best_eps_result['score']:\n",
    "            best_eps_result.update({'eps': eps, 'score': valid_score})\n",
    "\n",
    "    return best_K, best_eps_result['eps']"
   ]
  },
  {
   "cell_type": "code",
   "execution_count": 4,
   "id": "239f9932e6c6aafb",
   "metadata": {
    "ExecuteTime": {
     "end_time": "2025-08-14T01:36:05.660111Z",
     "start_time": "2025-08-14T01:36:05.655069Z"
    }
   },
   "outputs": [],
   "source": [
    "def train_nf_model(latent_size, best_K, hidden_node, hidden_layer, num_bins, block_size, total_epoch, x, device, batch_size=64, lr=1e-3, patience=30, val_split=0.2):\n",
    "\n",
    "    x_np = x.cpu().numpy()\n",
    "    gmm = GaussianMixture(n_components=best_K, covariance_type='diag', reg_covar=1e-2).fit(x_np)\n",
    "    means = torch.tensor(gmm.means_, dtype=torch.float32, device=device)\n",
    "    weights = torch.tensor(gmm.weights_, dtype=torch.float32, device=device)\n",
    "    stds = torch.tensor(np.sqrt(gmm.covariances_), dtype=torch.float32, device=device)\n",
    "\n",
    "    flows = [nf.flows.AutoregressiveRationalQuadraticSpline(latent_size, hidden_layer, hidden_node, num_bins=num_bins) for _ in range(block_size)]\n",
    "    q0 = nf.distributions.GaussianMixture(n_modes=best_K, dim=latent_size, loc=means, scale=stds, weights=weights, trainable=False)\n",
    "    nfm = nf.NormalizingFlow(q0=q0, flows=flows).to(device)\n",
    "    optimizer = torch.optim.Adam(nfm.parameters(), lr=lr)\n",
    "\n",
    "    dataset = TensorDataset(x)\n",
    "    val_size = int(len(dataset) * val_split)\n",
    "    train_size = len(dataset) - val_size\n",
    "    train_dataset, val_dataset = random_split(dataset, [train_size, val_size])\n",
    "\n",
    "    train_loader = DataLoader(train_dataset, batch_size=batch_size, shuffle=True)\n",
    "    val_loader = DataLoader(val_dataset, batch_size=batch_size, shuffle=False)\n",
    "\n",
    "    loss_hist = []\n",
    "    val_loss_hist = []\n",
    "\n",
    "    best_val_loss = float('inf')\n",
    "    patience_counter = 0\n",
    "    best_model_state = None\n",
    "\n",
    "    for epoch in tqdm(range(total_epoch), desc=\"Training NF\", leave=False):\n",
    "        nfm.train()\n",
    "        train_loss_epoch = 0.0\n",
    "        for batch in train_loader:\n",
    "            x_batch = batch[0].to(device)\n",
    "            optimizer.zero_grad()\n",
    "            loss = nfm.forward_kld(x_batch)\n",
    "            if not torch.isnan(loss):\n",
    "                loss.backward()\n",
    "                optimizer.step()\n",
    "                train_loss_epoch += loss.item()\n",
    "\n",
    "        nfm.eval()\n",
    "        val_loss_epoch = 0.0\n",
    "        with torch.no_grad():\n",
    "            for batch in val_loader:\n",
    "                x_batch = batch[0].to(device)\n",
    "                loss = nfm.forward_kld(x_batch)\n",
    "                if not torch.isnan(loss):\n",
    "                    val_loss_epoch += loss.item()\n",
    "\n",
    "        loss_hist.append(train_loss_epoch)\n",
    "        val_loss_hist.append(val_loss_epoch)\n",
    "\n",
    "        if val_loss_epoch < best_val_loss:\n",
    "            best_val_loss = val_loss_epoch\n",
    "            patience_counter = 0\n",
    "            best_model_state = nfm.state_dict()\n",
    "        else:\n",
    "            patience_counter += 1\n",
    "            if patience_counter >= patience:\n",
    "                # print(f\"Early stopping at epoch {epoch+1} (val loss: {val_loss_epoch:.4f})\")\n",
    "                break\n",
    "\n",
    "    if best_model_state is not None:\n",
    "        nfm.load_state_dict(best_model_state)\n",
    "\n",
    "    return nfm, loss_hist\n",
    "\n",
    "def inverse(nfm, x):\n",
    "    with torch.no_grad():\n",
    "        z_np = nfm.inverse(x).cpu().numpy()\n",
    "    return z_np\n",
    "\n",
    "def forward(nfm, z):\n",
    "    with torch.no_grad():\n",
    "        x = nfm.forward(z).cpu().numpy()\n",
    "    return x\n"
   ]
  },
  {
   "cell_type": "code",
   "execution_count": 5,
   "id": "6a8bb0fa",
   "metadata": {
    "ExecuteTime": {
     "end_time": "2025-08-14T01:36:05.677655Z",
     "start_time": "2025-08-14T01:36:05.671635Z"
    }
   },
   "outputs": [],
   "source": [
    "############################### NW function #########################\n",
    "def NW_weights(gamma, gammas, H):\n",
    "    N = len(gammas)\n",
    "    numerator = np.zeros(N)\n",
    "    for i in range(N):\n",
    "        numerator[i] = np.exp(-np.linalg.norm(gammas[i] - gamma) / H)\n",
    "    denominator = numerator.sum()\n",
    "    weight = numerator / denominator if denominator != 0 else np.ones(N) / N\n",
    "    weight = np.round(weight, 6)\n",
    "    weight = weight / weight.sum() if weight.sum() != 0 else np.ones(N) / N\n",
    "    return weight\n",
    "\n",
    "def cv_lda(Cs, C_H, xi, gammas, h, b):\n",
    "    valid_scores = []\n",
    "\n",
    "    split = int(len(xi) * 0.9)\n",
    "    xi_subtrain, xi_valid = xi[:split], xi[split:]\n",
    "    gammas_subtrain, gammas_valid = gammas[:split], gammas[split:]\n",
    "    N = xi_subtrain.shape[0]\n",
    "    dim_s = gammas.shape[1]\n",
    "    H = C_H * 1 / (N ** (1 / 6))\n",
    "\n",
    "    use_kde = dim_s <= 5  # Use KDE only if the dimension is small\n",
    "\n",
    "    if use_kde:\n",
    "        kde = KernelDensity(kernel='exponential', bandwidth=1).fit(gammas_subtrain)\n",
    "\n",
    "    for C in Cs:\n",
    "        valid_score = 0\n",
    "        for j in range(len(gammas_valid)):\n",
    "            gamma = gammas_valid[j]\n",
    "            if use_kde:\n",
    "                g_gamma = np.exp(kde.score_samples(gamma.reshape(1, -1))).item()\n",
    "            else:\n",
    "                g_gamma = 1.0  # fallback default if KDE is not used\n",
    "\n",
    "            lda_0 = 1 / np.sqrt(N * (H ** 2) * g_gamma)\n",
    "            weight = NW_weights(gamma, gammas_subtrain, H)\n",
    "            params = {\n",
    "                \"b\": b,\n",
    "                \"h\": h,\n",
    "                \"gamma\": gamma,\n",
    "                \"xi\": xi_subtrain,\n",
    "                \"weight\": weight,\n",
    "            }\n",
    "            lda = lda_0 * C\n",
    "            News = Newsvendor(reg=lda, verbose=False)\n",
    "            News.fit(params)\n",
    "            q = News.coef_\n",
    "            valid_score += oos_loss_valid(q, xi_valid[j], h, b)\n",
    "\n",
    "        valid_score /= len(gammas_valid)\n",
    "        valid_scores.append(valid_score)\n",
    "\n",
    "    idx = np.argmin(valid_scores)\n",
    "    return Cs[idx]\n",
    "\n",
    "def cv_lda2(Cs,C_H,xi,gammas,H,h,b):\n",
    "    valid_scores=[]\n",
    "\n",
    "    split = int(len(xi) * 0.9)\n",
    "    xi_subtrain, xi_valid = xi[:split], xi[split:]\n",
    "    gammas_subtrain, gammas_valid = gammas[:split], gammas[split:]\n",
    "    \n",
    "    N = xi_subtrain.shape[0]\n",
    "    H=C_H * 1/(N**(1/6))\n",
    "    lda_0 = 1/np.sqrt(N*(H**2))\n",
    "\n",
    "    for i,C in enumerate(Cs):\n",
    "        valid_score = 0\n",
    "        for j in range(gammas_valid.shape[0]):\n",
    "            gamma = gammas_valid[j]\n",
    "            weight=NW_weights(gamma,gammas_subtrain,H)\n",
    "            params={\n",
    "            \"b\":b,\n",
    "            \"h\":h,\n",
    "            \"gamma\": gamma,\n",
    "            \"xi\":xi_subtrain,\n",
    "            \"weight\":weight,\n",
    "            }\n",
    "            lda = C * lda_0\n",
    "            News=Newsvendor(reg=lda,verbose=False)\n",
    "            News.fit(params)\n",
    "            q=News.coef_\n",
    "            valid_score += oos_loss_valid(q,np.array([xi_valid[j]]),h,b)\n",
    "            # valid_score += oos_loss_valid(q,np.array([xi_valid[j]]))\n",
    "        valid_scores.append(valid_score)\n",
    "    # print(valid_scores)\n",
    "    idx=np.argmin(valid_scores)\n",
    "    return(Cs[idx])\n",
    "\n",
    "def cv_H(Cs, xi, gammas, h, b):\n",
    "    valid_scores = []\n",
    "\n",
    "    split = int(len(xi) * 0.9)\n",
    "    xi_subtrain, xi_valid = xi[:split], xi[split:]\n",
    "    gammas_subtrain, gammas_valid = gammas[:split], gammas[split:]\n",
    "    N = xi_subtrain.shape[0]\n",
    "    H_0 = 1 / (N ** (1 / 6))\n",
    "\n",
    "    for i, C in enumerate(Cs):\n",
    "        valid_score = 0\n",
    "        H = C * H_0\n",
    "\n",
    "        for j in range(gammas_valid.shape[0]):\n",
    "            gamma = gammas_valid[j]\n",
    "            weight = NW_weights(gamma, gammas_subtrain, H)\n",
    "\n",
    "            weight = np.round(weight, 6)\n",
    "            weight = weight / weight.sum()\n",
    "            params = {\n",
    "                \"b\": b,\n",
    "                \"h\": h,\n",
    "                \"gamma\": gamma,\n",
    "                \"xi\": xi_subtrain,\n",
    "                \"weight\": weight,\n",
    "            }\n",
    "\n",
    "            News = Newsvendor(reg=0, verbose=False)\n",
    "            News.fit(params)\n",
    "            q = News.coef_\n",
    "            valid_score += oos_loss_valid(q, xi_valid[j], h, b)\n",
    "\n",
    "        valid_scores.append(valid_score)\n",
    "\n",
    "    idx = np.argmin(valid_scores)\n",
    "    return Cs[idx]"
   ]
  },
  {
   "cell_type": "code",
   "execution_count": 6,
   "id": "1ca224f5bdf7c506",
   "metadata": {
    "ExecuteTime": {
     "end_time": "2025-08-14T01:36:05.689423Z",
     "start_time": "2025-08-14T01:36:05.686106Z"
    }
   },
   "outputs": [],
   "source": [
    "########################### Kannan DRO setting ##############################\n",
    "def NewsVendor_1_Wass(xi, eps, h, b):\n",
    "    xi = xi.astype(float)\n",
    "    N = xi.shape[0]\n",
    "    lda = cp.Variable(nonneg=True)\n",
    "    s = cp.Variable(N)\n",
    "    z = cp.Variable((N,2))\n",
    "    q = cp.Variable(nonneg=True)\n",
    "\n",
    "    const = []\n",
    "    for i in range(N):\n",
    "        const.append(h * q + z[i,0] * xi[i] <= s[i])\n",
    "        const.append(-b * q + z[i,1] * xi[i] <= s[i])\n",
    "        const.append(z[i,0] >= -h)\n",
    "        const.append(z[i,1] >= b)\n",
    "        for k in range(2):\n",
    "            const.append(cp.norm_inf(z[i,k]) <= lda)\n",
    "\n",
    "    obj = cp.Minimize(lda * eps  + (1 / N) * cp.sum(s))\n",
    "    prob = cp.Problem(obj, const)\n",
    "    prob.solve(solver = cp.MOSEK)\n",
    "\n",
    "    return q.value \n",
    "\n",
    "def cv_eps_kannan(eps_list, xi, gammas, h, b):\n",
    "    valid_scores = []\n",
    "\n",
    "    split = int(len(xi) - 10)\n",
    "    xi_subtrain, xi_valid = xi[:split], xi[split:]\n",
    "    gammas_subtrain, gammas_valid = gammas[:split], gammas[split:]\n",
    "\n",
    "    model = LinearRegression().fit(gammas_subtrain, xi_subtrain)\n",
    "    residuals = xi_subtrain - model.predict(gammas_subtrain)\n",
    "\n",
    "    for i_eps, eps in enumerate(eps_list):\n",
    "        valid_score = 0\n",
    "        for j in range(len(gammas_valid)):\n",
    "            gamma = gammas_valid[j]\n",
    "            xi_j = np.array([xi_valid[j]])\n",
    "\n",
    "            f_hat = model.predict(gamma.reshape(1, -1)).item()\n",
    "            xi_ER = np.maximum(residuals + f_hat, 0)\n",
    "            q = NewsVendor_1_Wass(xi_ER, eps, h, b)\n",
    "        \n",
    "            valid_score += oos_loss_valid(q, xi_j, h, b)\n",
    "\n",
    "        valid_scores.append((eps, valid_score))\n",
    "\n",
    "    best_eps, _ = min(valid_scores, key=lambda x: x[1])\n",
    "    return best_eps\n"
   ]
  },
  {
   "cell_type": "code",
   "execution_count": 7,
   "id": "8421a8ae3fe1f85c",
   "metadata": {
    "ExecuteTime": {
     "start_time": "2025-08-14T01:36:05.697481Z"
    },
    "jupyter": {
     "is_executing": true
    }
   },
   "outputs": [
    {
     "name": "stdout",
     "output_type": "stream",
     "text": [
      "✅✅✅✅✅✅✅Running trials for dim_s = 5✅✅✅✅✅✅✅✅\n"
     ]
    },
    {
     "name": "stderr",
     "output_type": "stream",
     "text": [
      " 20%|██        | 20/100 [00:00<00:00, 122.42it/s]"
     ]
    },
    {
     "name": "stdout",
     "output_type": "stream",
     "text": [
      "NW Finished 4 trial for N = 100, 79.9968138282675\n",
      "NW Finished 0 trial for N = 100, 28.174036068900907\n",
      "NW Finished 1 trial for N = 100, 32.39322994183075\n",
      "NW Finished 3 trial for N = 100, 43.541293162736594\n",
      "NW Finished 14 trial for N = 100, 35.38926168951176\n",
      "NW Finished 13 trial for N = 100, 26.730074811057612\n",
      "NW Finished 6 trial for N = 100, 34.74164305444324\n",
      "NW Finished 5 trial for N = 100, 45.640146305262036\n",
      "NW Finished 9 trial for N = 100, 43.768415077073236\n",
      "NW Finished 7 trial for N = 100, 37.390822545905664\n",
      "NW Finished 12 trial for N = 100, 52.456282289989964\n",
      "NW Finished 11 trial for N = 100, 38.747105214008464\n",
      "NW Finished 16 trial for N = 100, 41.01248981311388\n",
      "NW Finished 2 trial for N = 100, 33.70753876686571\n",
      "NW Finished 10 trial for N = 100, 4.476112024859743\n",
      "NW Finished 19 trial for N = 100, 39.42223387833402\n",
      "NW Finished 8 trial for N = 100, 32.72149323015867\n",
      "NW Finished 18 trial for N = 100, 51.3103712420618\n",
      "NW Finished 15 trial for N = 100, 33.00909450296708\n",
      "NW Finished 17 trial for N = 100, 11.353769527108376\n"
     ]
    },
    {
     "name": "stderr",
     "output_type": "stream",
     "text": [
      "                                                             \r"
     ]
    },
    {
     "name": "stdout",
     "output_type": "stream",
     "text": [
      "4 trial : 3, 0.1\n"
     ]
    },
    {
     "name": "stderr",
     "output_type": "stream",
     "text": [
      "                                                              \r"
     ]
    },
    {
     "name": "stdout",
     "output_type": "stream",
     "text": [
      "0 trial : 1, 0.01\n",
      "3 trial : 3, 0.01\n"
     ]
    },
    {
     "name": "stderr",
     "output_type": "stream",
     "text": [
      "                                                              \r"
     ]
    },
    {
     "name": "stdout",
     "output_type": "stream",
     "text": [
      "1 trial : 3, 0.05\n"
     ]
    },
    {
     "name": "stderr",
     "output_type": "stream",
     "text": [
      "                                                              \r"
     ]
    },
    {
     "name": "stdout",
     "output_type": "stream",
     "text": [
      "2 trial : 3, 1\n",
      "13 trial : 1, 0.1\n"
     ]
    },
    {
     "name": "stderr",
     "output_type": "stream",
     "text": [
      "                                                              \r"
     ]
    },
    {
     "name": "stdout",
     "output_type": "stream",
     "text": [
      "8 trial : 2, 0.5\n"
     ]
    },
    {
     "name": "stderr",
     "output_type": "stream",
     "text": [
      "                                                              \r"
     ]
    },
    {
     "name": "stdout",
     "output_type": "stream",
     "text": [
      "17 trial : 1, 0.05\n"
     ]
    },
    {
     "name": "stderr",
     "output_type": "stream",
     "text": [
      "                                                              \r"
     ]
    },
    {
     "name": "stdout",
     "output_type": "stream",
     "text": [
      "18 trial : 3, 0.1\n",
      "7 trial : 3, 0.01\n"
     ]
    },
    {
     "name": "stderr",
     "output_type": "stream",
     "text": [
      "Training NF:  21%|██        | 42/200 [00:00<00:00, 206.23it/s]"
     ]
    },
    {
     "name": "stdout",
     "output_type": "stream",
     "text": [
      "10 trial : 3, 0.1\n",
      "6 trial : 3, 0.01\n",
      "19 trial : 3, 0.1\n",
      "14 trial : 3, 0.01\n"
     ]
    },
    {
     "name": "stderr",
     "output_type": "stream",
     "text": [
      "Training NF:  24%|██▍       | 48/200 [00:00<00:00, 239.64it/s]"
     ]
    },
    {
     "name": "stdout",
     "output_type": "stream",
     "text": [
      "12 trial : 3, 0.1\n",
      "9 trial : 2, 0.5\n",
      "5 trial : 1, 1\n"
     ]
    },
    {
     "name": "stderr",
     "output_type": "stream",
     "text": [
      "                                                              \r"
     ]
    },
    {
     "name": "stdout",
     "output_type": "stream",
     "text": [
      "11 trial : 1, 0.05\n",
      "16 trial : 2, 0.01\n",
      "15 trial : 1, 0.01\n"
     ]
    },
    {
     "name": "stderr",
     "output_type": "stream",
     "text": [
      "                                                              \r"
     ]
    },
    {
     "name": "stdout",
     "output_type": "stream",
     "text": [
      "Trial 4 : NF-GMM Finished 4 trial for N = 100\n",
      "Trial 3 : NF-GMM Finished 3 trial for N = 100\n",
      "Trial 0 : NF-GMM Finished 0 trial for N = 100\n",
      "Trial 1 : NF-GMM Finished 1 trial for N = 100\n",
      "Trial 2 : NF-GMM Finished 2 trial for N = 100\n",
      "Trial 13 : NF-GMM Finished 13 trial for N = 100\n",
      "Trial 8 : NF-GMM Finished 8 trial for N = 100\n",
      "Trial 17 : NF-GMM Finished 17 trial for N = 100\n",
      "Trial 18 : NF-GMM Finished 18 trial for N = 100\n",
      "Trial 7 : NF-GMM Finished 7 trial for N = 100\n",
      "Trial 10 : NF-GMM Finished 10 trial for N = 100\n",
      "Trial 19 : NF-GMM Finished 19 trial for N = 100\n",
      "Trial 6 : NF-GMM Finished 6 trial for N = 100\n",
      "Trial 14 : NF-GMM Finished 14 trial for N = 100\n",
      "Trial 9 : NF-GMM Finished 9 trial for N = 100\n",
      "Trial 5 : NF-GMM Finished 5 trial for N = 100\n",
      "Trial 11 : NF-GMM Finished 11 trial for N = 100\n",
      "Trial 12 : NF-GMM Finished 12 trial for N = 100\n",
      "Trial 15 : NF-GMM Finished 15 trial for N = 100\n",
      "Trial 16 : NF-GMM Finished 16 trial for N = 100\n",
      "Trial 4 : GMM (non-NF) Finished for N = 100\n",
      "Trial 0 : GMM (non-NF) Finished for N = 100\n",
      "Trial 3 : GMM (non-NF) Finished for N = 100\n",
      "Trial 1 : GMM (non-NF) Finished for N = 100\n",
      "Trial 13 : GMM (non-NF) Finished for N = 100\n",
      "Trial 8 : GMM (non-NF) Finished for N = 100\n",
      "Trial 2 : GMM (non-NF) Finished for N = 100\n",
      "Trial 17 : GMM (non-NF) Finished for N = 100\n",
      "Trial 7 : GMM (non-NF) Finished for N = 100\n",
      "Trial 18 : GMM (non-NF) Finished for N = 100\n",
      "Trial 6 : GMM (non-NF) Finished for N = 100\n",
      "Trial 14 : GMM (non-NF) Finished for N = 100\n",
      "Trial 11 : GMM (non-NF) Finished for N = 100\n",
      "Trial 15 : GMM (non-NF) Finished for N = 100\n",
      "Trial 10 : GMM (non-NF) Finished for N = 100\n",
      "Trial 5 : GMM (non-NF) Finished for N = 100\n",
      "Trial 19 : GMM (non-NF) Finished for N = 100\n",
      "Trial 16 : GMM (non-NF) Finished for N = 100\n",
      "Trial 9 : GMM (non-NF) Finished for N = 100\n",
      "Trial 12 : GMM (non-NF) Finished for N = 100\n",
      "Kanna Best eps at 4 trial for N = 100 : 0.01\n"
     ]
    },
    {
     "name": "stderr",
     "output_type": "stream",
     "text": [
      " 40%|████      | 40/100 [06:25<11:19, 11.33s/it] "
     ]
    },
    {
     "name": "stdout",
     "output_type": "stream",
     "text": [
      "KANNAN Finished 4 trial for N = 100\n",
      "NF-gmm,nonNF-gmm,kannan,nw : 98.91053443447217, 143.0314900436873, 61.40315222679702, 79.9968138282675\n",
      "Kanna Best eps at 0 trial for N = 100 : 1\n",
      "KANNAN Finished 0 trial for N = 100\n",
      "NF-gmm,nonNF-gmm,kannan,nw : 21.161619437484035, 30.11866178295512, 24.150298437080775, 28.174036068900907\n",
      "Kanna Best eps at 3 trial for N = 100 : 0.01\n",
      "KANNAN Finished 3 trial for N = 100\n",
      "NF-gmm,nonNF-gmm,kannan,nw : 41.85257104575132, 41.6639115871717, 47.469130984107835, 43.541293162736594\n",
      "Kanna Best eps at 1 trial for N = 100 : 1\n",
      "KANNAN Finished 1 trial for N = 100\n",
      "NF-gmm,nonNF-gmm,kannan,nw : 26.039700840187034, 27.514180530053434, 36.19889168239909, 32.39322994183075\n",
      "Kanna Best eps at 13 trial for N = 100 : 0.5\n",
      "Kanna Best eps at 8 trial for N = 100 : 0.01\n",
      "Kanna Best eps at 2 trial for N = 100 : 0.5\n",
      "KANNAN Finished 8 trial for N = 100\n",
      "NF-gmm,nonNF-gmm,kannan,nw : 25.926754708156615, 28.445296560235093, 26.216034649713816, 32.72149323015867\n",
      "KANNAN Finished 13 trial for N = 100\n",
      "NF-gmm,nonNF-gmm,kannan,nw : 13.653717439529446, 29.74648590583276, 14.503680442056902, 26.730074811057612\n",
      "KANNAN Finished 2 trial for N = 100\n",
      "NF-gmm,nonNF-gmm,kannan,nw : 35.871947867061, 35.66607991578842, 35.61178319394975, 33.70753876686571\n",
      "Kanna Best eps at 17 trial for N = 100 : 0.5\n",
      "Kanna Best eps at 7 trial for N = 100 : 0.5\n",
      "Kanna Best eps at 6 trial for N = 100 : 0.1\n",
      "KANNAN Finished 17 trial for N = 100\n",
      "NF-gmm,nonNF-gmm,kannan,nw : 4.390849578531322, 4.376802739276413, 8.094158611270673, 11.353769527108376\n",
      "Kanna Best eps at 18 trial for N = 100 : 0.01\n",
      "Kanna Best eps at 14 trial for N = 100 : 0.05\n",
      "KANNAN Finished 7 trial for N = 100\n",
      "NF-gmm,nonNF-gmm,kannan,nw : 34.03014425210654, 45.69143557682449, 40.33910804573453, 37.390822545905664\n",
      "KANNAN Finished 6 trial for N = 100\n",
      "NF-gmm,nonNF-gmm,kannan,nw : 37.55461600510031, 44.90325777428566, 48.633723134233094, 34.74164305444324\n",
      "Kanna Best eps at 11 trial for N = 100 : 0.01\n",
      "KANNAN Finished 18 trial for N = 100\n",
      "NF-gmm,nonNF-gmm,kannan,nw : 44.65220444588849, 47.537778156749624, 43.99687012542483, 51.3103712420618\n",
      "KANNAN Finished 14 trial for N = 100\n",
      "NF-gmm,nonNF-gmm,kannan,nw : 30.46467108528778, 29.954590968592615, 27.643595972590017, 35.38926168951176\n",
      "Kanna Best eps at 15 trial for N = 100 : 0.5\n",
      "Kanna Best eps at 5 trial for N = 100 : 0.5\n",
      "KANNAN Finished 11 trial for N = 100\n",
      "NF-gmm,nonNF-gmm,kannan,nw : 23.979547837897762, 24.3294282502906, 28.05352719791582, 38.747105214008464\n",
      "Kanna Best eps at 10 trial for N = 100 : 1\n",
      "KANNAN Finished 15 trial for N = 100\n",
      "NF-gmm,nonNF-gmm,kannan,nw : 5.937834528857222, 8.556563745874536, 11.627449984395234, 33.00909450296708\n",
      "KANNAN Finished 5 trial for N = 100\n",
      "NF-gmm,nonNF-gmm,kannan,nw : 33.96673247356934, 37.024260237053085, 37.79236767486764, 45.640146305262036\n",
      "KANNAN Finished 10 trial for N = 100\n",
      "NF-gmm,nonNF-gmm,kannan,nw : 3.411275661729289, 20.102296909921822, 8.624792554965001, 4.476112024859743\n",
      "Kanna Best eps at 19 trial for N = 100 : 0.05\n",
      "Kanna Best eps at 16 trial for N = 100 : 1\n",
      "KANNAN Finished 19 trial for N = 100\n",
      "NF-gmm,nonNF-gmm,kannan,nw : 28.60857797711269, 43.77118533926568, 43.555859144196305, 39.42223387833402\n",
      "Kanna Best eps at 9 trial for N = 100 : 0.05\n",
      "KANNAN Finished 16 trial for N = 100\n",
      "NF-gmm,nonNF-gmm,kannan,nw : 27.217156500026732, 81.23001408426411, 34.7190048849642, 41.01248981311388\n",
      "Kanna Best eps at 12 trial for N = 100 : 0.01\n",
      "KANNAN Finished 9 trial for N = 100\n",
      "NF-gmm,nonNF-gmm,kannan,nw : 42.147008957214496, 50.20299610844372, 43.004865575072785, 43.768415077073236\n",
      "KANNAN Finished 12 trial for N = 100\n",
      "NF-gmm,nonNF-gmm,kannan,nw : 35.42314688868084, 33.51908162899232, 34.17758370672144, 52.456282289989964\n",
      "NW Finished 20 trial for N = 100, 44.79281477977628\n"
     ]
    },
    {
     "name": "stderr",
     "output_type": "stream",
     "text": [
      "                                                             \r"
     ]
    },
    {
     "name": "stdout",
     "output_type": "stream",
     "text": [
      "NW Finished 21 trial for N = 100, 18.6409534689889\n"
     ]
    },
    {
     "name": "stderr",
     "output_type": "stream",
     "text": [
      "Training NF:   0%|          | 0/300 [00:00<?, ?it/s]7.75it/s]"
     ]
    },
    {
     "name": "stdout",
     "output_type": "stream",
     "text": [
      "NW Finished 22 trial for N = 100, 60.885184448255764\n"
     ]
    },
    {
     "name": "stderr",
     "output_type": "stream",
     "text": [
      "Training NF:   0%|          | 0/300 [00:00<?, ?it/s]         "
     ]
    },
    {
     "name": "stdout",
     "output_type": "stream",
     "text": [
      "NW Finished 23 trial for N = 100, 39.38333579581451\n"
     ]
    },
    {
     "name": "stderr",
     "output_type": "stream",
     "text": [
      "                                                             \r"
     ]
    },
    {
     "name": "stdout",
     "output_type": "stream",
     "text": [
      "NW Finished 25 trial for N = 100, 32.88708356243739\n",
      "NW Finished 24 trial for N = 100, 66.41354050622854\n",
      "NW Finished 26 trial for N = 100, 18.63607536294117\n"
     ]
    },
    {
     "name": "stderr",
     "output_type": "stream",
     "text": [
      "Training NF:   7%|▋         | 20/300 [00:00<00:08, 34.14it/s]"
     ]
    },
    {
     "name": "stdout",
     "output_type": "stream",
     "text": [
      "NW Finished 28 trial for N = 100, 14.491839450320118\n",
      "NW Finished 27 trial for N = 100, 24.228451077537443\n"
     ]
    },
    {
     "name": "stderr",
     "output_type": "stream",
     "text": [
      "Training NF:   0%|          | 0/300 [00:00<?, ?it/s]8.67it/s]"
     ]
    },
    {
     "name": "stdout",
     "output_type": "stream",
     "text": [
      "NW Finished 29 trial for N = 100, 15.755851814667366\n",
      "NW Finished 31 trial for N = 100, 46.68234395300228\n"
     ]
    },
    {
     "name": "stderr",
     "output_type": "stream",
     "text": [
      "Training NF:   3%|▎         | 8/300 [00:00<00:08, 35.29it/s]]"
     ]
    },
    {
     "name": "stdout",
     "output_type": "stream",
     "text": [
      "NW Finished 30 trial for N = 100, 39.52505322256829\n",
      "NW Finished 32 trial for N = 100, 51.16268246722127\n",
      "NW Finished 33 trial for N = 100, 44.419484831686205\n"
     ]
    },
    {
     "name": "stderr",
     "output_type": "stream",
     "text": [
      "Training NF:   3%|▎         | 8/300 [00:00<00:08, 36.35it/s]]"
     ]
    },
    {
     "name": "stdout",
     "output_type": "stream",
     "text": [
      "NW Finished 34 trial for N = 100, 63.2688841237084\n",
      "NW Finished 35 trial for N = 100, 27.65253673203263\n"
     ]
    },
    {
     "name": "stderr",
     "output_type": "stream",
     "text": [
      "Training NF:   0%|          | 0/300 [00:00<?, ?it/s]7.30it/s]"
     ]
    },
    {
     "name": "stdout",
     "output_type": "stream",
     "text": [
      "NW Finished 36 trial for N = 100, 7.234555580004208\n",
      "NW Finished 37 trial for N = 100, 14.178531476459641\n"
     ]
    },
    {
     "name": "stderr",
     "output_type": "stream",
     "text": [
      "Training NF:   6%|▌         | 18/300 [00:00<00:07, 35.84it/s]"
     ]
    },
    {
     "name": "stdout",
     "output_type": "stream",
     "text": [
      "NW Finished 38 trial for N = 100, 31.30114579778484\n",
      "NW Finished 39 trial for N = 100, 44.780444239217566\n"
     ]
    },
    {
     "name": "stderr",
     "output_type": "stream",
     "text": [
      "                                                             \r"
     ]
    },
    {
     "name": "stdout",
     "output_type": "stream",
     "text": [
      "20 trial : 2, 0.5\n"
     ]
    },
    {
     "name": "stderr",
     "output_type": "stream",
     "text": [
      "                                                              \r"
     ]
    },
    {
     "name": "stdout",
     "output_type": "stream",
     "text": [
      "21 trial : 1, 0.01\n"
     ]
    },
    {
     "name": "stderr",
     "output_type": "stream",
     "text": [
      "                                                              \r"
     ]
    },
    {
     "name": "stdout",
     "output_type": "stream",
     "text": [
      "23 trial : 3, 0.5\n"
     ]
    },
    {
     "name": "stderr",
     "output_type": "stream",
     "text": [
      "Training NF:  22%|██▎       | 45/200 [00:00<00:00, 222.23it/s]"
     ]
    },
    {
     "name": "stdout",
     "output_type": "stream",
     "text": [
      "22 trial : 3, 0.01\n"
     ]
    },
    {
     "name": "stderr",
     "output_type": "stream",
     "text": [
      "                                                              \r"
     ]
    },
    {
     "name": "stdout",
     "output_type": "stream",
     "text": [
      "25 trial : 3, 0.05\n",
      "33 trial : 3, 0.1\n"
     ]
    },
    {
     "name": "stderr",
     "output_type": "stream",
     "text": [
      "                                                              \r"
     ]
    },
    {
     "name": "stdout",
     "output_type": "stream",
     "text": [
      "24 trial : 2, 0.05\n",
      "26 trial : 1, 0.5\n",
      "29 trial : 3, 0.5\n",
      "28 trial : 2, 1\n"
     ]
    },
    {
     "name": "stderr",
     "output_type": "stream",
     "text": [
      "                                                              \r"
     ]
    },
    {
     "name": "stdout",
     "output_type": "stream",
     "text": [
      "34 trial : 1, 1\n",
      "36 trial : 3, 1\n",
      "30 trial : 1, 0.01\n"
     ]
    },
    {
     "name": "stderr",
     "output_type": "stream",
     "text": [
      "Training NF:   0%|          | 0/200 [00:00<?, ?it/s]87.09it/s]"
     ]
    },
    {
     "name": "stdout",
     "output_type": "stream",
     "text": [
      "31 trial : 3, 1\n",
      "27 trial : 3, 0.1\n",
      "32 trial : 3, 0.5\n"
     ]
    },
    {
     "name": "stderr",
     "output_type": "stream",
     "text": [
      "Training NF:   0%|          | 0/200 [00:00<?, ?it/s]          "
     ]
    },
    {
     "name": "stdout",
     "output_type": "stream",
     "text": [
      "39 trial : 3, 1\n",
      "35 trial : 3, 0.01\n",
      "38 trial : 2, 0.01\n",
      "37 trial : 2, 0.05\n"
     ]
    },
    {
     "name": "stderr",
     "output_type": "stream",
     "text": [
      "                                                              \r"
     ]
    },
    {
     "name": "stdout",
     "output_type": "stream",
     "text": [
      "Trial 20 : NF-GMM Finished 20 trial for N = 100\n",
      "Trial 21 : NF-GMM Finished 21 trial for N = 100\n",
      "Trial 23 : NF-GMM Finished 23 trial for N = 100\n",
      "Trial 22 : NF-GMM Finished 22 trial for N = 100\n",
      "Trial 25 : NF-GMM Finished 25 trial for N = 100\n",
      "Trial 33 : NF-GMM Finished 33 trial for N = 100\n",
      "Trial 28 : NF-GMM Finished 28 trial for N = 100\n",
      "Trial 24 : NF-GMM Finished 24 trial for N = 100\n",
      "Trial 29 : NF-GMM Finished 29 trial for N = 100\n",
      "Trial 26 : NF-GMM Finished 26 trial for N = 100\n",
      "Trial 36 : NF-GMM Finished 36 trial for N = 100\n",
      "Trial 34 : NF-GMM Finished 34 trial for N = 100\n",
      "Trial 30 : NF-GMM Finished 30 trial for N = 100\n",
      "Trial 27 : NF-GMM Finished 27 trial for N = 100\n",
      "Trial 31 : NF-GMM Finished 31 trial for N = 100\n",
      "Trial 39 : NF-GMM Finished 39 trial for N = 100\n",
      "Trial 32 : NF-GMM Finished 32 trial for N = 100\n",
      "Trial 38 : NF-GMM Finished 38 trial for N = 100\n",
      "Trial 35 : NF-GMM Finished 35 trial for N = 100\n",
      "Trial 37 : NF-GMM Finished 37 trial for N = 100\n",
      "Trial 20 : GMM (non-NF) Finished for N = 100\n",
      "Trial 21 : GMM (non-NF) Finished for N = 100\n",
      "Trial 23 : GMM (non-NF) Finished for N = 100\n",
      "Trial 22 : GMM (non-NF) Finished for N = 100\n",
      "Trial 28 : GMM (non-NF) Finished for N = 100\n",
      "Trial 33 : GMM (non-NF) Finished for N = 100\n",
      "Trial 25 : GMM (non-NF) Finished for N = 100\n",
      "Trial 24 : GMM (non-NF) Finished for N = 100\n",
      "Trial 29 : GMM (non-NF) Finished for N = 100\n",
      "Trial 31 : GMM (non-NF) Finished for N = 100\n",
      "Trial 30 : GMM (non-NF) Finished for N = 100\n",
      "Trial 37 : GMM (non-NF) Finished for N = 100\n",
      "Trial 27 : GMM (non-NF) Finished for N = 100\n",
      "Trial 26 : GMM (non-NF) Finished for N = 100\n",
      "Trial 36 : GMM (non-NF) Finished for N = 100\n",
      "Trial 35 : GMM (non-NF) Finished for N = 100\n",
      "Trial 34 : GMM (non-NF) Finished for N = 100\n",
      "Trial 38 : GMM (non-NF) Finished for N = 100\n",
      "Trial 39 : GMM (non-NF) Finished for N = 100\n",
      "Trial 32 : GMM (non-NF) Finished for N = 100\n",
      "Kanna Best eps at 20 trial for N = 100 : 0.01\n"
     ]
    },
    {
     "name": "stderr",
     "output_type": "stream",
     "text": [
      " 60%|██████    | 60/100 [12:49<09:57, 14.94s/it]"
     ]
    },
    {
     "name": "stdout",
     "output_type": "stream",
     "text": [
      "KANNAN Finished 20 trial for N = 100\n",
      "NF-gmm,nonNF-gmm,kannan,nw : 38.95484174760308, 37.8254871711476, 40.8784817552974, 44.79281477977628\n",
      "Kanna Best eps at 21 trial for N = 100 : 0.5\n",
      "KANNAN Finished 21 trial for N = 100\n",
      "NF-gmm,nonNF-gmm,kannan,nw : 9.60041780047533, 9.768663887325747, 9.459277426678222, 18.6409534689889\n",
      "Kanna Best eps at 23 trial for N = 100 : 0.5\n",
      "KANNAN Finished 23 trial for N = 100\n",
      "NF-gmm,nonNF-gmm,kannan,nw : 34.126900588711734, 34.276076462222385, 43.07813265005893, 39.38333579581451\n",
      "Kanna Best eps at 28 trial for N = 100 : 0.01\n",
      "Kanna Best eps at 22 trial for N = 100 : 0.5\n",
      "Kanna Best eps at 33 trial for N = 100 : 0.01\n",
      "KANNAN Finished 28 trial for N = 100\n",
      "NF-gmm,nonNF-gmm,kannan,nw : 9.580123932613734, 8.030079572390203, 10.278002721389946, 14.491839450320118\n",
      "KANNAN Finished 22 trial for N = 100\n",
      "NF-gmm,nonNF-gmm,kannan,nw : 51.36625581293609, 51.803450430043746, 50.481126617408336, 60.885184448255764\n",
      "KANNAN Finished 33 trial for N = 100\n",
      "NF-gmm,nonNF-gmm,kannan,nw : 42.91807004086708, 74.66001679763836, 38.91413758319873, 44.419484831686205\n",
      "Kanna Best eps at 25 trial for N = 100 : 0.5\n",
      "KANNAN Finished 25 trial for N = 100\n",
      "NF-gmm,nonNF-gmm,kannan,nw : 93.07872500946601, 34.64197048584657, 49.144869649535885, 32.88708356243739\n",
      "Kanna Best eps at 29 trial for N = 100 : 0.05\n",
      "Kanna Best eps at 24 trial for N = 100 : 1\n",
      "Kanna Best eps at 31 trial for N = 100 : 0.05\n",
      "KANNAN Finished 29 trial for N = 100\n",
      "NF-gmm,nonNF-gmm,kannan,nw : 11.260359311003876, 11.707014254898684, 17.629975420819967, 15.755851814667366\n",
      "Kanna Best eps at 30 trial for N = 100 : 1\n",
      "KANNAN Finished 24 trial for N = 100\n",
      "NF-gmm,nonNF-gmm,kannan,nw : 91.72962573111471, 66.56431927594777, 71.24095388089601, 66.41354050622854\n",
      "KANNAN Finished 31 trial for N = 100\n",
      "NF-gmm,nonNF-gmm,kannan,nw : 33.76603327146994, 44.615427476099384, 32.80830275075188, 46.68234395300228\n",
      "KANNAN Finished 30 trial for N = 100\n",
      "NF-gmm,nonNF-gmm,kannan,nw : 24.449168163353214, 24.692289163692305, 33.036847968572566, 39.52505322256829\n",
      "Kanna Best eps at 37 trial for N = 100 : 1\n",
      "Kanna Best eps at 35 trial for N = 100 : 0.01\n",
      "KANNAN Finished 37 trial for N = 100\n",
      "NF-gmm,nonNF-gmm,kannan,nw : 31.584378900191087, 13.119682805842547, 16.345190216615904, 14.178531476459641\n",
      "Kanna Best eps at 26 trial for N = 100 : 1\n",
      "Kanna Best eps at 36 trial for N = 100 : 0.05\n",
      "Kanna Best eps at 38 trial for N = 100 : 1\n",
      "Kanna Best eps at 39 trial for N = 100 : 0.05\n",
      "KANNAN Finished 35 trial for N = 100\n",
      "NF-gmm,nonNF-gmm,kannan,nw : 20.532810095076975, 42.5059325286933, 22.426514646225026, 27.65253673203263\n",
      "Kanna Best eps at 34 trial for N = 100 : 1\n",
      "Kanna Best eps at 32 trial for N = 100 : 0.05\n",
      "Kanna Best eps at 27 trial for N = 100 : 0.5\n",
      "KANNAN Finished 26 trial for N = 100\n",
      "NF-gmm,nonNF-gmm,kannan,nw : 17.829584988974645, 32.16539327417728, 19.20541442326175, 18.63607536294117\n",
      "KANNAN Finished 36 trial for N = 100\n",
      "NF-gmm,nonNF-gmm,kannan,nw : 6.838730538729742, 18.57000877167311, 17.32554934141736, 7.234555580004208\n",
      "KANNAN Finished 38 trial for N = 100\n",
      "NF-gmm,nonNF-gmm,kannan,nw : 29.399538890283722, 32.022128653440745, 30.210002683299585, 31.30114579778484\n",
      "KANNAN Finished 39 trial for N = 100\n",
      "NF-gmm,nonNF-gmm,kannan,nw : 43.56732003170304, 61.8262340758449, 55.23173572265968, 44.780444239217566\n",
      "KANNAN Finished 32 trial for N = 100\n",
      "NF-gmm,nonNF-gmm,kannan,nw : 35.05072397701176, 42.251753512984926, 37.7860654951614, 51.16268246722127\n",
      "KANNAN Finished 34 trial for N = 100\n",
      "NF-gmm,nonNF-gmm,kannan,nw : 44.61085938311397, 43.903949349075305, 48.08618855614022, 63.2688841237084\n",
      "KANNAN Finished 27 trial for N = 100\n",
      "NF-gmm,nonNF-gmm,kannan,nw : 6.820741892278881, 6.473777332215422, 10.69494926183281, 24.228451077537443\n",
      "NW Finished 40 trial for N = 100, 10.202492038595521\n"
     ]
    },
    {
     "name": "stderr",
     "output_type": "stream",
     "text": [
      "                                                             \r"
     ]
    },
    {
     "name": "stdout",
     "output_type": "stream",
     "text": [
      "NW Finished 41 trial for N = 100, 28.482721464852336\n"
     ]
    },
    {
     "name": "stderr",
     "output_type": "stream",
     "text": [
      "                                                             \r"
     ]
    },
    {
     "name": "stdout",
     "output_type": "stream",
     "text": [
      "NW Finished 42 trial for N = 100, 13.515397474365262\n"
     ]
    },
    {
     "name": "stderr",
     "output_type": "stream",
     "text": [
      "Training NF:   0%|          | 0/300 [00:00<?, ?it/s]5.84it/s]"
     ]
    },
    {
     "name": "stdout",
     "output_type": "stream",
     "text": [
      "NW Finished 44 trial for N = 100, 51.651187881802485\n",
      "NW Finished 43 trial for N = 100, 23.055608899418786\n",
      "NW Finished 45 trial for N = 100, 48.94583565230793\n"
     ]
    },
    {
     "name": "stderr",
     "output_type": "stream",
     "text": [
      "                                                             \r"
     ]
    },
    {
     "name": "stdout",
     "output_type": "stream",
     "text": [
      "NW Finished 46 trial for N = 100, 35.50490541533102\n"
     ]
    },
    {
     "name": "stderr",
     "output_type": "stream",
     "text": [
      "                                                             \r"
     ]
    },
    {
     "name": "stdout",
     "output_type": "stream",
     "text": [
      "NW Finished 47 trial for N = 100, 22.17390891158475\n"
     ]
    },
    {
     "name": "stderr",
     "output_type": "stream",
     "text": [
      "Training NF:   0%|          | 0/300 [00:00<?, ?it/s].01it/s]"
     ]
    },
    {
     "name": "stdout",
     "output_type": "stream",
     "text": [
      "NW Finished 49 trial for N = 100, 23.183174637738606\n",
      "NW Finished 48 trial for N = 100, 48.0360057909077\n"
     ]
    },
    {
     "name": "stderr",
     "output_type": "stream",
     "text": [
      "Training NF:   3%|▎         | 9/300 [00:00<00:07, 38.54it/s]]"
     ]
    },
    {
     "name": "stdout",
     "output_type": "stream",
     "text": [
      "NW Finished 50 trial for N = 100, 53.907095444908265\n"
     ]
    },
    {
     "name": "stderr",
     "output_type": "stream",
     "text": [
      "Training NF:   1%|▏         | 4/300 [00:00<00:09, 32.68it/s] "
     ]
    },
    {
     "name": "stdout",
     "output_type": "stream",
     "text": [
      "NW Finished 51 trial for N = 100, 43.19993688545402\n"
     ]
    },
    {
     "name": "stderr",
     "output_type": "stream",
     "text": [
      "Training NF:   0%|          | 0/300 [00:00<?, ?it/s]         "
     ]
    },
    {
     "name": "stdout",
     "output_type": "stream",
     "text": [
      "NW Finished 52 trial for N = 100, 39.86902925766957\n",
      "NW Finished 58 trial for N = 100, 36.40302821992164\n"
     ]
    },
    {
     "name": "stderr",
     "output_type": "stream",
     "text": [
      "Training NF:   3%|▎         | 8/300 [00:00<00:08, 33.74it/s]]"
     ]
    },
    {
     "name": "stdout",
     "output_type": "stream",
     "text": [
      "NW Finished 53 trial for N = 100, 56.56791512356728\n",
      "NW Finished 54 trial for N = 100, 9.811112139213929\n",
      "NW Finished 56 trial for N = 100, 29.113885546425955\n",
      "NW Finished 57 trial for N = 100, 27.721227737524924\n",
      "NW Finished 59 trial for N = 100, 52.480991983644834\n",
      "NW Finished 55 trial for N = 100, 25.571790096424696\n"
     ]
    },
    {
     "name": "stderr",
     "output_type": "stream",
     "text": [
      "                                                             \r"
     ]
    },
    {
     "name": "stdout",
     "output_type": "stream",
     "text": [
      "40 trial : 3, 0.05\n"
     ]
    },
    {
     "name": "stderr",
     "output_type": "stream",
     "text": [
      "                                                              \r"
     ]
    },
    {
     "name": "stdout",
     "output_type": "stream",
     "text": [
      "41 trial : 3, 0.05\n"
     ]
    },
    {
     "name": "stderr",
     "output_type": "stream",
     "text": [
      "                                                              \r"
     ]
    },
    {
     "name": "stdout",
     "output_type": "stream",
     "text": [
      "43 trial : 1, 0.05\n"
     ]
    },
    {
     "name": "stderr",
     "output_type": "stream",
     "text": [
      "                                                              \r"
     ]
    },
    {
     "name": "stdout",
     "output_type": "stream",
     "text": [
      "45 trial : 1, 0.05\n"
     ]
    },
    {
     "name": "stderr",
     "output_type": "stream",
     "text": [
      "Training NF:   0%|          | 0/200 [00:00<?, ?it/s]          "
     ]
    },
    {
     "name": "stdout",
     "output_type": "stream",
     "text": [
      "42 trial : 3, 1\n",
      "44 trial : 2, 1\n",
      "46 trial : 3, 0.05\n"
     ]
    },
    {
     "name": "stderr",
     "output_type": "stream",
     "text": [
      "                                                              \r"
     ]
    },
    {
     "name": "stdout",
     "output_type": "stream",
     "text": [
      "50 trial : 3, 0.1\n"
     ]
    },
    {
     "name": "stderr",
     "output_type": "stream",
     "text": [
      "Training NF:   0%|          | 0/200 [00:00<?, ?it/s]          "
     ]
    },
    {
     "name": "stdout",
     "output_type": "stream",
     "text": [
      "48 trial : 2, 0.01\n",
      "47 trial : 1, 1\n",
      "51 trial : 3, 0.01\n"
     ]
    },
    {
     "name": "stderr",
     "output_type": "stream",
     "text": [
      "Training NF:   0%|          | 0/200 [00:00<?, ?it/s]44.40it/s]"
     ]
    },
    {
     "name": "stdout",
     "output_type": "stream",
     "text": [
      "54 trial : 3, 1\n",
      "49 trial : 1, 0.5\n",
      "57 trial : 3, 1\n"
     ]
    },
    {
     "name": "stderr",
     "output_type": "stream",
     "text": [
      "Training NF:   0%|          | 0/200 [00:00<?, ?it/s]          "
     ]
    },
    {
     "name": "stdout",
     "output_type": "stream",
     "text": [
      "58 trial : 2, 0.05\n",
      "55 trial : 1, 0.05\n"
     ]
    },
    {
     "name": "stderr",
     "output_type": "stream",
     "text": [
      "Training NF:  12%|█▏        | 23/200 [00:00<00:00, 229.12it/s]"
     ]
    },
    {
     "name": "stdout",
     "output_type": "stream",
     "text": [
      "52 trial : 1, 1\n",
      "56 trial : 2, 0.01\n"
     ]
    },
    {
     "name": "stderr",
     "output_type": "stream",
     "text": [
      "                                                              \r"
     ]
    },
    {
     "name": "stdout",
     "output_type": "stream",
     "text": [
      "Trial 40 : NF-GMM Finished 40 trial for N = 100\n",
      "59 trial : 1, 0.01\n",
      "53 trial : 1, 1\n"
     ]
    },
    {
     "name": "stderr",
     "output_type": "stream",
     "text": [
      "                                                              \r"
     ]
    },
    {
     "name": "stdout",
     "output_type": "stream",
     "text": [
      "Trial 41 : NF-GMM Finished 41 trial for N = 100\n",
      "Trial 43 : NF-GMM Finished 43 trial for N = 100\n",
      "Trial 45 : NF-GMM Finished 45 trial for N = 100\n",
      "Trial 42 : NF-GMM Finished 42 trial for N = 100\n",
      "Trial 46 : NF-GMM Finished 46 trial for N = 100\n",
      "Trial 44 : NF-GMM Finished 44 trial for N = 100\n",
      "Trial 50 : NF-GMM Finished 50 trial for N = 100\n",
      "Trial 48 : NF-GMM Finished 48 trial for N = 100\n",
      "Trial 47 : NF-GMM Finished 47 trial for N = 100\n",
      "Trial 54 : NF-GMM Finished 54 trial for N = 100\n",
      "Trial 51 : NF-GMM Finished 51 trial for N = 100\n",
      "Trial 49 : NF-GMM Finished 49 trial for N = 100\n",
      "Trial 57 : NF-GMM Finished 57 trial for N = 100\n",
      "Trial 58 : NF-GMM Finished 58 trial for N = 100\n",
      "Trial 55 : NF-GMM Finished 55 trial for N = 100\n",
      "Trial 52 : NF-GMM Finished 52 trial for N = 100\n",
      "Trial 56 : NF-GMM Finished 56 trial for N = 100\n",
      "Trial 59 : NF-GMM Finished 59 trial for N = 100\n",
      "Trial 53 : NF-GMM Finished 53 trial for N = 100\n",
      "Trial 40 : GMM (non-NF) Finished for N = 100\n",
      "Trial 41 : GMM (non-NF) Finished for N = 100\n",
      "Trial 45 : GMM (non-NF) Finished for N = 100\n",
      "Trial 43 : GMM (non-NF) Finished for N = 100\n",
      "Trial 46 : GMM (non-NF) Finished for N = 100\n",
      "Trial 42 : GMM (non-NF) Finished for N = 100\n",
      "Trial 50 : GMM (non-NF) Finished for N = 100\n",
      "Trial 51 : GMM (non-NF) Finished for N = 100\n",
      "Trial 54 : GMM (non-NF) Finished for N = 100\n",
      "Trial 44 : GMM (non-NF) Finished for N = 100\n",
      "Trial 58 : GMM (non-NF) Finished for N = 100\n",
      "Trial 48 : GMM (non-NF) Finished for N = 100\n",
      "Trial 47 : GMM (non-NF) Finished for N = 100\n",
      "Trial 49 : GMM (non-NF) Finished for N = 100\n",
      "Trial 57 : GMM (non-NF) Finished for N = 100\n",
      "Trial 55 : GMM (non-NF) Finished for N = 100\n",
      "Trial 56 : GMM (non-NF) Finished for N = 100\n",
      "Trial 52 : GMM (non-NF) Finished for N = 100\n",
      "Trial 53 : GMM (non-NF) Finished for N = 100\n",
      "Trial 59 : GMM (non-NF) Finished for N = 100\n",
      "Kanna Best eps at 40 trial for N = 100 : 1\n"
     ]
    },
    {
     "name": "stderr",
     "output_type": "stream",
     "text": [
      " 80%|████████  | 80/100 [19:15<05:33, 16.65s/it]"
     ]
    },
    {
     "name": "stdout",
     "output_type": "stream",
     "text": [
      "KANNAN Finished 40 trial for N = 100\n",
      "NF-gmm,nonNF-gmm,kannan,nw : 3.685519405154927, 7.5800475345080915, 3.571731164705376, 10.202492038595521\n",
      "Kanna Best eps at 41 trial for N = 100 : 0.05\n",
      "KANNAN Finished 41 trial for N = 100\n",
      "NF-gmm,nonNF-gmm,kannan,nw : 23.933655900691086, 41.49910152729637, 42.61393115378294, 28.482721464852336\n",
      "Kanna Best eps at 45 trial for N = 100 : 0.1\n",
      "KANNAN Finished 45 trial for N = 100\n",
      "NF-gmm,nonNF-gmm,kannan,nw : 9.222569129785947, 13.6659257402875, 10.894259414121965, 48.94583565230793\n",
      "Kanna Best eps at 43 trial for N = 100 : 0.01\n",
      "KANNAN Finished 43 trial for N = 100\n",
      "NF-gmm,nonNF-gmm,kannan,nw : 11.13989930295683, 12.998019241390956, 12.042661020736382, 23.055608899418786\n",
      "Kanna Best eps at 46 trial for N = 100 : 0.05\n",
      "Kanna Best eps at 42 trial for N = 100 : 0.01\n",
      "KANNAN Finished 46 trial for N = 100\n",
      "NF-gmm,nonNF-gmm,kannan,nw : 22.19853609438151, 76.7026466579942, 32.22708787071537, 35.50490541533102\n",
      "KANNAN Finished 42 trial for N = 100\n",
      "NF-gmm,nonNF-gmm,kannan,nw : 18.377460897459496, 7.7419516704597315, 9.078064223947045, 13.515397474365262\n",
      "Kanna Best eps at 50 trial for N = 100 : 0.01\n",
      "Kanna Best eps at 44 trial for N = 100 : 1\n",
      "KANNAN Finished 50 trial for N = 100\n",
      "NF-gmm,nonNF-gmm,kannan,nw : 20.83423983065824, 29.822673221119437, 29.06022538824644, 53.907095444908265\n",
      "Kanna Best eps at 58 trial for N = 100 : 0.1\n",
      "Kanna Best eps at 51 trial for N = 100 : 0.01\n",
      "Kanna Best eps at 54 trial for N = 100 : 0.5\n",
      "KANNAN Finished 44 trial for N = 100\n",
      "NF-gmm,nonNF-gmm,kannan,nw : 37.499588869382066, 45.033012677875384, 42.64647704652834, 51.651187881802485\n",
      "KANNAN Finished 58 trial for N = 100\n",
      "NF-gmm,nonNF-gmm,kannan,nw : 10.874060562835524, 19.03254460811012, 7.168542070089137, 36.40302821992164\n",
      "KANNAN Finished 54 trial for N = 100\n",
      "NF-gmm,nonNF-gmm,kannan,nw : 5.381430321298978, 5.377863151044492, 7.350799485856653, 9.811112139213929\n",
      "KANNAN Finished 51 trial for N = 100\n",
      "NF-gmm,nonNF-gmm,kannan,nw : 21.168318760819815, 31.80078589850044, 24.939789110701, 43.19993688545402\n",
      "Kanna Best eps at 47 trial for N = 100 : 1\n",
      "Kanna Best eps at 48 trial for N = 100 : 0.01\n",
      "KANNAN Finished 47 trial for N = 100\n",
      "NF-gmm,nonNF-gmm,kannan,nw : 6.319074462703748, 7.045798424227314, 7.300429758592386, 22.17390891158475\n",
      "Kanna Best eps at 57 trial for N = 100 : 0.05\n",
      "KANNAN Finished 48 trial for N = 100\n",
      "NF-gmm,nonNF-gmm,kannan,nw : 34.98348960208755, 36.587259090650484, 38.0770348087207, 48.0360057909077\n",
      "Kanna Best eps at 49 trial for N = 100 : 0.05\n",
      "Kanna Best eps at 52 trial for N = 100 : 1\n",
      "Kanna Best eps at 56 trial for N = 100 : 0.1\n",
      "Kanna Best eps at 55 trial for N = 100 : 0.5\n",
      "KANNAN Finished 57 trial for N = 100\n",
      "NF-gmm,nonNF-gmm,kannan,nw : 27.170701134498977, 28.848223510799304, 26.3195629000939, 27.721227737524924\n",
      "KANNAN Finished 49 trial for N = 100\n",
      "NF-gmm,nonNF-gmm,kannan,nw : 13.356249172049463, 22.150114758048225, 21.159272978682107, 23.183174637738606\n",
      "KANNAN Finished 52 trial for N = 100\n",
      "NF-gmm,nonNF-gmm,kannan,nw : 31.7289724978925, 32.337840688689944, 32.05299318383952, 39.86902925766957\n",
      "KANNAN Finished 56 trial for N = 100\n",
      "NF-gmm,nonNF-gmm,kannan,nw : 15.70745320778966, 19.591706978226036, 22.70350609539605, 29.113885546425955\n",
      "KANNAN Finished 55 trial for N = 100\n",
      "NF-gmm,nonNF-gmm,kannan,nw : 5.304811681495063, 4.586353696124018, 6.583474755013006, 25.571790096424696\n",
      "Kanna Best eps at 53 trial for N = 100 : 0.5\n",
      "KANNAN Finished 53 trial for N = 100\n",
      "NF-gmm,nonNF-gmm,kannan,nw : 43.10467632776549, 62.18879710038474, 62.48721892719658, 56.56791512356728\n",
      "Kanna Best eps at 59 trial for N = 100 : 0.1\n",
      "KANNAN Finished 59 trial for N = 100\n",
      "NF-gmm,nonNF-gmm,kannan,nw : 23.877746401547462, 25.31925940153111, 27.410971556023497, 52.480991983644834\n",
      "NW Finished 60 trial for N = 100, 32.78809543760148\n"
     ]
    },
    {
     "name": "stderr",
     "output_type": "stream",
     "text": [
      "                                                             \r"
     ]
    },
    {
     "name": "stdout",
     "output_type": "stream",
     "text": [
      "NW Finished 61 trial for N = 100, 43.00837864748808\n"
     ]
    },
    {
     "name": "stderr",
     "output_type": "stream",
     "text": [
      "                                                             \r"
     ]
    },
    {
     "name": "stdout",
     "output_type": "stream",
     "text": [
      "NW Finished 62 trial for N = 100, 34.32819252099946\n",
      "NW Finished 63 trial for N = 100, 53.823418618774674\n"
     ]
    },
    {
     "name": "stderr",
     "output_type": "stream",
     "text": [
      "                                                             \r"
     ]
    },
    {
     "name": "stdout",
     "output_type": "stream",
     "text": [
      "NW Finished 65 trial for N = 100, 31.41368018080867\n",
      "NW Finished 64 trial for N = 100, 38.27107109382876\n"
     ]
    },
    {
     "name": "stderr",
     "output_type": "stream",
     "text": [
      "                                                             \r"
     ]
    },
    {
     "name": "stdout",
     "output_type": "stream",
     "text": [
      "NW Finished 66 trial for N = 100, 37.4041818148056\n",
      "NW Finished 67 trial for N = 100, 63.8167475584222\n"
     ]
    },
    {
     "name": "stderr",
     "output_type": "stream",
     "text": [
      "Training NF:   3%|▎         | 8/300 [00:00<00:08, 33.79it/s]]"
     ]
    },
    {
     "name": "stdout",
     "output_type": "stream",
     "text": [
      "NW Finished 68 trial for N = 100, 38.477181171911454\n",
      "NW Finished 69 trial for N = 100, 56.644233668815914\n"
     ]
    },
    {
     "name": "stderr",
     "output_type": "stream",
     "text": [
      "Training NF:   1%|▏         | 4/300 [00:00<00:07, 39.54it/s]]"
     ]
    },
    {
     "name": "stdout",
     "output_type": "stream",
     "text": [
      "NW Finished 70 trial for N = 100, 21.394512719127235\n"
     ]
    },
    {
     "name": "stderr",
     "output_type": "stream",
     "text": [
      "                                                             \r"
     ]
    },
    {
     "name": "stdout",
     "output_type": "stream",
     "text": [
      "NW Finished 71 trial for N = 100, 22.171513279990005\n"
     ]
    },
    {
     "name": "stderr",
     "output_type": "stream",
     "text": [
      "Training NF:   0%|          | 0/300 [00:00<?, ?it/s]8.91it/s]"
     ]
    },
    {
     "name": "stdout",
     "output_type": "stream",
     "text": [
      "NW Finished 72 trial for N = 100, 26.37480457374393\n",
      "NW Finished 74 trial for N = 100, 37.60988796773214\n"
     ]
    },
    {
     "name": "stderr",
     "output_type": "stream",
     "text": [
      "Training NF:   3%|▎         | 8/300 [00:00<00:09, 30.89it/s]]"
     ]
    },
    {
     "name": "stdout",
     "output_type": "stream",
     "text": [
      "NW Finished 73 trial for N = 100, 26.500957247562894\n",
      "NW Finished 75 trial for N = 100, 37.6926443579106\n",
      "NW Finished 76 trial for N = 100, 44.053451604704655\n",
      "NW Finished 77 trial for N = 100, 34.98641299864645\n"
     ]
    },
    {
     "name": "stderr",
     "output_type": "stream",
     "text": [
      "                                                             \r"
     ]
    },
    {
     "name": "stdout",
     "output_type": "stream",
     "text": [
      "NW Finished 78 trial for N = 100, 21.78381820959094\n"
     ]
    },
    {
     "name": "stderr",
     "output_type": "stream",
     "text": [
      "                                                             \r"
     ]
    },
    {
     "name": "stdout",
     "output_type": "stream",
     "text": [
      "NW Finished 79 trial for N = 100, 56.067045852063444\n"
     ]
    },
    {
     "name": "stderr",
     "output_type": "stream",
     "text": [
      "                                                             \r"
     ]
    },
    {
     "name": "stdout",
     "output_type": "stream",
     "text": [
      "60 trial : 2, 0.1\n"
     ]
    },
    {
     "name": "stderr",
     "output_type": "stream",
     "text": [
      "                                                              \r"
     ]
    },
    {
     "name": "stdout",
     "output_type": "stream",
     "text": [
      "61 trial : 1, 0.01\n"
     ]
    },
    {
     "name": "stderr",
     "output_type": "stream",
     "text": [
      "                                                              \r"
     ]
    },
    {
     "name": "stdout",
     "output_type": "stream",
     "text": [
      "62 trial : 3, 0.05\n",
      "63 trial : 3, 0.1\n"
     ]
    },
    {
     "name": "stderr",
     "output_type": "stream",
     "text": [
      "                                                              \r"
     ]
    },
    {
     "name": "stdout",
     "output_type": "stream",
     "text": [
      "64 trial : 2, 0.05\n"
     ]
    },
    {
     "name": "stderr",
     "output_type": "stream",
     "text": [
      "Training NF:  10%|█         | 20/200 [00:00<00:00, 190.47it/s]"
     ]
    },
    {
     "name": "stdout",
     "output_type": "stream",
     "text": [
      "65 trial : 2, 0.05\n"
     ]
    },
    {
     "name": "stderr",
     "output_type": "stream",
     "text": [
      "                                                              \r"
     ]
    },
    {
     "name": "stdout",
     "output_type": "stream",
     "text": [
      "69 trial : 3, 0.05\n",
      "70 trial : 1, 0.05\n"
     ]
    },
    {
     "name": "stderr",
     "output_type": "stream",
     "text": [
      "                                                              \r"
     ]
    },
    {
     "name": "stdout",
     "output_type": "stream",
     "text": [
      "68 trial : 2, 1\n"
     ]
    },
    {
     "name": "stderr",
     "output_type": "stream",
     "text": [
      "                                                              \r"
     ]
    },
    {
     "name": "stdout",
     "output_type": "stream",
     "text": [
      "66 trial : 2, 0.01\n",
      "71 trial : 3, 0.05\n",
      "73 trial : 3, 0.1\n",
      "Trial 60 : NF-GMM Finished 60 trial for N = 100\n"
     ]
    },
    {
     "name": "stderr",
     "output_type": "stream",
     "text": [
      "                                                              \r"
     ]
    },
    {
     "name": "stdout",
     "output_type": "stream",
     "text": [
      "67 trial : 2, 0.05\n",
      "72 trial : 1, 0.5\n",
      "77 trial : 1, 0.1\n",
      "76 trial : 1, 0.1\n"
     ]
    },
    {
     "name": "stderr",
     "output_type": "stream",
     "text": [
      "                                                              \r"
     ]
    },
    {
     "name": "stdout",
     "output_type": "stream",
     "text": [
      "75 trial : 2, 0.5\n"
     ]
    },
    {
     "name": "stderr",
     "output_type": "stream",
     "text": [
      "                                                              \r"
     ]
    },
    {
     "name": "stdout",
     "output_type": "stream",
     "text": [
      "74 trial : 3, 1\n"
     ]
    },
    {
     "name": "stderr",
     "output_type": "stream",
     "text": [
      "Training NF:  22%|██▏       | 43/200 [00:00<00:00, 214.89it/s]"
     ]
    },
    {
     "name": "stdout",
     "output_type": "stream",
     "text": [
      "78 trial : 2, 0.1\n",
      "Trial 61 : NF-GMM Finished 61 trial for N = 100\n"
     ]
    },
    {
     "name": "stderr",
     "output_type": "stream",
     "text": [
      "                                                              \r"
     ]
    },
    {
     "name": "stdout",
     "output_type": "stream",
     "text": [
      "Trial 62 : NF-GMM Finished 62 trial for N = 100\n",
      "Trial 63 : NF-GMM Finished 63 trial for N = 100\n",
      "79 trial : 3, 0.05\n"
     ]
    },
    {
     "name": "stderr",
     "output_type": "stream",
     "text": [
      "                                                              \r"
     ]
    },
    {
     "name": "stdout",
     "output_type": "stream",
     "text": [
      "Trial 64 : NF-GMM Finished 64 trial for N = 100\n",
      "Trial 65 : NF-GMM Finished 65 trial for N = 100\n",
      "Trial 69 : NF-GMM Finished 69 trial for N = 100\n",
      "Trial 70 : NF-GMM Finished 70 trial for N = 100\n",
      "Trial 68 : NF-GMM Finished 68 trial for N = 100\n",
      "Trial 66 : NF-GMM Finished 66 trial for N = 100\n",
      "Trial 71 : NF-GMM Finished 71 trial for N = 100\n",
      "Trial 73 : NF-GMM Finished 73 trial for N = 100\n",
      "Trial 67 : NF-GMM Finished 67 trial for N = 100\n",
      "Trial 72 : NF-GMM Finished 72 trial for N = 100\n",
      "Trial 76 : NF-GMM Finished 76 trial for N = 100\n",
      "Trial 77 : NF-GMM Finished 77 trial for N = 100\n",
      "Trial 75 : NF-GMM Finished 75 trial for N = 100\n",
      "Trial 74 : NF-GMM Finished 74 trial for N = 100\n",
      "Trial 78 : NF-GMM Finished 78 trial for N = 100\n",
      "Trial 79 : NF-GMM Finished 79 trial for N = 100\n",
      "Trial 60 : GMM (non-NF) Finished for N = 100\n",
      "Trial 61 : GMM (non-NF) Finished for N = 100\n",
      "Trial 62 : GMM (non-NF) Finished for N = 100\n",
      "Trial 63 : GMM (non-NF) Finished for N = 100\n",
      "Trial 64 : GMM (non-NF) Finished for N = 100\n",
      "Trial 65 : GMM (non-NF) Finished for N = 100\n",
      "Trial 70 : GMM (non-NF) Finished for N = 100\n",
      "Trial 68 : GMM (non-NF) Finished for N = 100\n",
      "Trial 71 : GMM (non-NF) Finished for N = 100\n",
      "Trial 69 : GMM (non-NF) Finished for N = 100\n",
      "Trial 66 : GMM (non-NF) Finished for N = 100\n",
      "Trial 76 : GMM (non-NF) Finished for N = 100\n",
      "Trial 73 : GMM (non-NF) Finished for N = 100\n",
      "Trial 75 : GMM (non-NF) Finished for N = 100\n",
      "Trial 77 : GMM (non-NF) Finished for N = 100\n",
      "Trial 74 : GMM (non-NF) Finished for N = 100\n",
      "Trial 72 : GMM (non-NF) Finished for N = 100\n",
      "Trial 67 : GMM (non-NF) Finished for N = 100\n",
      "Trial 78 : GMM (non-NF) Finished for N = 100\n",
      "Trial 79 : GMM (non-NF) Finished for N = 100\n",
      "Kanna Best eps at 60 trial for N = 100 : 0.1\n"
     ]
    },
    {
     "name": "stderr",
     "output_type": "stream",
     "text": [
      "100%|██████████| 100/100 [25:39<00:00, 15.40s/it]"
     ]
    },
    {
     "name": "stdout",
     "output_type": "stream",
     "text": [
      "KANNAN Finished 60 trial for N = 100\n",
      "NF-gmm,nonNF-gmm,kannan,nw : 21.225144631171716, 21.339413818957816, 33.835555431375724, 32.78809543760148\n"
     ]
    },
    {
     "name": "stderr",
     "output_type": "stream",
     "text": [
      "\n"
     ]
    },
    {
     "name": "stdout",
     "output_type": "stream",
     "text": [
      "Kanna Best eps at 61 trial for N = 100 : 0.01\n",
      "KANNAN Finished 61 trial for N = 100\n",
      "NF-gmm,nonNF-gmm,kannan,nw : 33.22649895440464, 40.68468969500056, 32.435963782815485, 43.00837864748808\n",
      "Kanna Best eps at 62 trial for N = 100 : 0.01\n",
      "KANNAN Finished 62 trial for N = 100\n",
      "NF-gmm,nonNF-gmm,kannan,nw : 28.16625779033389, 25.932062846042587, 26.338176888902687, 34.32819252099946\n",
      "Kanna Best eps at 63 trial for N = 100 : 0.1\n",
      "KANNAN Finished 63 trial for N = 100\n",
      "NF-gmm,nonNF-gmm,kannan,nw : 45.351272874771745, 59.97457724273698, 45.031075125019626, 53.823418618774674\n",
      "Kanna Best eps at 64 trial for N = 100 : 0.01\n",
      "Kanna Best eps at 65 trial for N = 100 : 0.01\n",
      "KANNAN Finished 64 trial for N = 100\n",
      "NF-gmm,nonNF-gmm,kannan,nw : 16.138320246717264, 22.538723602577477, 20.28858581076228, 38.27107109382876\n",
      "KANNAN Finished 65 trial for N = 100\n",
      "NF-gmm,nonNF-gmm,kannan,nw : 17.540413554557368, 17.592964103372772, 17.437400794553046, 31.41368018080867\n",
      "Kanna Best eps at 70 trial for N = 100 : 1\n",
      "KANNAN Finished 70 trial for N = 100\n",
      "NF-gmm,nonNF-gmm,kannan,nw : 7.548770722115636, 8.6936510499879, 10.156410160016243, 21.394512719127235\n",
      "Kanna Best eps at 68 trial for N = 100 : 1\n",
      "KANNAN Finished 68 trial for N = 100\n",
      "NF-gmm,nonNF-gmm,kannan,nw : 36.755310190107856, 35.83211593975246, 39.952514065570945, 38.477181171911454\n",
      "Kanna Best eps at 71 trial for N = 100 : 0.01\n",
      "Kanna Best eps at 69 trial for N = 100 : 0.5\n",
      "KANNAN Finished 71 trial for N = 100\n",
      "NF-gmm,nonNF-gmm,kannan,nw : 18.91944836747133, 21.489314172452463, 19.276559147903846, 22.171513279990005\n",
      "Kanna Best eps at 66 trial for N = 100 : 0.01\n",
      "Kanna Best eps at 76 trial for N = 100 : 0.01\n",
      "KANNAN Finished 69 trial for N = 100\n",
      "NF-gmm,nonNF-gmm,kannan,nw : 110.61420686073602, 94.78106708072897, 58.35977633071651, 56.644233668815914\n",
      "Kanna Best eps at 73 trial for N = 100 : 0.05\n",
      "KANNAN Finished 66 trial for N = 100\n",
      "NF-gmm,nonNF-gmm,kannan,nw : 39.44158760516056, 33.387745057869296, 35.67530495826257, 37.4041818148056\n",
      "KANNAN Finished 76 trial for N = 100\n",
      "NF-gmm,nonNF-gmm,kannan,nw : 39.3024927098936, 54.895470772895955, 49.950738194452875, 44.053451604704655\n",
      "KANNAN Finished 73 trial for N = 100\n",
      "NF-gmm,nonNF-gmm,kannan,nw : 18.725358766992468, 17.683330109904823, 17.9841941338545, 26.500957247562894\n",
      "Kanna Best eps at 75 trial for N = 100 : 0.01\n",
      "Kanna Best eps at 77 trial for N = 100 : 0.01\n",
      "KANNAN Finished 75 trial for N = 100\n",
      "NF-gmm,nonNF-gmm,kannan,nw : 28.768995252128178, 43.985398656659015, 42.53651740523832, 37.6926443579106\n",
      "KANNAN Finished 77 trial for N = 100\n",
      "NF-gmm,nonNF-gmm,kannan,nw : 22.156006021689567, 22.08893533160638, 22.590206196300443, 34.98641299864645\n",
      "Kanna Best eps at 74 trial for N = 100 : 0.01\n",
      "Kanna Best eps at 72 trial for N = 100 : 0.5\n",
      "KANNAN Finished 74 trial for N = 100\n",
      "NF-gmm,nonNF-gmm,kannan,nw : 47.83268828580665, 29.234789767042507, 31.616600619344062, 37.60988796773214\n",
      "KANNAN Finished 72 trial for N = 100\n",
      "NF-gmm,nonNF-gmm,kannan,nw : 9.505157196444006, 17.383144892299104, 18.760873964671866, 26.37480457374393\n",
      "Kanna Best eps at 67 trial for N = 100 : 1\n",
      "KANNAN Finished 67 trial for N = 100\n",
      "NF-gmm,nonNF-gmm,kannan,nw : 42.24140787917098, 43.62625607286171, 41.985244009750836, 63.8167475584222\n",
      "Kanna Best eps at 78 trial for N = 100 : 1\n",
      "KANNAN Finished 78 trial for N = 100\n",
      "NF-gmm,nonNF-gmm,kannan,nw : 17.76656704466539, 25.442325247577074, 19.090485454200586, 21.78381820959094\n",
      "Kanna Best eps at 79 trial for N = 100 : 0.01\n",
      "KANNAN Finished 79 trial for N = 100\n",
      "NF-gmm,nonNF-gmm,kannan,nw : 44.47010198655015, 45.81566976545066, 63.93116578707447, 56.067045852063444\n",
      "NW Finished 80 trial for N = 100, 58.138203812335284\n"
     ]
    },
    {
     "name": "stderr",
     "output_type": "stream",
     "text": [
      "Training NF:   8%|▊         | 25/300 [00:00<00:06, 44.59it/s]"
     ]
    },
    {
     "name": "stdout",
     "output_type": "stream",
     "text": [
      "NW Finished 81 trial for N = 100, 73.11109449910221\n"
     ]
    },
    {
     "name": "stderr",
     "output_type": "stream",
     "text": [
      "                                                             \r"
     ]
    },
    {
     "name": "stdout",
     "output_type": "stream",
     "text": [
      "NW Finished 82 trial for N = 100, 27.94271141404337\n"
     ]
    },
    {
     "name": "stderr",
     "output_type": "stream",
     "text": [
      "Training NF:   0%|          | 0/300 [00:00<?, ?it/s]7.32it/s]"
     ]
    },
    {
     "name": "stdout",
     "output_type": "stream",
     "text": [
      "NW Finished 83 trial for N = 100, 14.928979592671704\n"
     ]
    },
    {
     "name": "stderr",
     "output_type": "stream",
     "text": [
      "                                                             \r"
     ]
    },
    {
     "name": "stdout",
     "output_type": "stream",
     "text": [
      "NW Finished 84 trial for N = 100, 27.309406963289454\n"
     ]
    },
    {
     "name": "stderr",
     "output_type": "stream",
     "text": [
      "Training NF:   0%|          | 0/300 [00:00<?, ?it/s]3.49it/s]"
     ]
    },
    {
     "name": "stdout",
     "output_type": "stream",
     "text": [
      "NW Finished 85 trial for N = 100, 27.455146383553455\n"
     ]
    },
    {
     "name": "stderr",
     "output_type": "stream",
     "text": [
      "Training NF:   0%|          | 0/300 [00:00<?, ?it/s]7.76it/s]"
     ]
    },
    {
     "name": "stdout",
     "output_type": "stream",
     "text": [
      "NW Finished 86 trial for N = 100, 55.090205569418686\n"
     ]
    },
    {
     "name": "stderr",
     "output_type": "stream",
     "text": [
      "Training NF:   6%|▌         | 17/300 [00:00<00:08, 35.12it/s]"
     ]
    },
    {
     "name": "stdout",
     "output_type": "stream",
     "text": [
      "NW Finished 87 trial for N = 100, 36.28186186553669\n"
     ]
    },
    {
     "name": "stderr",
     "output_type": "stream",
     "text": [
      "Training NF:   6%|▌         | 18/300 [00:00<00:07, 36.13it/s]"
     ]
    },
    {
     "name": "stdout",
     "output_type": "stream",
     "text": [
      "NW Finished 88 trial for N = 100, 19.01273445103027\n",
      "NW Finished 89 trial for N = 100, 37.09306289207218\n"
     ]
    },
    {
     "name": "stderr",
     "output_type": "stream",
     "text": [
      "Training NF:   1%|▏         | 4/300 [00:00<00:09, 30.72it/s]]"
     ]
    },
    {
     "name": "stdout",
     "output_type": "stream",
     "text": [
      "NW Finished 90 trial for N = 100, 8.58001518972735\n"
     ]
    },
    {
     "name": "stderr",
     "output_type": "stream",
     "text": [
      "Training NF:   4%|▍         | 12/300 [00:00<00:08, 33.42it/s]"
     ]
    },
    {
     "name": "stdout",
     "output_type": "stream",
     "text": [
      "NW Finished 91 trial for N = 100, 42.26361131240396\n",
      "NW Finished 92 trial for N = 100, 59.070185802611114\n"
     ]
    },
    {
     "name": "stderr",
     "output_type": "stream",
     "text": [
      "Training NF:   2%|▏         | 5/300 [00:00<00:07, 39.38it/s]]"
     ]
    },
    {
     "name": "stdout",
     "output_type": "stream",
     "text": [
      "NW Finished 93 trial for N = 100, 74.20261946662075\n"
     ]
    },
    {
     "name": "stderr",
     "output_type": "stream",
     "text": [
      "Training NF:   4%|▍         | 13/300 [00:00<00:07, 37.04it/s]"
     ]
    },
    {
     "name": "stdout",
     "output_type": "stream",
     "text": [
      "NW Finished 94 trial for N = 100, 32.992208751398486\n"
     ]
    },
    {
     "name": "stderr",
     "output_type": "stream",
     "text": [
      "Training NF:   7%|▋         | 20/300 [00:00<00:07, 35.99it/s]"
     ]
    },
    {
     "name": "stdout",
     "output_type": "stream",
     "text": [
      "NW Finished 96 trial for N = 100, 39.86952797898474\n"
     ]
    },
    {
     "name": "stderr",
     "output_type": "stream",
     "text": [
      "Training NF:   1%|▏         | 4/300 [00:00<00:08, 34.77it/s]]"
     ]
    },
    {
     "name": "stdout",
     "output_type": "stream",
     "text": [
      "NW Finished 95 trial for N = 100, 53.38284580175383\n"
     ]
    },
    {
     "name": "stderr",
     "output_type": "stream",
     "text": [
      "                                                             \r"
     ]
    },
    {
     "name": "stdout",
     "output_type": "stream",
     "text": [
      "NW Finished 97 trial for N = 100, 41.54275997457156\n"
     ]
    },
    {
     "name": "stderr",
     "output_type": "stream",
     "text": [
      "Training NF:   6%|▌         | 17/300 [00:00<00:07, 36.10it/s]"
     ]
    },
    {
     "name": "stdout",
     "output_type": "stream",
     "text": [
      "NW Finished 98 trial for N = 100, 41.247032189121704\n"
     ]
    },
    {
     "name": "stderr",
     "output_type": "stream",
     "text": [
      "                                                             \r"
     ]
    },
    {
     "name": "stdout",
     "output_type": "stream",
     "text": [
      "NW Finished 99 trial for N = 100, 40.48627454941964\n"
     ]
    },
    {
     "name": "stderr",
     "output_type": "stream",
     "text": [
      "                                                             \r"
     ]
    },
    {
     "name": "stdout",
     "output_type": "stream",
     "text": [
      "80 trial : 3, 0.1\n"
     ]
    },
    {
     "name": "stderr",
     "output_type": "stream",
     "text": [
      "                                                              \r"
     ]
    },
    {
     "name": "stdout",
     "output_type": "stream",
     "text": [
      "81 trial : 3, 0.05\n"
     ]
    },
    {
     "name": "stderr",
     "output_type": "stream",
     "text": [
      "                                                              \r"
     ]
    },
    {
     "name": "stdout",
     "output_type": "stream",
     "text": [
      "82 trial : 3, 0.01\n"
     ]
    },
    {
     "name": "stderr",
     "output_type": "stream",
     "text": [
      "                                                              \r"
     ]
    },
    {
     "name": "stdout",
     "output_type": "stream",
     "text": [
      "83 trial : 1, 1\n"
     ]
    },
    {
     "name": "stderr",
     "output_type": "stream",
     "text": [
      "                                                              \r"
     ]
    },
    {
     "name": "stdout",
     "output_type": "stream",
     "text": [
      "84 trial : 3, 0.01\n",
      "85 trial : 3, 0.1\n"
     ]
    },
    {
     "name": "stderr",
     "output_type": "stream",
     "text": [
      "                                                              \r"
     ]
    },
    {
     "name": "stdout",
     "output_type": "stream",
     "text": [
      "88 trial : 3, 0.01\n"
     ]
    },
    {
     "name": "stderr",
     "output_type": "stream",
     "text": [
      "                                                              \r"
     ]
    },
    {
     "name": "stdout",
     "output_type": "stream",
     "text": [
      "86 trial : 3, 0.5\n",
      "91 trial : 3, 0.5\n",
      "Trial 80 : NF-GMM Finished 80 trial for N = 100\n",
      "87 trial : 3, 0.5\n"
     ]
    },
    {
     "name": "stderr",
     "output_type": "stream",
     "text": [
      "Training NF:   0%|          | 0/200 [00:00<?, ?it/s]25.61it/s]"
     ]
    },
    {
     "name": "stdout",
     "output_type": "stream",
     "text": [
      "89 trial : 2, 0.1\n"
     ]
    },
    {
     "name": "stderr",
     "output_type": "stream",
     "text": [
      "                                                              \r"
     ]
    },
    {
     "name": "stdout",
     "output_type": "stream",
     "text": [
      "Trial 81 : NF-GMM Finished 81 trial for N = 100\n",
      "93 trial : 1, 1\n",
      "92 trial : 2, 0.1\n"
     ]
    },
    {
     "name": "stderr",
     "output_type": "stream",
     "text": [
      "Training NF:  24%|██▍       | 48/200 [00:00<00:00, 225.39it/s]"
     ]
    },
    {
     "name": "stdout",
     "output_type": "stream",
     "text": [
      "94 trial : 1, 0.01\n",
      "90 trial : 2, 1\n"
     ]
    },
    {
     "name": "stderr",
     "output_type": "stream",
     "text": [
      "                                                              \r"
     ]
    },
    {
     "name": "stdout",
     "output_type": "stream",
     "text": [
      "96 trial : 1, 0.05\n",
      "95 trial : 1, 0.05\n"
     ]
    },
    {
     "name": "stderr",
     "output_type": "stream",
     "text": [
      "                                                              \r"
     ]
    },
    {
     "name": "stdout",
     "output_type": "stream",
     "text": [
      "Trial 82 : NF-GMM Finished 82 trial for N = 100\n",
      "97 trial : 3, 0.5\n"
     ]
    },
    {
     "name": "stderr",
     "output_type": "stream",
     "text": [
      "                                                              \r"
     ]
    },
    {
     "name": "stdout",
     "output_type": "stream",
     "text": [
      "98 trial : 2, 0.05\n",
      "Trial 83 : NF-GMM Finished 83 trial for N = 100\n"
     ]
    },
    {
     "name": "stderr",
     "output_type": "stream",
     "text": [
      "                                                              \r"
     ]
    },
    {
     "name": "stdout",
     "output_type": "stream",
     "text": [
      "Trial 84 : NF-GMM Finished 84 trial for N = 100\n",
      "Trial 85 : NF-GMM Finished 85 trial for N = 100\n",
      "99 trial : 2, 0.01\n"
     ]
    },
    {
     "name": "stderr",
     "output_type": "stream",
     "text": [
      "                                                              \r"
     ]
    },
    {
     "name": "stdout",
     "output_type": "stream",
     "text": [
      "Trial 88 : NF-GMM Finished 88 trial for N = 100\n",
      "Trial 86 : NF-GMM Finished 86 trial for N = 100\n",
      "Trial 91 : NF-GMM Finished 91 trial for N = 100\n",
      "Trial 87 : NF-GMM Finished 87 trial for N = 100\n",
      "Trial 89 : NF-GMM Finished 89 trial for N = 100\n",
      "Trial 93 : NF-GMM Finished 93 trial for N = 100\n",
      "Trial 92 : NF-GMM Finished 92 trial for N = 100\n",
      "Trial 90 : NF-GMM Finished 90 trial for N = 100\n",
      "Trial 94 : NF-GMM Finished 94 trial for N = 100\n",
      "Trial 96 : NF-GMM Finished 96 trial for N = 100\n",
      "Trial 95 : NF-GMM Finished 95 trial for N = 100\n",
      "Trial 97 : NF-GMM Finished 97 trial for N = 100\n",
      "Trial 98 : NF-GMM Finished 98 trial for N = 100\n",
      "Trial 99 : NF-GMM Finished 99 trial for N = 100\n",
      "Trial 80 : GMM (non-NF) Finished for N = 100\n",
      "Trial 81 : GMM (non-NF) Finished for N = 100\n",
      "Trial 82 : GMM (non-NF) Finished for N = 100\n",
      "Trial 83 : GMM (non-NF) Finished for N = 100\n",
      "Trial 88 : GMM (non-NF) Finished for N = 100\n",
      "Trial 84 : GMM (non-NF) Finished for N = 100\n",
      "Trial 85 : GMM (non-NF) Finished for N = 100\n",
      "Trial 91 : GMM (non-NF) Finished for N = 100\n",
      "Trial 89 : GMM (non-NF) Finished for N = 100\n",
      "Trial 87 : GMM (non-NF) Finished for N = 100\n",
      "Trial 86 : GMM (non-NF) Finished for N = 100\n",
      "Trial 90 : GMM (non-NF) Finished for N = 100\n",
      "Trial 92 : GMM (non-NF) Finished for N = 100\n",
      "Trial 93 : GMM (non-NF) Finished for N = 100\n",
      "Trial 94 : GMM (non-NF) Finished for N = 100\n",
      "Trial 95 : GMM (non-NF) Finished for N = 100\n",
      "Trial 96 : GMM (non-NF) Finished for N = 100\n",
      "Trial 98 : GMM (non-NF) Finished for N = 100\n",
      "Trial 97 : GMM (non-NF) Finished for N = 100\n",
      "Trial 99 : GMM (non-NF) Finished for N = 100\n",
      "Kanna Best eps at 80 trial for N = 100 : 1\n",
      "KANNAN Finished 80 trial for N = 100\n",
      "NF-gmm,nonNF-gmm,kannan,nw : 37.03941942937468, 61.12663221228855, 46.57823068343739, 58.138203812335284\n",
      "Kanna Best eps at 81 trial for N = 100 : 1\n",
      "KANNAN Finished 81 trial for N = 100\n",
      "NF-gmm,nonNF-gmm,kannan,nw : 56.25143971585062, 65.2387538429804, 66.59604400986363, 73.11109449910221\n",
      "Kanna Best eps at 82 trial for N = 100 : 0.1\n",
      "KANNAN Finished 82 trial for N = 100\n",
      "NF-gmm,nonNF-gmm,kannan,nw : 20.827330072418015, 22.06701527940376, 21.462539190911674, 27.94271141404337\n",
      "Kanna Best eps at 83 trial for N = 100 : 1\n",
      "KANNAN Finished 83 trial for N = 100\n",
      "NF-gmm,nonNF-gmm,kannan,nw : 3.548583583512059, 3.5128793580016793, 3.7521279530886487, 14.928979592671704\n",
      "Kanna Best eps at 88 trial for N = 100 : 1\n",
      "KANNAN Finished 88 trial for N = 100\n",
      "NF-gmm,nonNF-gmm,kannan,nw : 10.554608042110601, 21.6236735029365, 11.825816897203618, 19.01273445103027\n",
      "Kanna Best eps at 84 trial for N = 100 : 0.01\n",
      "Kanna Best eps at 85 trial for N = 100 : 0.01\n",
      "KANNAN Finished 84 trial for N = 100\n",
      "NF-gmm,nonNF-gmm,kannan,nw : 26.53521994834029, 23.863158369192014, 30.486299131251844, 27.309406963289454\n",
      "Kanna Best eps at 91 trial for N = 100 : 0.05\n",
      "KANNAN Finished 85 trial for N = 100\n",
      "NF-gmm,nonNF-gmm,kannan,nw : 18.703187404445558, 20.344574425592864, 25.010528340436107, 27.455146383553455\n",
      "KANNAN Finished 91 trial for N = 100\n",
      "NF-gmm,nonNF-gmm,kannan,nw : 22.565640021550916, 36.38563044632179, 34.18834817687096, 42.26361131240396\n",
      "Kanna Best eps at 86 trial for N = 100 : 1\n",
      "Kanna Best eps at 87 trial for N = 100 : 0.01\n",
      "Kanna Best eps at 89 trial for N = 100 : 0.05\n",
      "KANNAN Finished 86 trial for N = 100\n",
      "NF-gmm,nonNF-gmm,kannan,nw : 69.80273926694122, 70.51405426276264, 43.430432735952714, 55.090205569418686\n",
      "KANNAN Finished 87 trial for N = 100\n",
      "NF-gmm,nonNF-gmm,kannan,nw : 35.17415726822409, 51.18851774744687, 35.07575414489375, 36.28186186553669\n",
      "KANNAN Finished 89 trial for N = 100\n",
      "NF-gmm,nonNF-gmm,kannan,nw : 23.455841756197593, 22.901650764894256, 20.338740295234672, 37.09306289207218\n",
      "Kanna Best eps at 90 trial for N = 100 : 0.01\n",
      "KANNAN Finished 90 trial for N = 100\n",
      "NF-gmm,nonNF-gmm,kannan,nw : 7.711478698312959, 19.994101575828203, 7.45567781701308, 8.58001518972735\n",
      "Kanna Best eps at 92 trial for N = 100 : 0.05\n",
      "Kanna Best eps at 93 trial for N = 100 : 0.05\n",
      "Kanna Best eps at 94 trial for N = 100 : 0.05\n",
      "KANNAN Finished 92 trial for N = 100\n",
      "NF-gmm,nonNF-gmm,kannan,nw : 54.7355422651688, 60.484986024250695, 56.39150354137958, 59.070185802611114\n",
      "KANNAN Finished 93 trial for N = 100\n",
      "NF-gmm,nonNF-gmm,kannan,nw : 62.61549064142401, 78.47318787845934, 60.946536055551014, 74.20261946662075\n",
      "KANNAN Finished 94 trial for N = 100\n",
      "NF-gmm,nonNF-gmm,kannan,nw : 25.566259279377284, 36.021193688873005, 29.83419890029119, 32.992208751398486\n",
      "Kanna Best eps at 95 trial for N = 100 : 0.5\n",
      "Kanna Best eps at 96 trial for N = 100 : 0.01\n",
      "KANNAN Finished 95 trial for N = 100\n",
      "NF-gmm,nonNF-gmm,kannan,nw : 34.10928794055959, 48.59139248078883, 55.33811381123254, 53.38284580175383\n",
      "KANNAN Finished 96 trial for N = 100\n",
      "NF-gmm,nonNF-gmm,kannan,nw : 30.013171200600755, 30.484176569371694, 30.05539196678763, 39.86952797898474\n",
      "Kanna Best eps at 98 trial for N = 100 : 0.05\n",
      "Kanna Best eps at 97 trial for N = 100 : 1\n",
      "KANNAN Finished 98 trial for N = 100\n",
      "NF-gmm,nonNF-gmm,kannan,nw : 29.31835236390224, 37.53585274680064, 35.38036878885427, 41.247032189121704\n",
      "KANNAN Finished 97 trial for N = 100\n",
      "NF-gmm,nonNF-gmm,kannan,nw : 37.47486987841482, 46.93886820570756, 41.463445257325645, 41.54275997457156\n",
      "Kanna Best eps at 99 trial for N = 100 : 0.05\n",
      "KANNAN Finished 99 trial for N = 100\n",
      "NF-gmm,nonNF-gmm,kannan,nw : 21.997780629628814, 30.140968243856225, 27.37443580570058, 40.48627454941964\n",
      "✅ Saved to NV_5d_LinQuad.csv\n"
     ]
    }
   ],
   "source": [
    " # ----------------------- Implementation 2 ----------------------------\n",
    "T = 100\n",
    "N = 100\n",
    "dim_s_list = [5]\n",
    "dim_xi = 1\n",
    "eps_list = [0.01, 0.05, 0.1, 0.5, 1]\n",
    "max_K = 3\n",
    "Cs = CHs = [1,5,10]\n",
    "h, b = 10, 2\n",
    "hidden_node, hidden_layer, block_size, bins, total_epoch = 32, 1, 1, 8, 300\n",
    "device = torch.device(\"cuda\" if torch.cuda.is_available() else \"cpu\")\n",
    "\n",
    "for dim_s in dim_s_list: \n",
    "    print(f\"✅✅✅✅✅✅✅Running trials for dim_s = {dim_s}✅✅✅✅✅✅✅✅\")\n",
    "    def run_trial(tt, N):\n",
    "        max_retry = 30\n",
    "        random.seed(tt)\n",
    "        np.random.seed(tt)\n",
    "        torch.manual_seed(tt)\n",
    "        torch.cuda.manual_seed_all(tt)  \n",
    "        for attempt_trial in range(max_retry):\n",
    "            try:\n",
    "                s, xi, _, _ = generate_data(N, dim_s, dim_xi)\n",
    "                gammas = s\n",
    "                s_single, _, W1_oos, W2_oos = generate_data(1, dim_s, dim_xi)\n",
    "                gamma = s_single[0]\n",
    "\n",
    "                #-------------------------------- NW--------------------------------\n",
    "                C_H = cv_H(CHs, xi, gammas, h, b)\n",
    "                H = C_H * 1 / (N ** (1 / 6))\n",
    "                kde = KernelDensity(kernel='exponential', bandwidth=1).fit(gammas)\n",
    "                g_gamma = np.exp(kde.score_samples(gamma.reshape(1, -1))).item()\n",
    "                weight = NW_weights(gamma, gammas, H)\n",
    "                C_smart = cv_lda(Cs, C_H, xi, gammas, h, b)\n",
    "                lda_0 = 1 / np.sqrt(N * (H ** 2) * g_gamma)\n",
    "                lda_smart = C_smart * lda_0\n",
    "                nw_model = Newsvendor(reg=lda_smart, verbose=False)\n",
    "                nw_model.fit({\"b\": b, \"h\": h, \"gamma\": gamma, \"xi\": xi, \"weight\": weight})\n",
    "                q_nw = nw_model.coef_\n",
    "                loss_nw = oos_loss(q_nw, gamma, h, b, W1_oos, W2_oos, dim_xi=1)\n",
    "                print(f\"NW Finished {tt} trial for N = {N}, {loss_nw}\")\n",
    "\n",
    "                #--------------------------- NF-GMM-------------------------------\n",
    "                best_K_NF, best_eps_NF = cv_GMM(N, max_K, eps_list, xi, gammas, h, b, hidden_node, hidden_layer, block_size, bins, total_epoch, device)\n",
    "                print(f\"{tt} trial : {best_K_NF}, {best_eps_NF}\")\n",
    "                scaler_s, scaler_xi =StandardScaler(), StandardScaler()\n",
    "                s_std = scaler_s.fit_transform(gammas)\n",
    "                xi_std = scaler_xi.fit_transform(xi)\n",
    "                s_val = gamma.reshape(1, -1)                                # (1, dim_s)\n",
    "                s_val_std = scaler_s.transform(s_val) \n",
    "                data_std = np.hstack([s_std, xi_std]) \n",
    "                x_tensor = torch.tensor(data_std, dtype=torch.float32).to(device)\n",
    "\n",
    "                cov_type = 'full' if dim_s <= 10 else 'diag'\n",
    "                gmm_x = GaussianMixture(n_components=best_K_NF, covariance_type=cov_type, reg_covar=1e-2).fit(data_std)\n",
    "                mu_x, cov_x, p_x = gmm_x.means_, gmm_x.covariances_, gmm_x.weights_\n",
    "                sig_x = np.array([np.diag(cov) for cov in cov_x]) if cov_type == 'diag' else cov_x\n",
    "\n",
    "\n",
    "                nfm, _ = train_nf_model(latent_size=dim_s + dim_xi, best_K=best_K_NF, hidden_node=hidden_node, hidden_layer=hidden_layer, block_size=block_size, num_bins=bins, total_epoch=200, x=x_tensor, device=device)\n",
    "\n",
    "                s_vec = s_val_std.ravel()                                 \n",
    "\n",
    "                mu_cond_x, cov_cond_x, w_x = transforming_conditional(s=s_vec, num_components=best_K_NF, mu_k=mu_x, sig_k=sig_x, p_k=p_x, dim_s=dim_s)\n",
    "                xi_hat_std = (w_x[:, None] * mu_cond_x).sum(axis=0, keepdims=True )    # (1, dim_xi)\n",
    "\n",
    "                gamma_std = np.hstack([s_val_std, xi_hat_std])                         # (1, dim_s+dim_xi)\n",
    "                gamma_tensor = torch.tensor(gamma_std, dtype=torch.float32).to(device)\n",
    "\n",
    "                z_s = inverse(nfm, gamma_tensor)[:, :dim_s].reshape(-1)\n",
    "                z_train = inverse(nfm, x_tensor)\n",
    "\n",
    "                cov_type = 'full' if dim_s <= 10 else 'diag'\n",
    "                gmm_z = GaussianMixture(n_components=best_K_NF, covariance_type=cov_type, reg_covar=1e-2).fit(z_train)\n",
    "                mu_z, cov_z, p_z = gmm_z.means_, gmm_z.covariances_, gmm_z.weights_\n",
    "                sig_z = np.array([np.diag(cov) for cov in cov_z]) if cov_type == 'diag' else cov_z\n",
    "\n",
    "                mu_cond_z, cov_cond_z, w_z = transforming_conditional(s=z_s, num_components= best_K_NF, mu_k=mu_z, sig_k=sig_z, p_k=p_z, dim_s=dim_s)\n",
    "                z_xi_sample = MC_sampling(best_K_NF, 1000, mu_cond_z, cov_cond_z, w_z)\n",
    "                z_full = np.hstack([np.repeat(z_s.reshape(1, -1), len(z_xi_sample), axis=0), z_xi_sample])\n",
    "\n",
    "                z_tensor = torch.tensor(z_full, dtype=torch.float32).to(device)\n",
    "                xi_sampled_std = forward(nfm, z_tensor)[:, dim_s:]\n",
    "                xi_sampled = scaler_xi.inverse_transform(xi_sampled_std)\n",
    "                xi_sampled = np.maximum(xi_sampled, 0)        \n",
    "                q_NF_gmm = NewsVendor_2_Wass(xi_sampled, best_eps_NF, h, b)\n",
    "                loss_NF_gmm = oos_loss(q_NF_gmm, gamma, h, b, W1_oos, W2_oos, dim_xi=1)\n",
    "                print(f\"Trial {tt} : NF-GMM Finished {tt} trial for N = {N}\")\n",
    "\n",
    "                #-------------------- Non-NF-GMM--------------------------\n",
    "                best_K_nonNF, best_eps_nonNF = cv_GMM_nonNF(N, max_K, eps_list, xi, gammas, h, b, hidden_node, hidden_layer, block_size, bins, total_epoch, device)\n",
    "                scaler_xi, scaler_s = StandardScaler(), StandardScaler()\n",
    "                s_std = scaler_s.fit_transform(gammas)\n",
    "                xi_std = scaler_xi.fit_transform(xi)\n",
    "                data = np.hstack([s_std, xi_std])  \n",
    "\n",
    "                cov_type_nonNF = 'full' if dim_s <= 10 else 'diag'\n",
    "                gmm_x = GaussianMixture(n_components=best_K_nonNF, covariance_type=cov_type_nonNF, reg_covar=1e-2).fit(data)\n",
    "                mu_x, cov_x, p_x = gmm_x.means_, gmm_x.covariances_, gmm_x.weights_\n",
    "                sig_x = np.array([np.diag(cov) for cov in cov_x]) if cov_type_nonNF == 'diag' else cov_x\n",
    "\n",
    "                s_val = gamma.reshape(1, -1) \n",
    "                s_val_std = scaler_s.transform(s_val)  \n",
    "                s_vec = s_val_std.ravel()               \n",
    "                mu_cond_x, cov_cond_x, p_cond_x = transforming_conditional(s=s_vec, num_components=best_K_nonNF, mu_k=mu_x, sig_k=sig_x, p_k=p_x, dim_s=dim_s)\n",
    "\n",
    "                num_mc = 1000\n",
    "                xi_sampled_std = MC_sampling(best_K_nonNF, num_mc, mu_cond_x, cov_cond_x, p_cond_x)  \n",
    "                xi_sampled = scaler_xi.inverse_transform(xi_sampled_std)\n",
    "                xi_sampled = np.maximum(xi_sampled, 0)  \n",
    "                q_nonNF_gmm = NewsVendor_2_Wass(xi_sampled, best_eps_nonNF, h, b)\n",
    "                loss_nonNF_gmm = oos_loss(q_nonNF_gmm, gamma, h, b, W1_oos, W2_oos, dim_xi=1)\n",
    "                print(f\"Trial {tt} : GMM (non-NF) Finished for N = {N}\")\n",
    "\n",
    "                #---------------------------Kannan-----------------------------\n",
    "                best_eps2 = cv_eps_kannan(eps_list, xi, gammas, h, b)\n",
    "                print(f\"Kanna Best eps at {tt} trial for N = {N} : {best_eps2}\")\n",
    "                model = LinearRegression().fit(gammas, xi)\n",
    "                residuals = xi - model.predict(gammas)\n",
    "                f_hat = model.predict(np.atleast_2d(gamma)).item()\n",
    "                xi_er = np.maximum(residuals + f_hat, 0) \n",
    "                q_reg = NewsVendor_1_Wass(xi_er, best_eps2, h=h, b=b)\n",
    "                loss_reg = oos_loss(q_reg, gamma, h, b, W1_oos, W2_oos, dim_xi=1)\n",
    "                print(f\"KANNAN Finished {tt} trial for N = {N}\")\n",
    "\n",
    "                print(f\"NF-gmm,nonNF-gmm,kannan,nw : {loss_NF_gmm}, {loss_nonNF_gmm}, {loss_reg}, {loss_nw}\")\n",
    "                return {\n",
    "                    'K_NF_GMM' : best_K_NF,\n",
    "                    'K_nonNF_GMM' : best_K_nonNF,\n",
    "                    'eps_NF_GMM': best_eps_NF,\n",
    "                    'eps_nonNF_GMM': best_eps_nonNF,\n",
    "                    'eps_kannan': best_eps2,\n",
    "                    'loss_NF_GMM': loss_NF_gmm,\n",
    "                    'loss_nonNF_GMM': loss_nonNF_gmm,\n",
    "                    'loss_kannan': loss_reg,\n",
    "                    'loss_nw': loss_nw,\n",
    "                }\n",
    "                \n",
    "            except Exception as e:\n",
    "                print(f\"[Global Retry {attempt_trial+1}/{max_retry}] Trial {tt}, N={N} failed: {e}\")\n",
    "                continue\n",
    "\n",
    "        print(f\"⚠️ Trial {tt}, N={N} failed after {max_retry} retries.\")\n",
    "        return None\n",
    "\n",
    "    results = Parallel(n_jobs=-1)(delayed(run_trial)(tt, N) for tt in tqdm(range(T)))\n",
    "\n",
    "    # --- Eliminate None or malformed results ---\n",
    "    results = [r for r in results if isinstance(r, dict) and r is not None]\n",
    "\n",
    "    # --- Handle empty case ---\n",
    "    if len(results) == 0:\n",
    "        print(f\"⚠️ No valid results for N={N}, skipping.\")\n",
    "        continue  #\n",
    "  \n",
    "    # --- Add Trial indices (if not already present) ---\n",
    "    for i, r in enumerate(results):\n",
    "        r['Trial'] = i\n",
    "\n",
    "    # --- Construct DataFrame ---   \n",
    "    df = pd.DataFrame(results)\n",
    "\n",
    "    # --- Ensure 'Trial' column exists ---\n",
    "    if 'Trial' in df.columns:\n",
    "        cols = ['Trial'] + [c for c in df.columns if c != 'Trial']\n",
    "        df = df[cols]\n",
    "    else:\n",
    "        print(\"⚠️ Warning: 'Trial' column not found. Columns:\", df.columns)\n",
    "\n",
    "    # --- Add AVG row ---\n",
    "    mean_row = {'Trial': 'AVG'}\n",
    "    for col in df.columns:\n",
    "        if col != 'Trial' and pd.api.types.is_numeric_dtype(df[col]):\n",
    "            mean_row[col] = df[col].mean(skipna=True)\n",
    "    df = pd.concat([df, pd.DataFrame([mean_row])], ignore_index=True)\n",
    "\n",
    "    # --- SAVE ---\n",
    "    save_path = f\"NV_{dim_s}d_LinQuad.csv\"\n",
    "    df.to_csv(save_path, index=False) \n",
    "    print(f\"✅ Saved to {save_path}\")"
   ]
  }
 ],
 "metadata": {
  "kernelspec": {
   "display_name": "sklearn-env",
   "language": "python",
   "name": "python3"
  },
  "language_info": {
   "codemirror_mode": {
    "name": "ipython",
    "version": 3
   },
   "file_extension": ".py",
   "mimetype": "text/x-python",
   "name": "python",
   "nbconvert_exporter": "python",
   "pygments_lexer": "ipython3",
   "version": "3.13.5"
  }
 },
 "nbformat": 4,
 "nbformat_minor": 5
}
