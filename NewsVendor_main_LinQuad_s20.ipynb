{
 "cells": [
  {
   "cell_type": "code",
   "execution_count": 1,
   "id": "9165c043169a10e7",
   "metadata": {
    "ExecuteTime": {
     "end_time": "2025-08-14T01:36:05.590389Z",
     "start_time": "2025-08-14T01:36:05.583869Z"
    }
   },
   "outputs": [],
   "source": [
    "import random\n",
    "import numpy as np\n",
    "import pandas as pd\n",
    "from pandas.core.missing import validate_limit_direction\n",
    "from sklearn.mixture import GaussianMixture\n",
    "from sklearn.mixture import BayesianGaussianMixture\n",
    "from sklearn.neighbors import KernelDensity\n",
    "import matplotlib.pyplot as plt\n",
    "from sklearn.preprocessing import StandardScaler\n",
    "from sklearn.linear_model import LinearRegression\n",
    "from scipy.stats import multivariate_normal\n",
    "from scipy.stats import truncnorm\n",
    "from sklearn.neighbors import NearestNeighbors\n",
    "from tqdm import tqdm\n",
    "import cvxpy as cp\n",
    "import gurobipy as gp\n",
    "from gurobipy import GRB\n",
    "from Newsvendor import Newsvendor\n",
    "from joblib import Parallel, delayed\n",
    "import torch\n",
    "import normflows as nf\n",
    "import matplotlib.pyplot as plt\n",
    "from itertools import product\n",
    "from torch.utils.data import TensorDataset, DataLoader, random_split\n",
    "import os\n",
    "import pickle\n",
    "from sklearn.neighbors import KernelDensity\n",
    "# np.set_printoptions(threshold=np.inf)\n",
    "# np.set_printoptions(linewidth=200)\n",
    "\n"
   ]
  },
  {
   "cell_type": "code",
   "execution_count": 2,
   "id": "77b4668e9db99a6f",
   "metadata": {
    "ExecuteTime": {
     "end_time": "2025-08-14T01:36:05.612178Z",
     "start_time": "2025-08-14T01:36:05.607715Z"
    }
   },
   "outputs": [],
   "source": [
    "# def set_all_seeds(seed=42):\n",
    "#     random.seed(seed)\n",
    "#     np.random.seed(seed)\n",
    "#     torch.manual_seed(seed)\n",
    "#     torch.cuda.manual_seed_all(seed)  # if using CUDA\n",
    "#     os.environ[\"PYTHONHASHSEED\"] = str(seed)\n",
    "#     torch.backends.cudnn.deterministic = True\n",
    "#     torch.backends.cudnn.benchmark = False\n",
    "\n",
    "# def save_random_states(path='random_states.pkl'):\n",
    "#     states = {\n",
    "#         'random': random.getstate(),\n",
    "#         'numpy': np.random.get_state(),\n",
    "#         'torch': torch.get_rng_state(),\n",
    "#     }\n",
    "#     if torch.cuda.is_available():\n",
    "#         states['torch_cuda'] = torch.cuda.get_rng_state()\n",
    "#     with open(path, 'wb') as f:\n",
    "#         pickle.dump(states, f)\n",
    "\n",
    "# def load_random_states(path='random_states.pkl'):\n",
    "#     with open(path, 'rb') as f:\n",
    "#         states = pickle.load(f)\n",
    "#     random.setstate(states['random'])\n",
    "#     np.random.set_state(states['numpy'])\n",
    "#     torch.set_rng_state(states['torch'])\n",
    "#     if torch.cuda.is_available() and 'torch_cuda' in states:\n",
    "#         torch.cuda.set_rng_state(states['torch_cuda'])\n",
    "\n",
    "# set_all_seeds(42)\n",
    "# load_random_states(path='random_states_NV_5d_NF_X_new.pkl')"
   ]
  },
  {
   "cell_type": "code",
   "execution_count": 3,
   "id": "9231860292694463",
   "metadata": {
    "ExecuteTime": {
     "end_time": "2025-08-14T01:36:05.645782Z",
     "start_time": "2025-08-14T01:36:05.631125Z"
    }
   },
   "outputs": [],
   "source": [
    "# -- Implementation 2 ---\n",
    "######################### 2-Wass GMM DRO function ###################################\n",
    "def NewsVendor_2_Wass(xi, eps, h, b):\n",
    "    xi = xi.astype(float)\n",
    "    N = xi.shape[0]\n",
    "    lda = cp.Variable(nonneg = True)\n",
    "    s = cp.Variable(N)\n",
    "    theta = cp.Variable(nonneg = True)\n",
    "    q = cp.Variable(nonneg = True)\n",
    "\n",
    "    const = []\n",
    "    for i in range(N):\n",
    "        const.append(cp.norm2(cp.hstack([2 * lda * xi[i] + theta - h, lda * (xi[i]**2) - h * q + s[i] - lda])) <= lda * (xi[i]**2) - h * q + s[i] +lda)\n",
    "        const.append(cp.norm2(cp.hstack([2 * lda * xi[i] + theta + b, lda * (xi[i]**2) + b * q + s[i] - lda])) <= lda * (xi[i]**2) + b * q + s[i] +lda)\n",
    "        const.append(lda * (xi[i]**2) - h * q + s[i] >= 0)\n",
    "        const.append(lda * (xi[i]**2) + b * q + s[i] >= 0)\n",
    "\n",
    "    obj = cp.Minimize(lda * (eps**2) + (1 / N) * cp.sum(s))\n",
    "    prob = cp.Problem(obj, const)\n",
    "    prob.solve(solver = cp.MOSEK, verbose = False)\n",
    "\n",
    "    return q.value\n",
    "\n",
    "def generate_data(n, dim_s, dim_xi):\n",
    "    s = np.random.uniform(-2, 2, size=(n, dim_s))\n",
    "    b = 50\n",
    "    W1 = 0.3 * np.ones((dim_xi, dim_s))\n",
    "    W2 = 5 * np.ones((dim_xi, dim_s))\n",
    "    eps1 = np.random.uniform(-2, 2, size=(n, dim_xi))\n",
    "    eps2 = np.random.uniform(-2, 2, size=(n, dim_xi))\n",
    "    lin  = s @ W1.T\n",
    "    quad = (s**2) @ W2.T\n",
    "    xi1 = lin + b + eps1\n",
    "    xi2 = quad + b - 10 + eps2\n",
    "    p = np.random.rand(n)\n",
    "    xi = np.where(p[:, None] > 0.5, xi1, xi2)\n",
    "    return s, xi, W1, W2\n",
    "\n",
    "def transforming_conditional(s, num_components, mu_k, sig_k, p_k, dim_s):\n",
    "    reg = 1e-6\n",
    "    mu_cond, cov_cond, weights = [], [], []\n",
    "    for k in range(num_components):\n",
    "        mu = mu_k[k]\n",
    "        sigma = sig_k[k]\n",
    "        mu_s = mu[:dim_s]\n",
    "        mu_xi = mu[dim_s:]\n",
    "        sigma_ss = sigma[:dim_s, :dim_s]\n",
    "        sigma_sx = sigma[:dim_s, dim_s:]\n",
    "        sigma_xs = sigma[dim_s:, :dim_s]\n",
    "        sigma_xx = sigma[dim_s:, dim_s:]\n",
    "        sigma_ss += reg * np.eye(dim_s)\n",
    "        try:\n",
    "            sigma_ss_inv = np.linalg.inv(sigma_ss)\n",
    "        except np.linalg.LinAlgError:\n",
    "            sigma_ss_inv = np.linalg.pinv(sigma_ss)\n",
    "        cond_mu = mu_xi + sigma_xs @ sigma_ss_inv @ (s - mu_s)\n",
    "        cond_cov = sigma_xx - sigma_xs @ sigma_ss_inv @ sigma_sx\n",
    "        cond_cov = 0.5 * (cond_cov + cond_cov.T)  \n",
    "        eigvals = np.linalg.eigvalsh(cond_cov)\n",
    "        if np.any(eigvals <= 1e-10):\n",
    "            cond_cov += reg * np.eye(cond_cov.shape[0])\n",
    "        try:\n",
    "            weight = p_k[k] * multivariate_normal.pdf(s, mean=mu_s, cov=sigma_ss)\n",
    "        except:\n",
    "            weight = 0.0\n",
    "        mu_cond.append(cond_mu)\n",
    "        cov_cond.append(cond_cov)\n",
    "        weights.append(weight)\n",
    "    weights = np.array(weights)\n",
    "    if np.any(np.isnan(weights)) or weights.sum() <= 1e-12:\n",
    "        weights = np.ones_like(weights) / len(weights)\n",
    "    else:\n",
    "        weights /= weights.sum()\n",
    "    return np.array(mu_cond), np.array(cov_cond), weights\n",
    "\n",
    "def MC_sampling(K, N, mu_list, cov_list, p_list):\n",
    "    d = mu_list.shape[1]\n",
    "    samples = np.zeros((N, d))\n",
    "    for i in range(N):\n",
    "        k = np.random.choice(K, p=p_list)\n",
    "        samples[i] = np.random.multivariate_normal(mu_list[k], cov_list[k])\n",
    "    return samples\n",
    "\n",
    "def oos_loss(q, s, h, b, W1, W2, dim_xi=1):\n",
    "    n = 100000\n",
    "    s = s.reshape(1, -1)     \n",
    "    eps1 = np.random.uniform(-2, 2, size=(n, dim_xi))\n",
    "    eps2 = np.random.uniform(-2, 2, size=(n, dim_xi))\n",
    "    lin  = s @ W1.T\n",
    "    quad = (s**2) @ W2.T\n",
    "    xi1 = lin + 50 + eps1\n",
    "    xi2 = quad + 40 + eps2\n",
    "    p = np.random.rand(n)\n",
    "    xi_samples = np.where(p[:, None] > 0.5, xi1, xi2)\n",
    "    q = np.array(q).reshape(1, -1)\n",
    "    if q.shape[1] == 1 and dim_xi > 1:\n",
    "        q = np.tile(q, (1, dim_xi))\n",
    "    losses = h * np.maximum(q - xi_samples, 0) + b * np.maximum(xi_samples - q, 0)\n",
    "    return np.mean(losses)\n",
    "\n",
    "def oos_loss_valid(q, xi, h, b):\n",
    "    loss = h * np.maximum(q - xi, 0) + b * np.maximum(xi - q, 0)\n",
    "    return np.mean(loss)\n",
    "\n",
    "def select_K_by_AIC(z_np, max_K):\n",
    "    aic_scores = []\n",
    "    models = []\n",
    "    for k in range(1, max_K + 1):\n",
    "        gmm = GaussianMixture(n_components=k)\n",
    "        gmm.fit(z_np)\n",
    "        aic = gmm.aic(z_np)\n",
    "        aic_scores.append(aic)\n",
    "        models.append(gmm)\n",
    "    best_index = np.argmin(aic_scores)\n",
    "    best_K = best_index + 1\n",
    "    return best_K\n",
    "\n",
    "def cv_GMM(N, max_K, eps_list, xi, s, h, b, hidden_node, hidden_layer, block_size, num_bins, total_epoch, device):\n",
    "    dim_s, dim_xi = s.shape[1], xi.shape[1]\n",
    "    latent_size = dim_s+dim_xi\n",
    "    X = np.concatenate([s, xi], axis=1)           \n",
    "    split = int(len(X) * 0.9)\n",
    "    train, val = X[:split], X[split:]\n",
    "\n",
    "    s_train, xi_train = train[:, :dim_s], train[:, dim_s:]\n",
    "    s_val,   xi_val   = val[:,   :dim_s], val[:,   dim_s:]\n",
    "\n",
    "    scaler_s  = StandardScaler().fit(s_train)\n",
    "    scaler_xi = StandardScaler().fit(xi_train)\n",
    "\n",
    "    s_train_std  = scaler_s.transform(s_train)\n",
    "    xi_train_std = scaler_xi.transform(xi_train)\n",
    "    s_val_std    = scaler_s.transform(s_val)      \n",
    "\n",
    "    data_train_std = np.concatenate([s_train_std, xi_train_std], axis=1)\n",
    "    x_train_tensor = torch.tensor(data_train_std, dtype=torch.float32).to(device)\n",
    "    \n",
    "    best_K = select_K_by_AIC(data_train_std, max_K=max_K)\n",
    "\n",
    "    cov_type = 'full' if dim_s <= 10 else 'diag'\n",
    "    gmm_x = GaussianMixture(n_components=best_K, covariance_type=cov_type, reg_covar=1e-2).fit(data_train_std)\n",
    "    mu_x, cov_x, p_x = gmm_x.means_, gmm_x.covariances_, gmm_x.weights_\n",
    "    sig_x = np.array([np.diag(cov) for cov in cov_x]) if cov_type == 'diag' else cov_x\n",
    "\n",
    "    nfm, _ = train_nf_model(latent_size, best_K, hidden_node, hidden_layer, block_size, num_bins, total_epoch, x_train_tensor, device)\n",
    "\n",
    "    gamma_std_list = []\n",
    "    for j in range(s_val_std.shape[0]):\n",
    "        s_j_std = s_val_std[j].ravel()  # (dim_s,)\n",
    "        mu_cond_x, cov_cond_x, w_x = transforming_conditional(s=s_j_std, num_components=best_K, mu_k=mu_x, sig_k=sig_x, p_k=p_x, dim_s=dim_s)\n",
    "        xi_hat_std = (w_x[:, None] * mu_cond_x).sum(axis=0, keepdims=True)  # (1, dim_xi)\n",
    "        gamma_std_list.append(np.hstack([s_j_std.reshape(1, -1), xi_hat_std]))  # (1, dim_s+dim_xi)\n",
    "    s_val_aug_std = np.vstack(gamma_std_list)  # (n_val, dim_s+dim_xi)\n",
    "    s_tensor = torch.tensor(s_val_aug_std, dtype=torch.float32).to(device)\n",
    "\n",
    "    z_s_val = inverse(nfm, s_tensor)\n",
    "    z_s_val = z_s_val[:, :dim_s]\n",
    "    z_sample_np = inverse(nfm, x_train_tensor)\n",
    "\n",
    "    cov_type = 'full' if dim_s <= 10 else 'diag'\n",
    "    gmm_z = GaussianMixture(n_components=best_K, covariance_type=cov_type, reg_covar=1e-2).fit(z_sample_np)\n",
    "    mu_z, cov_z, p_z = gmm_z.means_, gmm_z.covariances_, gmm_z.weights_\n",
    "    sig_z = np.array([np.diag(cov) for cov in cov_z]) if cov_type == 'diag' else cov_z\n",
    "\n",
    "    best_eps_result = {'eps': None, 'score': float('inf')}\n",
    "    for eps in eps_list:\n",
    "        valid_score = 0.0\n",
    "        for j in range(z_s_val.shape[0]):\n",
    "            z_s_j = z_s_val[j].ravel()  # (dim_s,)\n",
    "            mu_cond, cov_cond, p_cond = transforming_conditional(s=z_s_j, num_components=best_K, mu_k=mu_z, sig_k=sig_z, p_k=p_z, dim_s=dim_s)\n",
    "            z_xi_sample = MC_sampling(best_K, 500, mu_cond, cov_cond, p_cond)  # (500, dim_xi)\n",
    "            z_full = np.hstack([np.repeat(z_s_j.reshape(1, -1), 500, axis=0), z_xi_sample])  # (500, dim_s+dim_xi)\n",
    "            z_tensor = torch.tensor(z_full, dtype=torch.float32).to(device)\n",
    "            xi_sampled_std = forward(nfm, z_tensor)[:, dim_s:]\n",
    "            xi_sampled = scaler_xi.inverse_transform(xi_sampled_std)\n",
    "            xi_sampled = np.maximum(xi_sampled, 0)\n",
    "            q_gmm = NewsVendor_2_Wass(xi_sampled, eps, h, b)\n",
    "            valid_score += oos_loss_valid(q_gmm, xi_val[j], h, b)\n",
    "\n",
    "        # print(f\"[eps={eps:.4f}] Validation Score = {valid_score:.4f}\")\n",
    "        if valid_score < best_eps_result['score']:\n",
    "            best_eps_result.update({'eps': eps, 'score': valid_score})\n",
    "\n",
    "    return best_K, best_eps_result['eps']\n",
    "\n",
    "def cv_GMM_nonNF(N, max_K, eps_list, xi, s, h, b, hidden_node, hidden_layer, block_size, num_bins, total_epoch, device):\n",
    "    # ----- split -----\n",
    "    dim_s, dim_xi = s.shape[1], xi.shape[1]\n",
    "    X = np.concatenate([s, xi], axis=1)           \n",
    "    split = int(len(X) * 0.9)\n",
    "    train, val = X[:split], X[split:]\n",
    "\n",
    "    s_train, xi_train = train[:, :dim_s], train[:, dim_s:]\n",
    "    s_val,   xi_val   = val[:,   :dim_s], val[:,   dim_s:]\n",
    "\n",
    "    scaler_s  = StandardScaler().fit(s_train)\n",
    "    scaler_xi = StandardScaler().fit(xi_train)\n",
    "\n",
    "    s_train_std  = scaler_s.transform(s_train)\n",
    "    xi_train_std = scaler_xi.transform(xi_train)\n",
    "    s_val_std    = scaler_s.transform(s_val)      \n",
    "\n",
    "    data_train_std = np.concatenate([s_train_std, xi_train_std], axis=1)\n",
    "    best_K = select_K_by_AIC(data_train_std, max_K=max_K)\n",
    "\n",
    "    # --- Fit GMM on x_std\n",
    "    cov_type = 'full' if dim_s <= 10 else 'diag'\n",
    "    gmm_x = GaussianMixture(n_components=best_K, covariance_type=cov_type, reg_covar=1e-2).fit(data_train_std)\n",
    "    mu_x, cov_x, p_x = gmm_x.means_, gmm_x.covariances_, gmm_x.weights_\n",
    "    sig_x = np.array([np.diag(cov) for cov in cov_x]) if cov_type == 'diag' else cov_x\n",
    "    \n",
    "    # --- Grid over eps to pick best by validation\n",
    "    best_eps_result = {'eps': None, 'score': float('inf')}\n",
    "    num_mc = 500\n",
    "\n",
    "    for eps in eps_list:\n",
    "        valid_score = 0.0\n",
    "\n",
    "        for j in range(s_val.shape[0]):\n",
    "            s_j = s_val_std[j].ravel()  \n",
    "            mu_cond_x, cov_cond_x, p_cond_x = transforming_conditional(s=s_j, num_components=best_K,mu_k=mu_x, sig_k=sig_x, p_k=p_x, dim_s=dim_s)\n",
    "            xi_sampled_std = MC_sampling(best_K, num_mc, mu_cond_x, cov_cond_x, p_cond_x)\n",
    "            xi_sampled = scaler_xi.inverse_transform(xi_sampled_std)\n",
    "            xi_sampled = np.maximum(xi_sampled, 0)\n",
    "            q_gmm= NewsVendor_2_Wass(xi_sampled, eps, h, b)\n",
    "            valid_score += oos_loss_valid(q_gmm, xi_val[j], h, b)\n",
    "\n",
    "        # print(f\"[NON-NF GMM] [K={best_K}] [eps={eps:.4f}] Validation Score = {valid_score:.6f}\")\n",
    "        if valid_score < best_eps_result['score']:\n",
    "            best_eps_result.update({'eps': eps, 'score': valid_score})\n",
    "\n",
    "    return best_K, best_eps_result['eps']"
   ]
  },
  {
   "cell_type": "code",
   "execution_count": 4,
   "id": "239f9932e6c6aafb",
   "metadata": {
    "ExecuteTime": {
     "end_time": "2025-08-14T01:36:05.660111Z",
     "start_time": "2025-08-14T01:36:05.655069Z"
    }
   },
   "outputs": [],
   "source": [
    "def train_nf_model(latent_size, best_K, hidden_node, hidden_layer, num_bins, block_size, total_epoch, x, device, batch_size=64, lr=1e-3, patience=30, val_split=0.2):\n",
    "\n",
    "    x_np = x.cpu().numpy()\n",
    "    gmm = GaussianMixture(n_components=best_K, covariance_type='diag', reg_covar=1e-2).fit(x_np)\n",
    "    means = torch.tensor(gmm.means_, dtype=torch.float32, device=device)\n",
    "    weights = torch.tensor(gmm.weights_, dtype=torch.float32, device=device)\n",
    "    stds = torch.tensor(np.sqrt(gmm.covariances_), dtype=torch.float32, device=device)\n",
    "\n",
    "    flows = [nf.flows.AutoregressiveRationalQuadraticSpline(latent_size, hidden_layer, hidden_node, num_bins=num_bins) for _ in range(block_size)]\n",
    "    q0 = nf.distributions.GaussianMixture(n_modes=best_K, dim=latent_size, loc=means, scale=stds, weights=weights, trainable=False)\n",
    "    nfm = nf.NormalizingFlow(q0=q0, flows=flows).to(device)\n",
    "    optimizer = torch.optim.Adam(nfm.parameters(), lr=lr)\n",
    "\n",
    "    dataset = TensorDataset(x)\n",
    "    val_size = int(len(dataset) * val_split)\n",
    "    train_size = len(dataset) - val_size\n",
    "    train_dataset, val_dataset = random_split(dataset, [train_size, val_size])\n",
    "\n",
    "    train_loader = DataLoader(train_dataset, batch_size=batch_size, shuffle=True)\n",
    "    val_loader = DataLoader(val_dataset, batch_size=batch_size, shuffle=False)\n",
    "\n",
    "    loss_hist = []\n",
    "    val_loss_hist = []\n",
    "\n",
    "    best_val_loss = float('inf')\n",
    "    patience_counter = 0\n",
    "    best_model_state = None\n",
    "\n",
    "    for epoch in tqdm(range(total_epoch), desc=\"Training NF\", leave=False):\n",
    "        nfm.train()\n",
    "        train_loss_epoch = 0.0\n",
    "        for batch in train_loader:\n",
    "            x_batch = batch[0].to(device)\n",
    "            optimizer.zero_grad()\n",
    "            loss = nfm.forward_kld(x_batch)\n",
    "            if not torch.isnan(loss):\n",
    "                loss.backward()\n",
    "                optimizer.step()\n",
    "                train_loss_epoch += loss.item()\n",
    "\n",
    "        nfm.eval()\n",
    "        val_loss_epoch = 0.0\n",
    "        with torch.no_grad():\n",
    "            for batch in val_loader:\n",
    "                x_batch = batch[0].to(device)\n",
    "                loss = nfm.forward_kld(x_batch)\n",
    "                if not torch.isnan(loss):\n",
    "                    val_loss_epoch += loss.item()\n",
    "\n",
    "        loss_hist.append(train_loss_epoch)\n",
    "        val_loss_hist.append(val_loss_epoch)\n",
    "\n",
    "        if val_loss_epoch < best_val_loss:\n",
    "            best_val_loss = val_loss_epoch\n",
    "            patience_counter = 0\n",
    "            best_model_state = nfm.state_dict()\n",
    "        else:\n",
    "            patience_counter += 1\n",
    "            if patience_counter >= patience:\n",
    "                # print(f\"Early stopping at epoch {epoch+1} (val loss: {val_loss_epoch:.4f})\")\n",
    "                break\n",
    "\n",
    "    if best_model_state is not None:\n",
    "        nfm.load_state_dict(best_model_state)\n",
    "\n",
    "    return nfm, loss_hist\n",
    "\n",
    "def inverse(nfm, x):\n",
    "    with torch.no_grad():\n",
    "        z_np = nfm.inverse(x).cpu().numpy()\n",
    "    return z_np\n",
    "\n",
    "def forward(nfm, z):\n",
    "    with torch.no_grad():\n",
    "        x = nfm.forward(z).cpu().numpy()\n",
    "    return x\n"
   ]
  },
  {
   "cell_type": "code",
   "execution_count": 5,
   "id": "6a8bb0fa",
   "metadata": {
    "ExecuteTime": {
     "end_time": "2025-08-14T01:36:05.677655Z",
     "start_time": "2025-08-14T01:36:05.671635Z"
    }
   },
   "outputs": [],
   "source": [
    "############################### NW function #########################\n",
    "def NW_weights(gamma, gammas, H):\n",
    "    N = len(gammas)\n",
    "    numerator = np.zeros(N)\n",
    "    for i in range(N):\n",
    "        numerator[i] = np.exp(-np.linalg.norm(gammas[i] - gamma) / H)\n",
    "    denominator = numerator.sum()\n",
    "    weight = numerator / denominator if denominator != 0 else np.ones(N) / N\n",
    "    weight = np.round(weight, 6)\n",
    "    weight = weight / weight.sum() if weight.sum() != 0 else np.ones(N) / N\n",
    "    return weight\n",
    "\n",
    "def cv_lda(Cs, C_H, xi, gammas, h, b):\n",
    "    valid_scores = []\n",
    "\n",
    "    split = int(len(xi) * 0.9)\n",
    "    xi_subtrain, xi_valid = xi[:split], xi[split:]\n",
    "    gammas_subtrain, gammas_valid = gammas[:split], gammas[split:]\n",
    "    N = xi_subtrain.shape[0]\n",
    "    dim_s = gammas.shape[1]\n",
    "    H = C_H * 1 / (N ** (1 / 6))\n",
    "\n",
    "    use_kde = dim_s <= 5  # Use KDE only if the dimension is small\n",
    "\n",
    "    if use_kde:\n",
    "        kde = KernelDensity(kernel='exponential', bandwidth=1).fit(gammas_subtrain)\n",
    "\n",
    "    for C in Cs:\n",
    "        valid_score = 0\n",
    "        for j in range(len(gammas_valid)):\n",
    "            gamma = gammas_valid[j]\n",
    "            if use_kde:\n",
    "                g_gamma = np.exp(kde.score_samples(gamma.reshape(1, -1))).item()\n",
    "            else:\n",
    "                g_gamma = 1.0  # fallback default if KDE is not used\n",
    "\n",
    "            lda_0 = 1 / np.sqrt(N * (H ** 2) * g_gamma)\n",
    "            weight = NW_weights(gamma, gammas_subtrain, H)\n",
    "            params = {\n",
    "                \"b\": b,\n",
    "                \"h\": h,\n",
    "                \"gamma\": gamma,\n",
    "                \"xi\": xi_subtrain,\n",
    "                \"weight\": weight,\n",
    "            }\n",
    "            lda = lda_0 * C\n",
    "            News = Newsvendor(reg=lda, verbose=False)\n",
    "            News.fit(params)\n",
    "            q = News.coef_\n",
    "            valid_score += oos_loss_valid(q, xi_valid[j], h, b)\n",
    "\n",
    "        valid_score /= len(gammas_valid)\n",
    "        valid_scores.append(valid_score)\n",
    "\n",
    "    idx = np.argmin(valid_scores)\n",
    "    return Cs[idx]\n",
    "\n",
    "def cv_lda2(Cs,C_H,xi,gammas,H,h,b):\n",
    "    valid_scores=[]\n",
    "\n",
    "    split = int(len(xi) * 0.9)\n",
    "    xi_subtrain, xi_valid = xi[:split], xi[split:]\n",
    "    gammas_subtrain, gammas_valid = gammas[:split], gammas[split:]\n",
    "    \n",
    "    N = xi_subtrain.shape[0]\n",
    "    H=C_H * 1/(N**(1/6))\n",
    "    lda_0 = 1/np.sqrt(N*(H**2))\n",
    "\n",
    "    for i,C in enumerate(Cs):\n",
    "        valid_score = 0\n",
    "        for j in range(gammas_valid.shape[0]):\n",
    "            gamma = gammas_valid[j]\n",
    "            weight=NW_weights(gamma,gammas_subtrain,H)\n",
    "            params={\n",
    "            \"b\":b,\n",
    "            \"h\":h,\n",
    "            \"gamma\": gamma,\n",
    "            \"xi\":xi_subtrain,\n",
    "            \"weight\":weight,\n",
    "            }\n",
    "            lda = C * lda_0\n",
    "            News=Newsvendor(reg=lda,verbose=False)\n",
    "            News.fit(params)\n",
    "            q=News.coef_\n",
    "            valid_score += oos_loss_valid(q,np.array([xi_valid[j]]),h,b)\n",
    "            # valid_score += oos_loss_valid(q,np.array([xi_valid[j]]))\n",
    "        valid_scores.append(valid_score)\n",
    "    # print(valid_scores)\n",
    "    idx=np.argmin(valid_scores)\n",
    "    return(Cs[idx])\n",
    "\n",
    "def cv_H(Cs, xi, gammas, h, b):\n",
    "    valid_scores = []\n",
    "\n",
    "    split = int(len(xi) * 0.9)\n",
    "    xi_subtrain, xi_valid = xi[:split], xi[split:]\n",
    "    gammas_subtrain, gammas_valid = gammas[:split], gammas[split:]\n",
    "    N = xi_subtrain.shape[0]\n",
    "    H_0 = 1 / (N ** (1 / 6))\n",
    "\n",
    "    for i, C in enumerate(Cs):\n",
    "        valid_score = 0\n",
    "        H = C * H_0\n",
    "\n",
    "        for j in range(gammas_valid.shape[0]):\n",
    "            gamma = gammas_valid[j]\n",
    "            weight = NW_weights(gamma, gammas_subtrain, H)\n",
    "\n",
    "            weight = np.round(weight, 6)\n",
    "            weight = weight / weight.sum()\n",
    "            params = {\n",
    "                \"b\": b,\n",
    "                \"h\": h,\n",
    "                \"gamma\": gamma,\n",
    "                \"xi\": xi_subtrain,\n",
    "                \"weight\": weight,\n",
    "            }\n",
    "\n",
    "            News = Newsvendor(reg=0, verbose=False)\n",
    "            News.fit(params)\n",
    "            q = News.coef_\n",
    "            valid_score += oos_loss_valid(q, xi_valid[j], h, b)\n",
    "\n",
    "        valid_scores.append(valid_score)\n",
    "\n",
    "    idx = np.argmin(valid_scores)\n",
    "    return Cs[idx]"
   ]
  },
  {
   "cell_type": "code",
   "execution_count": 6,
   "id": "1ca224f5bdf7c506",
   "metadata": {
    "ExecuteTime": {
     "end_time": "2025-08-14T01:36:05.689423Z",
     "start_time": "2025-08-14T01:36:05.686106Z"
    }
   },
   "outputs": [],
   "source": [
    "########################### Kannan DRO setting ##############################\n",
    "def NewsVendor_1_Wass(xi, eps, h, b):\n",
    "    xi = xi.astype(float)\n",
    "    N = xi.shape[0]\n",
    "    lda = cp.Variable(nonneg=True)\n",
    "    s = cp.Variable(N)\n",
    "    z = cp.Variable((N,2))\n",
    "    q = cp.Variable(nonneg=True)\n",
    "\n",
    "    const = []\n",
    "    for i in range(N):\n",
    "        const.append(h * q + z[i,0] * xi[i] <= s[i])\n",
    "        const.append(-b * q + z[i,1] * xi[i] <= s[i])\n",
    "        const.append(z[i,0] >= -h)\n",
    "        const.append(z[i,1] >= b)\n",
    "        for k in range(2):\n",
    "            const.append(cp.norm_inf(z[i,k]) <= lda)\n",
    "\n",
    "    obj = cp.Minimize(lda * eps  + (1 / N) * cp.sum(s))\n",
    "    prob = cp.Problem(obj, const)\n",
    "    prob.solve(solver = cp.MOSEK)\n",
    "\n",
    "    return q.value \n",
    "\n",
    "def cv_eps_kannan(eps_list, xi, gammas, h, b):\n",
    "    valid_scores = []\n",
    "\n",
    "    split = int(len(xi) - 10)\n",
    "    xi_subtrain, xi_valid = xi[:split], xi[split:]\n",
    "    gammas_subtrain, gammas_valid = gammas[:split], gammas[split:]\n",
    "\n",
    "    model = LinearRegression().fit(gammas_subtrain, xi_subtrain)\n",
    "    residuals = xi_subtrain - model.predict(gammas_subtrain)\n",
    "\n",
    "    for i_eps, eps in enumerate(eps_list):\n",
    "        valid_score = 0\n",
    "        for j in range(len(gammas_valid)):\n",
    "            gamma = gammas_valid[j]\n",
    "            xi_j = np.array([xi_valid[j]])\n",
    "\n",
    "            f_hat = model.predict(gamma.reshape(1, -1)).item()\n",
    "            xi_ER = np.maximum(residuals + f_hat, 0)\n",
    "            q = NewsVendor_1_Wass(xi_ER, eps, h, b)\n",
    "        \n",
    "            valid_score += oos_loss_valid(q, xi_j, h, b)\n",
    "\n",
    "        valid_scores.append((eps, valid_score))\n",
    "\n",
    "    best_eps, _ = min(valid_scores, key=lambda x: x[1])\n",
    "    return best_eps\n"
   ]
  },
  {
   "cell_type": "code",
   "execution_count": null,
   "id": "8421a8ae3fe1f85c",
   "metadata": {
    "ExecuteTime": {
     "start_time": "2025-08-14T01:36:05.697481Z"
    },
    "jupyter": {
     "is_executing": true
    }
   },
   "outputs": [
    {
     "name": "stdout",
     "output_type": "stream",
     "text": [
      "✅✅✅✅✅✅✅Running trials for dim_s = 20✅✅✅✅✅✅✅✅\n"
     ]
    },
    {
     "name": "stderr",
     "output_type": "stream",
     "text": [
      " 20%|██        | 20/100 [00:00<00:00, 118.56it/s]"
     ]
    },
    {
     "name": "stdout",
     "output_type": "stream",
     "text": [
      "NW Finished 2 trial for N = 100\n",
      "NW Finished 4 trial for N = 100\n",
      "NW Finished 0 trial for N = 100\n",
      "NW Finished 1 trial for N = 100\n",
      "NW Finished 19 trial for N = 100\n",
      "NW Finished 3 trial for N = 100\n",
      "NW Finished 15 trial for N = 100\n",
      "NW Finished 10 trial for N = 100\n",
      "NW Finished 12 trial for N = 100\n",
      "NW Finished 18 trial for N = 100\n",
      "NW Finished 5 trial for N = 100\n",
      "NW Finished 13 trial for N = 100\n",
      "NW Finished 11 trial for N = 100\n",
      "NW Finished 14 trial for N = 100\n",
      "NW Finished 9 trial for N = 100\n",
      "NW Finished 16 trial for N = 100\n",
      "NW Finished 17 trial for N = 100\n",
      "NW Finished 7 trial for N = 100\n",
      "NW Finished 8 trial for N = 100\n",
      "NW Finished 6 trial for N = 100\n"
     ]
    },
    {
     "name": "stderr",
     "output_type": "stream",
     "text": [
      "                                                             \r"
     ]
    },
    {
     "name": "stdout",
     "output_type": "stream",
     "text": [
      "2 trial : 3, 0.05\n"
     ]
    },
    {
     "name": "stderr",
     "output_type": "stream",
     "text": [
      "                                                              \r"
     ]
    },
    {
     "name": "stdout",
     "output_type": "stream",
     "text": [
      "4 trial : 3, 0.5\n"
     ]
    },
    {
     "name": "stderr",
     "output_type": "stream",
     "text": [
      "Training NF:   0%|          | 0/200 [00:00<?, ?it/s]89.74it/s]"
     ]
    },
    {
     "name": "stdout",
     "output_type": "stream",
     "text": [
      "12 trial : 3, 0.05\n",
      "14 trial : 3, 0.05\n",
      "19 trial : 1, 0.5\n",
      "5 trial : 1, 1\n",
      "15 trial : 1, 1\n"
     ]
    },
    {
     "name": "stderr",
     "output_type": "stream",
     "text": [
      "                                                              \r"
     ]
    },
    {
     "name": "stdout",
     "output_type": "stream",
     "text": [
      "18 trial : 1, 0.05\n",
      "9 trial : 1, 0.5\n",
      "0 trial : 3, 0.5\n",
      "13 trial : 1, 0.1\n",
      "17 trial : 3, 0.01\n"
     ]
    },
    {
     "name": "stderr",
     "output_type": "stream",
     "text": [
      "Training NF:   7%|▋         | 14/200 [00:00<00:01, 137.82it/s]"
     ]
    },
    {
     "name": "stdout",
     "output_type": "stream",
     "text": [
      "10 trial : 3, 0.5\n",
      "8 trial : 1, 0.5\n",
      "7 trial : 1, 0.01\n",
      "6 trial : 3, 0.05\n"
     ]
    },
    {
     "name": "stderr",
     "output_type": "stream",
     "text": [
      "Training NF:   8%|▊         | 16/200 [00:00<00:01, 156.34it/s]"
     ]
    },
    {
     "name": "stdout",
     "output_type": "stream",
     "text": [
      "1 trial : 3, 0.05\n",
      "3 trial : 1, 0.5\n",
      "11 trial : 1, 1\n"
     ]
    },
    {
     "name": "stderr",
     "output_type": "stream",
     "text": [
      "Training NF:   0%|          | 0/200 [00:00<?, ?it/s]67.20it/s]"
     ]
    },
    {
     "name": "stdout",
     "output_type": "stream",
     "text": [
      "16 trial : 3, 0.01\n"
     ]
    },
    {
     "name": "stderr",
     "output_type": "stream",
     "text": [
      "                                                              \r"
     ]
    },
    {
     "name": "stdout",
     "output_type": "stream",
     "text": [
      "Trial 2 : NF-GMM Finished 2 trial for N = 100\n",
      "Trial 4 : NF-GMM Finished 4 trial for N = 100\n",
      "Trial 15 : NF-GMM Finished 15 trial for N = 100\n",
      "Trial 12 : NF-GMM Finished 12 trial for N = 100\n",
      "Trial 19 : NF-GMM Finished 19 trial for N = 100\n",
      "Trial 14 : NF-GMM Finished 14 trial for N = 100\n",
      "Trial 5 : NF-GMM Finished 5 trial for N = 100\n",
      "Trial 18 : NF-GMM Finished 18 trial for N = 100\n",
      "Trial 13 : NF-GMM Finished 13 trial for N = 100\n",
      "Trial 9 : NF-GMM Finished 9 trial for N = 100\n",
      "Trial 17 : NF-GMM Finished 17 trial for N = 100\n",
      "Trial 0 : NF-GMM Finished 0 trial for N = 100\n",
      "Trial 7 : NF-GMM Finished 7 trial for N = 100\n",
      "Trial 8 : NF-GMM Finished 8 trial for N = 100\n",
      "Trial 6 : NF-GMM Finished 6 trial for N = 100\n",
      "Trial 10 : NF-GMM Finished 10 trial for N = 100\n",
      "Trial 1 : NF-GMM Finished 1 trial for N = 100\n",
      "Trial 3 : NF-GMM Finished 3 trial for N = 100\n",
      "Trial 16 : NF-GMM Finished 16 trial for N = 100\n",
      "Trial 11 : NF-GMM Finished 11 trial for N = 100\n",
      "Trial 4 : GMM (non-NF) Finished for N = 100\n",
      "Trial 2 : GMM (non-NF) Finished for N = 100\n",
      "Trial 15 : GMM (non-NF) Finished for N = 100\n",
      "Trial 12 : GMM (non-NF) Finished for N = 100\n",
      "Trial 19 : GMM (non-NF) Finished for N = 100\n",
      "Trial 17 : GMM (non-NF) Finished for N = 100\n",
      "Trial 0 : GMM (non-NF) Finished for N = 100\n",
      "Trial 5 : GMM (non-NF) Finished for N = 100\n",
      "Trial 13 : GMM (non-NF) Finished for N = 100\n",
      "Trial 18 : GMM (non-NF) Finished for N = 100\n",
      "Trial 9 : GMM (non-NF) Finished for N = 100\n",
      "Trial 8 : GMM (non-NF) Finished for N = 100\n",
      "Trial 14 : GMM (non-NF) Finished for N = 100\n",
      "Trial 10 : GMM (non-NF) Finished for N = 100\n",
      "Trial 16 : GMM (non-NF) Finished for N = 100\n",
      "Trial 6 : GMM (non-NF) Finished for N = 100\n",
      "Trial 7 : GMM (non-NF) Finished for N = 100\n",
      "Trial 11 : GMM (non-NF) Finished for N = 100\n",
      "Trial 3 : GMM (non-NF) Finished for N = 100\n",
      "Trial 1 : GMM (non-NF) Finished for N = 100\n",
      "Kanna Best eps at 4 trial for N = 100 : 0.01\n"
     ]
    },
    {
     "name": "stderr",
     "output_type": "stream",
     "text": [
      " 40%|████      | 40/100 [06:55<12:13, 12.23s/it] "
     ]
    },
    {
     "name": "stdout",
     "output_type": "stream",
     "text": [
      "KANNAN Finished 4 trial for N = 100\n",
      "NF-gmm,nonNF-gmm,kannan,nw : 142.3295418217262, 151.89018913858322, 142.56141587406046, 254.81900833490457\n",
      "Kanna Best eps at 2 trial for N = 100 : 0.01\n",
      "KANNAN Finished 2 trial for N = 100\n",
      "NF-gmm,nonNF-gmm,kannan,nw : 100.16088375329576, 103.33122036051746, 100.86112785675144, 197.9856310004618\n",
      "Kanna Best eps at 15 trial for N = 100 : 0.01\n",
      "Kanna Best eps at 12 trial for N = 100 : 0.01\n",
      "KANNAN Finished 15 trial for N = 100\n",
      "NF-gmm,nonNF-gmm,kannan,nw : 182.23159534678913, 185.65634803564615, 247.30330467272333, 272.8522803971599\n",
      "KANNAN Finished 12 trial for N = 100\n",
      "NF-gmm,nonNF-gmm,kannan,nw : 115.82296581576742, 129.29896979060712, 152.6353105028725, 219.2317767512937\n",
      "Kanna Best eps at 19 trial for N = 100 : 0.01\n",
      "KANNAN Finished 19 trial for N = 100\n",
      "NF-gmm,nonNF-gmm,kannan,nw : 75.17549951771883, 87.1916748177749, 171.62688284311122, 186.3001259990755\n",
      "Kanna Best eps at 17 trial for N = 100 : 0.1\n",
      "Kanna Best eps at 18 trial for N = 100 : 0.1\n",
      "Kanna Best eps at 5 trial for N = 100 : 1\n",
      "Kanna Best eps at 0 trial for N = 100 : 1\n",
      "KANNAN Finished 18 trial for N = 100\n",
      "NF-gmm,nonNF-gmm,kannan,nw : 141.6870384758664, 141.23975389310422, 168.81728381587538, 247.37791238054723\n",
      "KANNAN Finished 5 trial for N = 100\n",
      "NF-gmm,nonNF-gmm,kannan,nw : 118.43186054247063, 134.34566534557092, 149.87053668117505, 205.4277131223091\n",
      "KANNAN Finished 0 trial for N = 100\n",
      "NF-gmm,nonNF-gmm,kannan,nw : 103.49097586802178, 110.26032520922674, 149.54771252018665, 198.77101156731888\n",
      "KANNAN Finished 17 trial for N = 100\n",
      "NF-gmm,nonNF-gmm,kannan,nw : 185.57376751501485, 177.95850932402715, 333.47969856051793, 262.12953035573344\n",
      "Kanna Best eps at 9 trial for N = 100 : 0.01\n",
      "Kanna Best eps at 8 trial for N = 100 : 0.1\n",
      "Kanna Best eps at 13 trial for N = 100 : 0.01\n",
      "KANNAN Finished 8 trial for N = 100\n",
      "NF-gmm,nonNF-gmm,kannan,nw : 136.74849902484556, 157.35529083521413, 152.33886943850834, 239.43198808780582\n",
      "KANNAN Finished 13 trial for N = 100\n",
      "NF-gmm,nonNF-gmm,kannan,nw : 148.2252823571515, 155.02082960570257, 314.96690699488806, 250.56713807106513\n",
      "KANNAN Finished 9 trial for N = 100\n",
      "NF-gmm,nonNF-gmm,kannan,nw : 175.24615152165472, 175.33471956852418, 453.00053066045655, 288.9063799780632\n",
      "Kanna Best eps at 14 trial for N = 100 : 0.1\n",
      "Kanna Best eps at 10 trial for N = 100 : 1\n",
      "Kanna Best eps at 16 trial for N = 100 : 0.5\n",
      "Kanna Best eps at 7 trial for N = 100 : 0.05\n",
      "KANNAN Finished 14 trial for N = 100\n",
      "NF-gmm,nonNF-gmm,kannan,nw : 127.31873897038648, 150.01183436580493, 224.43919128691198, 224.6733588167582\n",
      "Kanna Best eps at 11 trial for N = 100 : 0.01\n",
      "KANNAN Finished 10 trial for N = 100\n",
      "NF-gmm,nonNF-gmm,kannan,nw : 100.656004674724, 128.37140103817197, 119.49552000101933, 217.94575504145436\n",
      "Kanna Best eps at 6 trial for N = 100 : 0.1\n",
      "KANNAN Finished 16 trial for N = 100\n",
      "NF-gmm,nonNF-gmm,kannan,nw : 139.9310297587226, 140.48827934132234, 220.9761703292397, 268.42226490728603\n",
      "Kanna Best eps at 3 trial for N = 100 : 0.01\n",
      "Kanna Best eps at 1 trial for N = 100 : 0.1\n",
      "KANNAN Finished 7 trial for N = 100\n",
      "NF-gmm,nonNF-gmm,kannan,nw : 141.14112989016158, 168.7309584099853, 206.43982615449767, 255.68572097375684\n",
      "KANNAN Finished 11 trial for N = 100\n",
      "NF-gmm,nonNF-gmm,kannan,nw : 118.02668306806285, 127.77369117562122, 116.70275851494021, 216.10692756810255\n",
      "KANNAN Finished 6 trial for N = 100\n",
      "NF-gmm,nonNF-gmm,kannan,nw : 83.89292987921606, 88.16592388303395, 115.31603892939746, 196.13631649923317\n",
      "KANNAN Finished 3 trial for N = 100\n",
      "NF-gmm,nonNF-gmm,kannan,nw : 124.74310850463063, 125.07717302457363, 123.82438463607741, 221.5673137422946\n",
      "KANNAN Finished 1 trial for N = 100\n",
      "NF-gmm,nonNF-gmm,kannan,nw : 94.24864700343143, 98.62451187612054, 126.9688017080708, 204.81123914153162\n",
      "NW Finished 20 trial for N = 100\n"
     ]
    },
    {
     "name": "stderr",
     "output_type": "stream",
     "text": [
      "Training NF:   0%|          | 0/300 [00:00<?, ?it/s]9.71it/s]"
     ]
    },
    {
     "name": "stdout",
     "output_type": "stream",
     "text": [
      "NW Finished 21 trial for N = 100\n"
     ]
    },
    {
     "name": "stderr",
     "output_type": "stream",
     "text": [
      "Training NF:   0%|          | 0/300 [00:00<?, ?it/s]         "
     ]
    },
    {
     "name": "stdout",
     "output_type": "stream",
     "text": [
      "NW Finished 22 trial for N = 100\n",
      "NW Finished 23 trial for N = 100\n"
     ]
    },
    {
     "name": "stderr",
     "output_type": "stream",
     "text": [
      "Training NF:   5%|▌         | 16/300 [00:00<00:09, 30.41it/s]"
     ]
    },
    {
     "name": "stdout",
     "output_type": "stream",
     "text": [
      "NW Finished 24 trial for N = 100\n"
     ]
    },
    {
     "name": "stderr",
     "output_type": "stream",
     "text": [
      "Training NF:   0%|          | 0/300 [00:00<?, ?it/s]3.14it/s]"
     ]
    },
    {
     "name": "stdout",
     "output_type": "stream",
     "text": [
      "NW Finished 28 trial for N = 100\n",
      "NW Finished 25 trial for N = 100\n",
      "NW Finished 27 trial for N = 100\n"
     ]
    },
    {
     "name": "stderr",
     "output_type": "stream",
     "text": [
      "Training NF:   1%|          | 3/300 [00:00<00:10, 29.62it/s] "
     ]
    },
    {
     "name": "stdout",
     "output_type": "stream",
     "text": [
      "NW Finished 26 trial for N = 100\n"
     ]
    },
    {
     "name": "stderr",
     "output_type": "stream",
     "text": [
      "Training NF:   3%|▎         | 10/300 [00:00<00:10, 28.74it/s]"
     ]
    },
    {
     "name": "stdout",
     "output_type": "stream",
     "text": [
      "NW Finished 29 trial for N = 100\n",
      "NW Finished 30 trial for N = 100\n"
     ]
    },
    {
     "name": "stderr",
     "output_type": "stream",
     "text": [
      "Training NF:   9%|▊         | 26/300 [00:00<00:08, 31.38it/s]"
     ]
    },
    {
     "name": "stdout",
     "output_type": "stream",
     "text": [
      "NW Finished 31 trial for N = 100\n"
     ]
    },
    {
     "name": "stderr",
     "output_type": "stream",
     "text": [
      "Training NF:   8%|▊         | 24/300 [00:00<00:09, 29.54it/s]"
     ]
    },
    {
     "name": "stdout",
     "output_type": "stream",
     "text": [
      "NW Finished 34 trial for N = 100\n",
      "NW Finished 32 trial for N = 100\n",
      "NW Finished 35 trial for N = 100\n"
     ]
    },
    {
     "name": "stderr",
     "output_type": "stream",
     "text": [
      "Training NF:   0%|          | 0/300 [00:00<?, ?it/s]         "
     ]
    },
    {
     "name": "stdout",
     "output_type": "stream",
     "text": [
      "NW Finished 37 trial for N = 100\n",
      "NW Finished 38 trial for N = 100\n",
      "NW Finished 33 trial for N = 100\n",
      "NW Finished 39 trial for N = 100\n"
     ]
    },
    {
     "name": "stderr",
     "output_type": "stream",
     "text": [
      "Training NF:   3%|▎         | 8/300 [00:00<00:09, 31.46it/s]]"
     ]
    },
    {
     "name": "stdout",
     "output_type": "stream",
     "text": [
      "NW Finished 36 trial for N = 100\n"
     ]
    },
    {
     "name": "stderr",
     "output_type": "stream",
     "text": [
      "                                                             \r"
     ]
    },
    {
     "name": "stdout",
     "output_type": "stream",
     "text": [
      "21 trial : 3, 0.05\n"
     ]
    },
    {
     "name": "stderr",
     "output_type": "stream",
     "text": [
      "Training NF:   0%|          | 0/200 [00:00<?, ?it/s]          "
     ]
    },
    {
     "name": "stdout",
     "output_type": "stream",
     "text": [
      "20 trial : 3, 0.01\n"
     ]
    },
    {
     "name": "stderr",
     "output_type": "stream",
     "text": [
      "                                                              \r"
     ]
    },
    {
     "name": "stdout",
     "output_type": "stream",
     "text": [
      "22 trial : 1, 1\n"
     ]
    },
    {
     "name": "stderr",
     "output_type": "stream",
     "text": [
      "                                                              \r"
     ]
    },
    {
     "name": "stdout",
     "output_type": "stream",
     "text": [
      "23 trial : 3, 0.1\n"
     ]
    },
    {
     "name": "stderr",
     "output_type": "stream",
     "text": [
      "                                                              \r"
     ]
    },
    {
     "name": "stdout",
     "output_type": "stream",
     "text": [
      "26 trial : 3, 1\n"
     ]
    },
    {
     "name": "stderr",
     "output_type": "stream",
     "text": [
      "                                                              \r"
     ]
    },
    {
     "name": "stdout",
     "output_type": "stream",
     "text": [
      "24 trial : 1, 0.01\n"
     ]
    },
    {
     "name": "stderr",
     "output_type": "stream",
     "text": [
      "Training NF:   0%|          | 0/200 [00:00<?, ?it/s]          "
     ]
    },
    {
     "name": "stdout",
     "output_type": "stream",
     "text": [
      "30 trial : 1, 0.5\n"
     ]
    },
    {
     "name": "stderr",
     "output_type": "stream",
     "text": [
      "                                                              \r"
     ]
    },
    {
     "name": "stdout",
     "output_type": "stream",
     "text": [
      "28 trial : 1, 0.1\n",
      "25 trial : 3, 0.01\n",
      "29 trial : 3, 1\n"
     ]
    },
    {
     "name": "stderr",
     "output_type": "stream",
     "text": [
      "Training NF:  26%|██▌       | 51/200 [00:00<00:00, 169.42it/s]"
     ]
    },
    {
     "name": "stdout",
     "output_type": "stream",
     "text": [
      "34 trial : 1, 0.01\n"
     ]
    },
    {
     "name": "stderr",
     "output_type": "stream",
     "text": [
      "Training NF:   0%|          | 0/200 [00:00<?, ?it/s]          "
     ]
    },
    {
     "name": "stdout",
     "output_type": "stream",
     "text": [
      "35 trial : 1, 0.01\n",
      "38 trial : 3, 1\n",
      "27 trial : 1, 0.1\n"
     ]
    },
    {
     "name": "stderr",
     "output_type": "stream",
     "text": [
      "Training NF:   0%|          | 0/200 [00:00<?, ?it/s]          "
     ]
    },
    {
     "name": "stdout",
     "output_type": "stream",
     "text": [
      "32 trial : 1, 0.5\n",
      "31 trial : 1, 0.5\n",
      "36 trial : 1, 0.5\n"
     ]
    },
    {
     "name": "stderr",
     "output_type": "stream",
     "text": [
      "                                                              \r"
     ]
    },
    {
     "name": "stdout",
     "output_type": "stream",
     "text": [
      "37 trial : 3, 0.05\n"
     ]
    },
    {
     "name": "stderr",
     "output_type": "stream",
     "text": [
      "                                                              \r"
     ]
    },
    {
     "name": "stdout",
     "output_type": "stream",
     "text": [
      "39 trial : 1, 0.1\n",
      "33 trial : 1, 0.1\n"
     ]
    },
    {
     "name": "stderr",
     "output_type": "stream",
     "text": [
      "                                                              \r"
     ]
    },
    {
     "name": "stdout",
     "output_type": "stream",
     "text": [
      "Trial 21 : NF-GMM Finished 21 trial for N = 100\n",
      "Trial 20 : NF-GMM Finished 20 trial for N = 100\n",
      "Trial 22 : NF-GMM Finished 22 trial for N = 100\n",
      "Trial 23 : NF-GMM Finished 23 trial for N = 100\n",
      "Trial 26 : NF-GMM Finished 26 trial for N = 100\n",
      "Trial 24 : NF-GMM Finished 24 trial for N = 100\n",
      "Trial 30 : NF-GMM Finished 30 trial for N = 100\n",
      "Trial 28 : NF-GMM Finished 28 trial for N = 100\n",
      "Trial 29 : NF-GMM Finished 29 trial for N = 100\n",
      "Trial 25 : NF-GMM Finished 25 trial for N = 100\n",
      "Trial 34 : NF-GMM Finished 34 trial for N = 100\n",
      "Trial 35 : NF-GMM Finished 35 trial for N = 100\n",
      "Trial 38 : NF-GMM Finished 38 trial for N = 100\n",
      "Trial 27 : NF-GMM Finished 27 trial for N = 100\n",
      "Trial 31 : NF-GMM Finished 31 trial for N = 100\n",
      "Trial 32 : NF-GMM Finished 32 trial for N = 100\n",
      "Trial 36 : NF-GMM Finished 36 trial for N = 100\n",
      "Trial 37 : NF-GMM Finished 37 trial for N = 100\n",
      "Trial 39 : NF-GMM Finished 39 trial for N = 100\n",
      "Trial 33 : NF-GMM Finished 33 trial for N = 100\n",
      "Trial 20 : GMM (non-NF) Finished for N = 100\n",
      "Trial 21 : GMM (non-NF) Finished for N = 100\n",
      "Trial 22 : GMM (non-NF) Finished for N = 100\n",
      "Trial 23 : GMM (non-NF) Finished for N = 100\n",
      "Trial 26 : GMM (non-NF) Finished for N = 100\n",
      "Trial 24 : GMM (non-NF) Finished for N = 100\n",
      "Trial 30 : GMM (non-NF) Finished for N = 100\n",
      "Trial 29 : GMM (non-NF) Finished for N = 100\n",
      "Trial 25 : GMM (non-NF) Finished for N = 100\n",
      "Trial 28 : GMM (non-NF) Finished for N = 100\n",
      "Trial 34 : GMM (non-NF) Finished for N = 100\n",
      "Trial 32 : GMM (non-NF) Finished for N = 100\n",
      "Trial 27 : GMM (non-NF) Finished for N = 100\n",
      "Trial 38 : GMM (non-NF) Finished for N = 100\n",
      "Trial 35 : GMM (non-NF) Finished for N = 100\n",
      "Trial 31 : GMM (non-NF) Finished for N = 100\n",
      "Trial 36 : GMM (non-NF) Finished for N = 100\n",
      "Trial 37 : GMM (non-NF) Finished for N = 100\n",
      "Trial 33 : GMM (non-NF) Finished for N = 100\n",
      "Trial 39 : GMM (non-NF) Finished for N = 100\n",
      "Kanna Best eps at 20 trial for N = 100 : 0.01\n",
      "Kanna Best eps at 21 trial for N = 100 : 0.05\n"
     ]
    },
    {
     "name": "stderr",
     "output_type": "stream",
     "text": [
      " 60%|██████    | 60/100 [13:49<10:44, 16.10s/it]"
     ]
    },
    {
     "name": "stdout",
     "output_type": "stream",
     "text": [
      "KANNAN Finished 20 trial for N = 100\n",
      "NF-gmm,nonNF-gmm,kannan,nw : 128.63361365600736, 138.91075724191856, 191.94703794313818, 239.65137132431656\n",
      "KANNAN Finished 21 trial for N = 100\n",
      "NF-gmm,nonNF-gmm,kannan,nw : 108.99251912452452, 118.7030117357328, 122.90416423976995, 214.6327173549699\n",
      "Kanna Best eps at 22 trial for N = 100 : 0.01\n",
      "KANNAN Finished 22 trial for N = 100\n",
      "NF-gmm,nonNF-gmm,kannan,nw : 150.64651122029525, 182.22048531304668, 208.28742119275154, 281.86295540231265\n",
      "Kanna Best eps at 26 trial for N = 100 : 1\n",
      "Kanna Best eps at 23 trial for N = 100 : 0.01\n",
      "KANNAN Finished 26 trial for N = 100\n",
      "NF-gmm,nonNF-gmm,kannan,nw : 133.0353569349492, 140.09132360962485, 131.928892570691, 240.7723045023875\n",
      "KANNAN Finished 23 trial for N = 100\n",
      "NF-gmm,nonNF-gmm,kannan,nw : 140.52328950905982, 147.9372575991336, 180.65284336803137, 240.98173517857097\n",
      "Kanna Best eps at 24 trial for N = 100 : 0.01\n",
      "KANNAN Finished 24 trial for N = 100\n",
      "NF-gmm,nonNF-gmm,kannan,nw : 147.3874680040665, 181.8790386273357, 170.18165773628078, 248.25311950708112\n",
      "Kanna Best eps at 30 trial for N = 100 : 0.5\n",
      "Kanna Best eps at 29 trial for N = 100 : 0.05\n",
      "KANNAN Finished 30 trial for N = 100\n",
      "NF-gmm,nonNF-gmm,kannan,nw : 183.131944152311, 189.9939726633674, 208.33707511028416, 281.6251998923112\n",
      "Kanna Best eps at 25 trial for N = 100 : 0.1\n",
      "KANNAN Finished 29 trial for N = 100\n",
      "NF-gmm,nonNF-gmm,kannan,nw : 121.96013582768391, 138.43494436100858, 142.49150739549347, 227.148311004805\n",
      "KANNAN Finished 25 trial for N = 100\n",
      "NF-gmm,nonNF-gmm,kannan,nw : 170.70574962489442, 173.48488675919097, 425.82716056050157, 280.4318027144648\n",
      "Kanna Best eps at 28 trial for N = 100 : 0.1\n",
      "Kanna Best eps at 34 trial for N = 100 : 0.1\n",
      "KANNAN Finished 28 trial for N = 100\n",
      "NF-gmm,nonNF-gmm,kannan,nw : 67.11822303805965, 119.05024714350611, 106.3119209368932, 168.99963672938145\n",
      "KANNAN Finished 34 trial for N = 100\n",
      "NF-gmm,nonNF-gmm,kannan,nw : 110.09871122082654, 114.30793173149749, 118.03773208060268, 214.78646019972757\n",
      "Kanna Best eps at 32 trial for N = 100 : 0.05\n",
      "Kanna Best eps at 38 trial for N = 100 : 0.01\n",
      "Kanna Best eps at 27 trial for N = 100 : 1\n",
      "KANNAN Finished 32 trial for N = 100\n",
      "NF-gmm,nonNF-gmm,kannan,nw : 103.47067406153911, 137.95687731023264, 186.1971443539133, 205.94912908636778\n",
      "KANNAN Finished 27 trial for N = 100\n",
      "NF-gmm,nonNF-gmm,kannan,nw : 130.01832272211308, 127.6796864582882, 276.33244937255415, 228.64025598214022\n",
      "Kanna Best eps at 35 trial for N = 100 : 0.05\n",
      "KANNAN Finished 38 trial for N = 100\n",
      "NF-gmm,nonNF-gmm,kannan,nw : 125.10982487009122, 133.33284471038982, 124.70007302113292, 202.53548819715894\n",
      "Kanna Best eps at 31 trial for N = 100 : 0.01\n",
      "Kanna Best eps at 36 trial for N = 100 : 0.01\n",
      "KANNAN Finished 35 trial for N = 100\n",
      "NF-gmm,nonNF-gmm,kannan,nw : 115.06324152351182, 123.55746299693391, 123.8276536918834, 197.79297495211884\n",
      "KANNAN Finished 31 trial for N = 100\n",
      "NF-gmm,nonNF-gmm,kannan,nw : 167.21091997753203, 165.21463403051197, 216.67987065628182, 283.6138168473481\n",
      "KANNAN Finished 36 trial for N = 100\n",
      "NF-gmm,nonNF-gmm,kannan,nw : 94.3974139699455, 93.42347265590199, 106.24461448787663, 186.83926681188106\n",
      "Kanna Best eps at 37 trial for N = 100 : 0.05\n",
      "Kanna Best eps at 33 trial for N = 100 : 1\n",
      "KANNAN Finished 37 trial for N = 100\n",
      "NF-gmm,nonNF-gmm,kannan,nw : 166.11636916780674, 184.29985376181983, 452.27031137911274, 275.4296697916357\n",
      "KANNAN Finished 33 trial for N = 100\n",
      "NF-gmm,nonNF-gmm,kannan,nw : 81.62512846234299, 82.73453976670702, 124.70373835550174, 189.7592793146491\n",
      "Kanna Best eps at 39 trial for N = 100 : 0.01\n",
      "KANNAN Finished 39 trial for N = 100\n",
      "NF-gmm,nonNF-gmm,kannan,nw : 102.85109340807671, 194.15256147673495, 106.59712684645396, 208.9636896323178\n",
      "NW Finished 40 trial for N = 100\n"
     ]
    },
    {
     "name": "stderr",
     "output_type": "stream",
     "text": [
      "Training NF:   2%|▏         | 5/300 [00:00<00:07, 41.44it/s]]"
     ]
    },
    {
     "name": "stdout",
     "output_type": "stream",
     "text": [
      "NW Finished 41 trial for N = 100\n"
     ]
    },
    {
     "name": "stderr",
     "output_type": "stream",
     "text": [
      "Training NF:   8%|▊         | 23/300 [00:00<00:07, 36.43it/s]"
     ]
    },
    {
     "name": "stdout",
     "output_type": "stream",
     "text": [
      "NW Finished 42 trial for N = 100\n"
     ]
    },
    {
     "name": "stderr",
     "output_type": "stream",
     "text": [
      "                                                             \r"
     ]
    },
    {
     "name": "stdout",
     "output_type": "stream",
     "text": [
      "NW Finished 44 trial for N = 100\n",
      "NW Finished 43 trial for N = 100\n"
     ]
    },
    {
     "name": "stderr",
     "output_type": "stream",
     "text": [
      "                                                             \r"
     ]
    },
    {
     "name": "stdout",
     "output_type": "stream",
     "text": [
      "NW Finished 45 trial for N = 100\n"
     ]
    },
    {
     "name": "stderr",
     "output_type": "stream",
     "text": [
      "Training NF:   1%|▏         | 4/300 [00:00<00:09, 31.99it/s]]"
     ]
    },
    {
     "name": "stdout",
     "output_type": "stream",
     "text": [
      "NW Finished 46 trial for N = 100\n",
      "NW Finished 47 trial for N = 100\n",
      "NW Finished 48 trial for N = 100\n",
      "NW Finished 49 trial for N = 100\n"
     ]
    },
    {
     "name": "stderr",
     "output_type": "stream",
     "text": [
      "Training NF:   1%|▏         | 4/300 [00:00<00:08, 33.81it/s]]"
     ]
    },
    {
     "name": "stdout",
     "output_type": "stream",
     "text": [
      "NW Finished 50 trial for N = 100\n"
     ]
    },
    {
     "name": "stderr",
     "output_type": "stream",
     "text": [
      "                                                             \r"
     ]
    },
    {
     "name": "stdout",
     "output_type": "stream",
     "text": [
      "NW Finished 52 trial for N = 100\n",
      "NW Finished 51 trial for N = 100\n"
     ]
    },
    {
     "name": "stderr",
     "output_type": "stream",
     "text": [
      "Training NF:   1%|          | 3/300 [00:00<00:09, 29.97it/s]"
     ]
    },
    {
     "name": "stdout",
     "output_type": "stream",
     "text": [
      "NW Finished 53 trial for N = 100\n",
      "NW Finished 54 trial for N = 100\n",
      "NW Finished 55 trial for N = 100\n"
     ]
    },
    {
     "name": "stderr",
     "output_type": "stream",
     "text": [
      "Training NF:   5%|▌         | 16/300 [00:00<00:08, 33.15it/s]"
     ]
    },
    {
     "name": "stdout",
     "output_type": "stream",
     "text": [
      "NW Finished 56 trial for N = 100\n"
     ]
    },
    {
     "name": "stderr",
     "output_type": "stream",
     "text": [
      "Training NF:   9%|▉         | 28/300 [00:01<00:09, 28.88it/s]"
     ]
    },
    {
     "name": "stdout",
     "output_type": "stream",
     "text": [
      "NW Finished 57 trial for N = 100\n"
     ]
    },
    {
     "name": "stderr",
     "output_type": "stream",
     "text": [
      "Training NF:   3%|▎         | 9/300 [00:00<00:11, 25.83it/s]]"
     ]
    },
    {
     "name": "stdout",
     "output_type": "stream",
     "text": [
      "NW Finished 58 trial for N = 100\n"
     ]
    },
    {
     "name": "stderr",
     "output_type": "stream",
     "text": [
      "Training NF:   8%|▊         | 24/300 [00:00<00:08, 30.75it/s]"
     ]
    },
    {
     "name": "stdout",
     "output_type": "stream",
     "text": [
      "NW Finished 59 trial for N = 100\n"
     ]
    },
    {
     "name": "stderr",
     "output_type": "stream",
     "text": [
      "                                                             \r"
     ]
    },
    {
     "name": "stdout",
     "output_type": "stream",
     "text": [
      "41 trial : 3, 0.01\n",
      "40 trial : 3, 0.05\n"
     ]
    },
    {
     "name": "stderr",
     "output_type": "stream",
     "text": [
      "                                                              \r"
     ]
    },
    {
     "name": "stdout",
     "output_type": "stream",
     "text": [
      "42 trial : 3, 0.05\n"
     ]
    },
    {
     "name": "stderr",
     "output_type": "stream",
     "text": [
      "                                                              \r"
     ]
    },
    {
     "name": "stdout",
     "output_type": "stream",
     "text": [
      "44 trial : 1, 0.05\n"
     ]
    },
    {
     "name": "stderr",
     "output_type": "stream",
     "text": [
      "                                                              \r"
     ]
    },
    {
     "name": "stdout",
     "output_type": "stream",
     "text": [
      "43 trial : 3, 0.1\n"
     ]
    },
    {
     "name": "stderr",
     "output_type": "stream",
     "text": [
      "Training NF:   0%|          | 0/200 [00:00<?, ?it/s]          "
     ]
    },
    {
     "name": "stdout",
     "output_type": "stream",
     "text": [
      "49 trial : 1, 0.05\n"
     ]
    },
    {
     "name": "stderr",
     "output_type": "stream",
     "text": [
      "Training NF:   8%|▊         | 15/200 [00:00<00:01, 143.16it/s]"
     ]
    },
    {
     "name": "stdout",
     "output_type": "stream",
     "text": [
      "46 trial : 3, 0.5\n",
      "45 trial : 1, 0.5\n"
     ]
    },
    {
     "name": "stderr",
     "output_type": "stream",
     "text": [
      "                                                              \r"
     ]
    },
    {
     "name": "stdout",
     "output_type": "stream",
     "text": [
      "47 trial : 3, 1\n"
     ]
    },
    {
     "name": "stderr",
     "output_type": "stream",
     "text": [
      "                                                              \r"
     ]
    },
    {
     "name": "stdout",
     "output_type": "stream",
     "text": [
      "48 trial : 3, 0.5\n"
     ]
    },
    {
     "name": "stderr",
     "output_type": "stream",
     "text": [
      "                                                              \r"
     ]
    },
    {
     "name": "stdout",
     "output_type": "stream",
     "text": [
      "50 trial : 1, 0.05\n"
     ]
    },
    {
     "name": "stderr",
     "output_type": "stream",
     "text": [
      "                                                              \r"
     ]
    },
    {
     "name": "stdout",
     "output_type": "stream",
     "text": [
      "51 trial : 3, 0.01\n",
      "52 trial : 3, 0.01\n"
     ]
    },
    {
     "name": "stderr",
     "output_type": "stream",
     "text": [
      "Training NF:  19%|█▉        | 38/200 [00:00<00:01, 155.35it/s]"
     ]
    },
    {
     "name": "stdout",
     "output_type": "stream",
     "text": [
      "55 trial : 1, 0.05\n",
      "58 trial : 1, 0.01\n"
     ]
    },
    {
     "name": "stderr",
     "output_type": "stream",
     "text": [
      "Training NF:  17%|█▋        | 34/200 [00:00<00:01, 163.97it/s]"
     ]
    },
    {
     "name": "stdout",
     "output_type": "stream",
     "text": [
      "Trial 41 : NF-GMM Finished 41 trial for N = 100\n",
      "Trial 40 : NF-GMM Finished 40 trial for N = 100\n",
      "53 trial : 1, 1\n"
     ]
    },
    {
     "name": "stderr",
     "output_type": "stream",
     "text": [
      "Training NF:   0%|          | 0/200 [00:00<?, ?it/s]          "
     ]
    },
    {
     "name": "stdout",
     "output_type": "stream",
     "text": [
      "54 trial : 3, 1\n",
      "59 trial : 1, 0.01\n"
     ]
    },
    {
     "name": "stderr",
     "output_type": "stream",
     "text": [
      "                                                              \r"
     ]
    },
    {
     "name": "stdout",
     "output_type": "stream",
     "text": [
      "56 trial : 3, 0.1\n"
     ]
    },
    {
     "name": "stderr",
     "output_type": "stream",
     "text": [
      "Training NF:  16%|█▋        | 33/200 [00:00<00:01, 160.23it/s]"
     ]
    },
    {
     "name": "stdout",
     "output_type": "stream",
     "text": [
      "Trial 42 : NF-GMM Finished 42 trial for N = 100\n"
     ]
    },
    {
     "name": "stderr",
     "output_type": "stream",
     "text": [
      "                                                              \r"
     ]
    },
    {
     "name": "stdout",
     "output_type": "stream",
     "text": [
      "57 trial : 1, 0.1\n"
     ]
    },
    {
     "name": "stderr",
     "output_type": "stream",
     "text": [
      "                                                              \r"
     ]
    },
    {
     "name": "stdout",
     "output_type": "stream",
     "text": [
      "Trial 44 : NF-GMM Finished 44 trial for N = 100\n",
      "Trial 43 : NF-GMM Finished 43 trial for N = 100\n",
      "Trial 49 : NF-GMM Finished 49 trial for N = 100\n",
      "Trial 45 : NF-GMM Finished 45 trial for N = 100\n",
      "Trial 46 : NF-GMM Finished 46 trial for N = 100\n",
      "Trial 47 : NF-GMM Finished 47 trial for N = 100\n",
      "Trial 48 : NF-GMM Finished 48 trial for N = 100\n",
      "Trial 50 : NF-GMM Finished 50 trial for N = 100\n",
      "Trial 51 : NF-GMM Finished 51 trial for N = 100\n",
      "Trial 52 : NF-GMM Finished 52 trial for N = 100\n",
      "Trial 55 : NF-GMM Finished 55 trial for N = 100\n",
      "Trial 58 : NF-GMM Finished 58 trial for N = 100\n",
      "Trial 53 : NF-GMM Finished 53 trial for N = 100\n",
      "Trial 54 : NF-GMM Finished 54 trial for N = 100\n",
      "Trial 59 : NF-GMM Finished 59 trial for N = 100\n",
      "Trial 56 : NF-GMM Finished 56 trial for N = 100\n",
      "Trial 57 : NF-GMM Finished 57 trial for N = 100\n",
      "Trial 40 : GMM (non-NF) Finished for N = 100\n",
      "Trial 41 : GMM (non-NF) Finished for N = 100\n",
      "Trial 42 : GMM (non-NF) Finished for N = 100\n",
      "Trial 44 : GMM (non-NF) Finished for N = 100\n",
      "Trial 43 : GMM (non-NF) Finished for N = 100\n",
      "Trial 49 : GMM (non-NF) Finished for N = 100\n",
      "Trial 47 : GMM (non-NF) Finished for N = 100\n",
      "Trial 46 : GMM (non-NF) Finished for N = 100\n",
      "Trial 45 : GMM (non-NF) Finished for N = 100\n",
      "Trial 48 : GMM (non-NF) Finished for N = 100\n",
      "Trial 52 : GMM (non-NF) Finished for N = 100\n",
      "Trial 51 : GMM (non-NF) Finished for N = 100\n",
      "Trial 54 : GMM (non-NF) Finished for N = 100\n",
      "Trial 50 : GMM (non-NF) Finished for N = 100\n",
      "Trial 58 : GMM (non-NF) Finished for N = 100\n",
      "Trial 59 : GMM (non-NF) Finished for N = 100\n",
      "Trial 53 : GMM (non-NF) Finished for N = 100\n",
      "Trial 55 : GMM (non-NF) Finished for N = 100\n",
      "Trial 56 : GMM (non-NF) Finished for N = 100\n",
      "Trial 57 : GMM (non-NF) Finished for N = 100\n",
      "Kanna Best eps at 40 trial for N = 100 : 0.1\n"
     ]
    },
    {
     "name": "stderr",
     "output_type": "stream",
     "text": [
      " 80%|████████  | 80/100 [20:44<05:58, 17.94s/it]"
     ]
    },
    {
     "name": "stdout",
     "output_type": "stream",
     "text": [
      "KANNAN Finished 40 trial for N = 100\n",
      "NF-gmm,nonNF-gmm,kannan,nw : 107.17494267233232, 130.57837187090647, 106.13244533126247, 227.4241403589969\n",
      "Kanna Best eps at 41 trial for N = 100 : 0.01\n",
      "Kanna Best eps at 42 trial for N = 100 : 0.01\n",
      "KANNAN Finished 41 trial for N = 100\n",
      "NF-gmm,nonNF-gmm,kannan,nw : 167.4994144224326, 171.54774901123136, 218.73768714314096, 272.08373031677286\n",
      "KANNAN Finished 42 trial for N = 100\n",
      "NF-gmm,nonNF-gmm,kannan,nw : 101.02652151368163, 110.2688935139695, 134.87706228206608, 203.57744840138116\n",
      "Kanna Best eps at 44 trial for N = 100 : 0.01\n",
      "KANNAN Finished 44 trial for N = 100\n",
      "NF-gmm,nonNF-gmm,kannan,nw : 155.19760418450338, 179.28987703043074, 211.76784288318171, 249.22864437619225\n",
      "Kanna Best eps at 43 trial for N = 100 : 0.01\n",
      "Kanna Best eps at 49 trial for N = 100 : 0.05\n",
      "KANNAN Finished 43 trial for N = 100\n",
      "NF-gmm,nonNF-gmm,kannan,nw : 140.1214816051552, 157.46768001934055, 169.4319561593109, 231.38105406011329\n",
      "Kanna Best eps at 47 trial for N = 100 : 0.05\n",
      "KANNAN Finished 49 trial for N = 100\n",
      "NF-gmm,nonNF-gmm,kannan,nw : 144.81719396495998, 161.87795395150764, 142.93447684884856, 251.57475684472627\n",
      "KANNAN Finished 47 trial for N = 100\n",
      "NF-gmm,nonNF-gmm,kannan,nw : 93.05119322308981, 98.52509655068091, 97.36613303957786, 208.25859808261936\n",
      "Kanna Best eps at 45 trial for N = 100 : 0.05\n",
      "Kanna Best eps at 46 trial for N = 100 : 0.05\n",
      "KANNAN Finished 45 trial for N = 100\n",
      "NF-gmm,nonNF-gmm,kannan,nw : 96.55609373290717, 124.03504663519479, 128.36698420430272, 186.67153557976738\n",
      "KANNAN Finished 46 trial for N = 100\n",
      "NF-gmm,nonNF-gmm,kannan,nw : 162.86463679193741, 156.81669410704265, 248.64430531871895, 250.583914235953\n",
      "Kanna Best eps at 48 trial for N = 100 : 0.01\n",
      "KANNAN Finished 48 trial for N = 100\n",
      "NF-gmm,nonNF-gmm,kannan,nw : 113.02304037792324, 128.66356551623403, 133.62655916573863, 211.07188841566426\n",
      "Kanna Best eps at 52 trial for N = 100 : 0.5\n",
      "Kanna Best eps at 51 trial for N = 100 : 0.05\n",
      "KANNAN Finished 52 trial for N = 100\n",
      "NF-gmm,nonNF-gmm,kannan,nw : 141.9936395413857, 140.35806564642718, 182.5548142184981, 235.14312003808035\n",
      "Kanna Best eps at 58 trial for N = 100 : 0.01\n",
      "Kanna Best eps at 50 trial for N = 100 : 0.01\n",
      "Kanna Best eps at 54 trial for N = 100 : 0.01\n",
      "KANNAN Finished 51 trial for N = 100\n",
      "NF-gmm,nonNF-gmm,kannan,nw : 145.17169572959602, 164.6508873536636, 294.51131334285236, 242.05179305680528\n",
      "KANNAN Finished 58 trial for N = 100\n",
      "NF-gmm,nonNF-gmm,kannan,nw : 151.7609091003225, 151.94315367970225, 190.8916204500713, 257.72220916878575\n",
      "KANNAN Finished 50 trial for N = 100\n",
      "NF-gmm,nonNF-gmm,kannan,nw : 538.766908914289, 167.03315574659902, 508.17330317409784, 221.16777209909736\n",
      "Kanna Best eps at 53 trial for N = 100 : 0.01\n",
      "Kanna Best eps at 55 trial for N = 100 : 0.1\n",
      "KANNAN Finished 54 trial for N = 100\n",
      "NF-gmm,nonNF-gmm,kannan,nw : 125.43767234958831, 150.86849441212766, 125.7479111356331, 235.9478908039353\n",
      "Kanna Best eps at 59 trial for N = 100 : 0.5\n",
      "KANNAN Finished 53 trial for N = 100\n",
      "NF-gmm,nonNF-gmm,kannan,nw : 161.87833350183317, 201.5824573457723, 254.51337037134152, 276.3241444317278\n",
      "KANNAN Finished 55 trial for N = 100\n",
      "NF-gmm,nonNF-gmm,kannan,nw : 93.10949209051606, 114.47260837003397, 192.913152966915, 189.3911294100029\n",
      "KANNAN Finished 59 trial for N = 100\n",
      "NF-gmm,nonNF-gmm,kannan,nw : 427.9690023129418, 165.11897250974562, 470.28665276376364, 257.79588058467823\n",
      "Kanna Best eps at 56 trial for N = 100 : 0.05\n",
      "KANNAN Finished 56 trial for N = 100\n",
      "NF-gmm,nonNF-gmm,kannan,nw : 101.68335520514604, 151.25804218228512, 130.8827329505707, 225.3728955804959\n",
      "Kanna Best eps at 57 trial for N = 100 : 0.5\n",
      "KANNAN Finished 57 trial for N = 100\n",
      "NF-gmm,nonNF-gmm,kannan,nw : 193.22007595656, 259.6848182385853, 277.4100997737148, 321.59481007354\n",
      "NW Finished 60 trial for N = 100\n"
     ]
    },
    {
     "name": "stderr",
     "output_type": "stream",
     "text": [
      "                                                             \r"
     ]
    },
    {
     "name": "stdout",
     "output_type": "stream",
     "text": [
      "NW Finished 61 trial for N = 100\n",
      "NW Finished 62 trial for N = 100\n"
     ]
    },
    {
     "name": "stderr",
     "output_type": "stream",
     "text": [
      "                                                             \r"
     ]
    },
    {
     "name": "stdout",
     "output_type": "stream",
     "text": [
      "NW Finished 63 trial for N = 100\n"
     ]
    },
    {
     "name": "stderr",
     "output_type": "stream",
     "text": [
      "Training NF:   4%|▍         | 12/300 [00:00<00:10, 26.53it/s]"
     ]
    },
    {
     "name": "stdout",
     "output_type": "stream",
     "text": [
      "NW Finished 64 trial for N = 100\n"
     ]
    },
    {
     "name": "stderr",
     "output_type": "stream",
     "text": [
      "Training NF:   1%|          | 3/300 [00:00<00:10, 29.61it/s] "
     ]
    },
    {
     "name": "stdout",
     "output_type": "stream",
     "text": [
      "NW Finished 65 trial for N = 100\n"
     ]
    },
    {
     "name": "stderr",
     "output_type": "stream",
     "text": [
      "Training NF:   1%|▏         | 4/300 [00:00<00:09, 32.77it/s]]"
     ]
    },
    {
     "name": "stdout",
     "output_type": "stream",
     "text": [
      "NW Finished 66 trial for N = 100\n"
     ]
    },
    {
     "name": "stderr",
     "output_type": "stream",
     "text": [
      "                                                             \r"
     ]
    },
    {
     "name": "stdout",
     "output_type": "stream",
     "text": [
      "NW Finished 67 trial for N = 100\n",
      "NW Finished 68 trial for N = 100\n"
     ]
    },
    {
     "name": "stderr",
     "output_type": "stream",
     "text": [
      "                                                             \r"
     ]
    },
    {
     "name": "stdout",
     "output_type": "stream",
     "text": [
      "NW Finished 69 trial for N = 100\n"
     ]
    },
    {
     "name": "stderr",
     "output_type": "stream",
     "text": [
      "Training NF:   1%|▏         | 4/300 [00:00<00:09, 31.42it/s] "
     ]
    },
    {
     "name": "stdout",
     "output_type": "stream",
     "text": [
      "NW Finished 70 trial for N = 100\n"
     ]
    },
    {
     "name": "stderr",
     "output_type": "stream",
     "text": [
      "Training NF:   7%|▋         | 20/300 [00:00<00:08, 31.93it/s]"
     ]
    },
    {
     "name": "stdout",
     "output_type": "stream",
     "text": [
      "NW Finished 71 trial for N = 100\n"
     ]
    },
    {
     "name": "stderr",
     "output_type": "stream",
     "text": [
      "Training NF:   1%|▏         | 4/300 [00:00<00:09, 31.31it/s]]"
     ]
    },
    {
     "name": "stdout",
     "output_type": "stream",
     "text": [
      "NW Finished 73 trial for N = 100\n"
     ]
    },
    {
     "name": "stderr",
     "output_type": "stream",
     "text": [
      "Training NF:   4%|▎         | 11/300 [00:00<00:09, 29.07it/s]"
     ]
    },
    {
     "name": "stdout",
     "output_type": "stream",
     "text": [
      "NW Finished 72 trial for N = 100\n"
     ]
    },
    {
     "name": "stderr",
     "output_type": "stream",
     "text": [
      "Training NF:   4%|▍         | 12/300 [00:00<00:09, 31.27it/s]"
     ]
    },
    {
     "name": "stdout",
     "output_type": "stream",
     "text": [
      "NW Finished 74 trial for N = 100\n",
      "NW Finished 76 trial for N = 100\n",
      "NW Finished 77 trial for N = 100\n"
     ]
    },
    {
     "name": "stderr",
     "output_type": "stream",
     "text": [
      "Training NF:   7%|▋         | 20/300 [00:00<00:09, 30.31it/s]"
     ]
    },
    {
     "name": "stdout",
     "output_type": "stream",
     "text": [
      "NW Finished 75 trial for N = 100\n"
     ]
    },
    {
     "name": "stderr",
     "output_type": "stream",
     "text": [
      "                                                             \r"
     ]
    },
    {
     "name": "stdout",
     "output_type": "stream",
     "text": [
      "NW Finished 78 trial for N = 100\n"
     ]
    },
    {
     "name": "stderr",
     "output_type": "stream",
     "text": [
      "Training NF:   9%|▉         | 27/300 [00:00<00:08, 32.33it/s]"
     ]
    },
    {
     "name": "stdout",
     "output_type": "stream",
     "text": [
      "NW Finished 79 trial for N = 100\n"
     ]
    },
    {
     "name": "stderr",
     "output_type": "stream",
     "text": [
      "                                                             \r"
     ]
    },
    {
     "name": "stdout",
     "output_type": "stream",
     "text": [
      "61 trial : 3, 1\n"
     ]
    },
    {
     "name": "stderr",
     "output_type": "stream",
     "text": [
      "Training NF:  21%|██        | 42/200 [00:00<00:00, 204.58it/s]"
     ]
    },
    {
     "name": "stdout",
     "output_type": "stream",
     "text": [
      "60 trial : 1, 0.05\n"
     ]
    },
    {
     "name": "stderr",
     "output_type": "stream",
     "text": [
      "                                                              \r"
     ]
    },
    {
     "name": "stdout",
     "output_type": "stream",
     "text": [
      "62 trial : 1, 0.1\n"
     ]
    },
    {
     "name": "stderr",
     "output_type": "stream",
     "text": [
      "                                                              \r"
     ]
    },
    {
     "name": "stdout",
     "output_type": "stream",
     "text": [
      "64 trial : 3, 0.01\n",
      "65 trial : 1, 0.1\n",
      "63 trial : 1, 0.05\n"
     ]
    },
    {
     "name": "stderr",
     "output_type": "stream",
     "text": [
      "                                                              \r"
     ]
    },
    {
     "name": "stdout",
     "output_type": "stream",
     "text": [
      "66 trial : 1, 0.5\n"
     ]
    },
    {
     "name": "stderr",
     "output_type": "stream",
     "text": [
      "Training NF:   8%|▊         | 15/200 [00:00<00:01, 141.98it/s]"
     ]
    },
    {
     "name": "stdout",
     "output_type": "stream",
     "text": [
      "68 trial : 3, 0.05\n"
     ]
    },
    {
     "name": "stderr",
     "output_type": "stream",
     "text": [
      "                                                              \r"
     ]
    },
    {
     "name": "stdout",
     "output_type": "stream",
     "text": [
      "67 trial : 3, 0.01\n"
     ]
    },
    {
     "name": "stderr",
     "output_type": "stream",
     "text": [
      "                                                              \r"
     ]
    },
    {
     "name": "stdout",
     "output_type": "stream",
     "text": [
      "Trial 60 : NF-GMM Finished 60 trial for N = 100\n",
      "Trial 61 : NF-GMM Finished 61 trial for N = 100\n",
      "Trial 62 : NF-GMM Finished 62 trial for N = 100\n",
      "69 trial : 1, 0.01\n"
     ]
    },
    {
     "name": "stderr",
     "output_type": "stream",
     "text": [
      "                                                              \r"
     ]
    },
    {
     "name": "stdout",
     "output_type": "stream",
     "text": [
      "73 trial : 1, 1\n"
     ]
    },
    {
     "name": "stderr",
     "output_type": "stream",
     "text": [
      "                                                              \r"
     ]
    },
    {
     "name": "stdout",
     "output_type": "stream",
     "text": [
      "70 trial : 1, 0.5\n"
     ]
    },
    {
     "name": "stderr",
     "output_type": "stream",
     "text": [
      "                                                              \r"
     ]
    },
    {
     "name": "stdout",
     "output_type": "stream",
     "text": [
      "71 trial : 1, 0.1\n"
     ]
    },
    {
     "name": "stderr",
     "output_type": "stream",
     "text": [
      "Training NF:   8%|▊         | 15/200 [00:00<00:01, 142.86it/s]"
     ]
    },
    {
     "name": "stdout",
     "output_type": "stream",
     "text": [
      "76 trial : 1, 0.1\n",
      "77 trial : 1, 0.01\n"
     ]
    },
    {
     "name": "stderr",
     "output_type": "stream",
     "text": [
      "                                                              \r"
     ]
    },
    {
     "name": "stdout",
     "output_type": "stream",
     "text": [
      "72 trial : 3, 0.1\n"
     ]
    },
    {
     "name": "stderr",
     "output_type": "stream",
     "text": [
      "                                                              \r"
     ]
    },
    {
     "name": "stdout",
     "output_type": "stream",
     "text": [
      "Trial 64 : NF-GMM Finished 64 trial for N = 100\n",
      "Trial 63 : NF-GMM Finished 63 trial for N = 100\n",
      "Trial 65 : NF-GMM Finished 65 trial for N = 100\n",
      "74 trial : 1, 0.05\n",
      "78 trial : 1, 0.01\n",
      "75 trial : 3, 0.05\n",
      "79 trial : 1, 0.05\n"
     ]
    },
    {
     "name": "stderr",
     "output_type": "stream",
     "text": [
      "                                                              \r"
     ]
    },
    {
     "name": "stdout",
     "output_type": "stream",
     "text": [
      "Trial 66 : NF-GMM Finished 66 trial for N = 100\n",
      "Trial 68 : NF-GMM Finished 68 trial for N = 100\n",
      "Trial 67 : NF-GMM Finished 67 trial for N = 100\n",
      "Trial 69 : NF-GMM Finished 69 trial for N = 100\n",
      "Trial 73 : NF-GMM Finished 73 trial for N = 100\n",
      "Trial 70 : NF-GMM Finished 70 trial for N = 100\n",
      "Trial 71 : NF-GMM Finished 71 trial for N = 100\n",
      "Trial 76 : NF-GMM Finished 76 trial for N = 100\n",
      "Trial 77 : NF-GMM Finished 77 trial for N = 100\n",
      "Trial 72 : NF-GMM Finished 72 trial for N = 100\n",
      "Trial 74 : NF-GMM Finished 74 trial for N = 100\n",
      "Trial 79 : NF-GMM Finished 79 trial for N = 100\n",
      "Trial 78 : NF-GMM Finished 78 trial for N = 100\n",
      "Trial 75 : NF-GMM Finished 75 trial for N = 100\n",
      "Trial 60 : GMM (non-NF) Finished for N = 100\n",
      "Trial 62 : GMM (non-NF) Finished for N = 100\n",
      "Trial 61 : GMM (non-NF) Finished for N = 100\n",
      "Trial 65 : GMM (non-NF) Finished for N = 100\n",
      "Trial 64 : GMM (non-NF) Finished for N = 100\n",
      "Trial 63 : GMM (non-NF) Finished for N = 100\n",
      "Trial 68 : GMM (non-NF) Finished for N = 100\n",
      "Trial 66 : GMM (non-NF) Finished for N = 100\n",
      "Trial 67 : GMM (non-NF) Finished for N = 100\n",
      "Trial 69 : GMM (non-NF) Finished for N = 100\n",
      "Trial 73 : GMM (non-NF) Finished for N = 100\n",
      "Trial 71 : GMM (non-NF) Finished for N = 100\n",
      "Trial 76 : GMM (non-NF) Finished for N = 100\n",
      "Trial 77 : GMM (non-NF) Finished for N = 100\n",
      "Trial 72 : GMM (non-NF) Finished for N = 100\n",
      "Trial 70 : GMM (non-NF) Finished for N = 100\n",
      "Trial 78 : GMM (non-NF) Finished for N = 100\n",
      "Trial 74 : GMM (non-NF) Finished for N = 100\n",
      "Trial 79 : GMM (non-NF) Finished for N = 100\n",
      "Trial 75 : GMM (non-NF) Finished for N = 100\n",
      "Kanna Best eps at 60 trial for N = 100 : 0.1\n"
     ]
    },
    {
     "name": "stderr",
     "output_type": "stream",
     "text": [
      "100%|██████████| 100/100 [27:40<00:00, 16.61s/it]"
     ]
    },
    {
     "name": "stdout",
     "output_type": "stream",
     "text": [
      "KANNAN Finished 60 trial for N = 100\n",
      "NF-gmm,nonNF-gmm,kannan,nw : 80.73059403006943, 85.74452286385878, 105.10845586418785, 196.4727485888152\n"
     ]
    },
    {
     "name": "stderr",
     "output_type": "stream",
     "text": [
      "\n"
     ]
    },
    {
     "name": "stdout",
     "output_type": "stream",
     "text": [
      "Kanna Best eps at 61 trial for N = 100 : 0.01\n",
      "Kanna Best eps at 62 trial for N = 100 : 0.05\n",
      "KANNAN Finished 61 trial for N = 100\n",
      "NF-gmm,nonNF-gmm,kannan,nw : 132.32062462571918, 139.57780148169056, 156.78973734967644, 248.18593867210004\n",
      "KANNAN Finished 62 trial for N = 100\n",
      "NF-gmm,nonNF-gmm,kannan,nw : 70.29285564315714, 80.92316475242492, 106.07996960166905, 169.7117105067826\n",
      "Kanna Best eps at 64 trial for N = 100 : 0.01\n",
      "Kanna Best eps at 65 trial for N = 100 : 1\n",
      "KANNAN Finished 64 trial for N = 100\n",
      "NF-gmm,nonNF-gmm,kannan,nw : 103.12918588329433, 107.62386733436529, 129.55747816848884, 197.6954206686388\n",
      "Kanna Best eps at 63 trial for N = 100 : 0.01\n",
      "KANNAN Finished 65 trial for N = 100\n",
      "NF-gmm,nonNF-gmm,kannan,nw : 158.86795680610194, 162.55774029725833, 476.51476362259353, 257.5484212255076\n",
      "KANNAN Finished 63 trial for N = 100\n",
      "NF-gmm,nonNF-gmm,kannan,nw : 127.56109474400593, 123.13957986846876, 187.03361353905484, 229.24603092343054\n",
      "Kanna Best eps at 68 trial for N = 100 : 0.01\n",
      "Kanna Best eps at 66 trial for N = 100 : 0.01\n",
      "KANNAN Finished 68 trial for N = 100\n",
      "NF-gmm,nonNF-gmm,kannan,nw : 167.85331569573455, 162.7634064833666, 211.39575516374313, 246.73741467491007\n",
      "KANNAN Finished 66 trial for N = 100\n",
      "NF-gmm,nonNF-gmm,kannan,nw : 138.98706180409837, 153.57573333120118, 366.12279707327724, 242.26173992721786\n",
      "Kanna Best eps at 67 trial for N = 100 : 0.05\n",
      "KANNAN Finished 67 trial for N = 100\n",
      "NF-gmm,nonNF-gmm,kannan,nw : 143.66722790217648, 153.789434502512, 162.43440587732576, 246.70549855405972\n",
      "Kanna Best eps at 69 trial for N = 100 : 0.05\n",
      "Kanna Best eps at 77 trial for N = 100 : 0.05\n",
      "KANNAN Finished 69 trial for N = 100\n",
      "NF-gmm,nonNF-gmm,kannan,nw : 122.60174768149264, 140.6955699883686, 198.27064756567827, 218.1248737235205\n",
      "KANNAN Finished 77 trial for N = 100\n",
      "NF-gmm,nonNF-gmm,kannan,nw : 194.66593976198487, 218.40809493699587, 288.81001870319704, 302.1822982512989\n",
      "Kanna Best eps at 73 trial for N = 100 : 0.01\n",
      "Kanna Best eps at 71 trial for N = 100 : 0.01\n",
      "KANNAN Finished 73 trial for N = 100\n",
      "NF-gmm,nonNF-gmm,kannan,nw : 104.66131985230825, 107.15603529718975, 180.33911524212533, 197.71517181348779\n",
      "KANNAN Finished 71 trial for N = 100\n",
      "NF-gmm,nonNF-gmm,kannan,nw : 182.1665350653556, 175.36831463083516, 230.2908680203485, 260.8689263255516\n",
      "Kanna Best eps at 76 trial for N = 100 : 0.1\n",
      "Kanna Best eps at 72 trial for N = 100 : 0.01\n",
      "KANNAN Finished 76 trial for N = 100\n",
      "NF-gmm,nonNF-gmm,kannan,nw : 134.0666556530522, 144.9369849530534, 260.58899997243645, 238.36636254596155\n",
      "KANNAN Finished 72 trial for N = 100\n",
      "NF-gmm,nonNF-gmm,kannan,nw : 82.24563537553124, 103.6863754582098, 95.11903675011348, 185.8463181520091\n",
      "Kanna Best eps at 70 trial for N = 100 : 0.01\n",
      "KANNAN Finished 70 trial for N = 100\n",
      "NF-gmm,nonNF-gmm,kannan,nw : 126.90097734751313, 125.18877638060273, 307.5615124645041, 230.31471871868104\n",
      "Kanna Best eps at 78 trial for N = 100 : 1\n",
      "Kanna Best eps at 74 trial for N = 100 : 0.1\n",
      "KANNAN Finished 78 trial for N = 100\n",
      "NF-gmm,nonNF-gmm,kannan,nw : 139.3658560979134, 147.10281283549145, 181.30147444964388, 246.95647267803324\n",
      "NW Finished 80 trial for N = 100\n",
      "KANNAN Finished 74 trial for N = 100\n",
      "NF-gmm,nonNF-gmm,kannan,nw : 99.52858504181638, 111.47536491419025, 179.97169550365135, 209.10655255188271\n"
     ]
    },
    {
     "name": "stderr",
     "output_type": "stream",
     "text": [
      "Training NF:   4%|▍         | 12/300 [00:00<00:09, 31.46it/s]"
     ]
    },
    {
     "name": "stdout",
     "output_type": "stream",
     "text": [
      "Kanna Best eps at 79 trial for N = 100 : 0.05\n",
      "Kanna Best eps at 75 trial for N = 100 : 0.05\n"
     ]
    },
    {
     "name": "stderr",
     "output_type": "stream",
     "text": [
      "Training NF:   9%|▉         | 28/300 [00:00<00:09, 30.10it/s]"
     ]
    },
    {
     "name": "stdout",
     "output_type": "stream",
     "text": [
      "KANNAN Finished 79 trial for N = 100\n",
      "NF-gmm,nonNF-gmm,kannan,nw : 109.26003835038316, 135.24614947383643, 215.49847870905012, 200.66169137818693\n",
      "KANNAN Finished 75 trial for N = 100\n",
      "NF-gmm,nonNF-gmm,kannan,nw : 174.6905707219165, 201.38888850542546, 304.5159344285467, 308.613463290175\n"
     ]
    },
    {
     "name": "stderr",
     "output_type": "stream",
     "text": [
      "                                                             \r"
     ]
    },
    {
     "name": "stdout",
     "output_type": "stream",
     "text": [
      "NW Finished 82 trial for N = 100\n"
     ]
    },
    {
     "name": "stderr",
     "output_type": "stream",
     "text": [
      "Training NF:   2%|▏         | 5/300 [00:00<00:07, 41.48it/s]]"
     ]
    },
    {
     "name": "stdout",
     "output_type": "stream",
     "text": [
      "NW Finished 81 trial for N = 100\n"
     ]
    },
    {
     "name": "stderr",
     "output_type": "stream",
     "text": [
      "                                                             \r"
     ]
    },
    {
     "name": "stdout",
     "output_type": "stream",
     "text": [
      "NW Finished 83 trial for N = 100\n"
     ]
    },
    {
     "name": "stderr",
     "output_type": "stream",
     "text": [
      "Training NF:   0%|          | 0/300 [00:00<?, ?it/s]2.14it/s]"
     ]
    },
    {
     "name": "stdout",
     "output_type": "stream",
     "text": [
      "NW Finished 84 trial for N = 100\n",
      "NW Finished 85 trial for N = 100\n"
     ]
    },
    {
     "name": "stderr",
     "output_type": "stream",
     "text": [
      "                                                             \r"
     ]
    },
    {
     "name": "stdout",
     "output_type": "stream",
     "text": [
      "NW Finished 86 trial for N = 100\n"
     ]
    },
    {
     "name": "stderr",
     "output_type": "stream",
     "text": [
      "Training NF:   0%|          | 0/300 [00:00<?, ?it/s]2.09it/s]"
     ]
    },
    {
     "name": "stdout",
     "output_type": "stream",
     "text": [
      "NW Finished 87 trial for N = 100\n"
     ]
    },
    {
     "name": "stderr",
     "output_type": "stream",
     "text": [
      "Training NF:   0%|          | 0/300 [00:00<?, ?it/s]         "
     ]
    },
    {
     "name": "stdout",
     "output_type": "stream",
     "text": [
      "NW Finished 88 trial for N = 100\n"
     ]
    },
    {
     "name": "stderr",
     "output_type": "stream",
     "text": [
      "Training NF:   0%|          | 0/300 [00:00<?, ?it/s].13it/s]"
     ]
    },
    {
     "name": "stdout",
     "output_type": "stream",
     "text": [
      "NW Finished 90 trial for N = 100\n"
     ]
    },
    {
     "name": "stderr",
     "output_type": "stream",
     "text": [
      "                                                             \r"
     ]
    },
    {
     "name": "stdout",
     "output_type": "stream",
     "text": [
      "NW Finished 89 trial for N = 100\n"
     ]
    },
    {
     "name": "stderr",
     "output_type": "stream",
     "text": [
      "Training NF:   7%|▋         | 20/300 [00:00<00:08, 32.05it/s]"
     ]
    },
    {
     "name": "stdout",
     "output_type": "stream",
     "text": [
      "NW Finished 91 trial for N = 100\n"
     ]
    },
    {
     "name": "stderr",
     "output_type": "stream",
     "text": [
      "Training NF:   4%|▍         | 12/300 [00:00<00:09, 31.81it/s]"
     ]
    },
    {
     "name": "stdout",
     "output_type": "stream",
     "text": [
      "NW Finished 92 trial for N = 100\n"
     ]
    },
    {
     "name": "stderr",
     "output_type": "stream",
     "text": [
      "Training NF:   0%|          | 0/300 [00:00<?, ?it/s]         "
     ]
    },
    {
     "name": "stdout",
     "output_type": "stream",
     "text": [
      "NW Finished 93 trial for N = 100\n"
     ]
    },
    {
     "name": "stderr",
     "output_type": "stream",
     "text": [
      "Training NF:   3%|▎         | 8/300 [00:00<00:09, 31.59it/s]"
     ]
    },
    {
     "name": "stdout",
     "output_type": "stream",
     "text": [
      "NW Finished 94 trial for N = 100\n"
     ]
    },
    {
     "name": "stderr",
     "output_type": "stream",
     "text": [
      "Training NF:   5%|▌         | 16/300 [00:00<00:08, 32.21it/s]"
     ]
    },
    {
     "name": "stdout",
     "output_type": "stream",
     "text": [
      "NW Finished 95 trial for N = 100\n"
     ]
    },
    {
     "name": "stderr",
     "output_type": "stream",
     "text": [
      "Training NF:   0%|          | 0/300 [00:00<?, ?it/s]         "
     ]
    },
    {
     "name": "stdout",
     "output_type": "stream",
     "text": [
      "NW Finished 97 trial for N = 100\n",
      "NW Finished 96 trial for N = 100\n"
     ]
    },
    {
     "name": "stderr",
     "output_type": "stream",
     "text": [
      "Training NF:   0%|          | 0/300 [00:00<?, ?it/s]0.67it/s]"
     ]
    },
    {
     "name": "stdout",
     "output_type": "stream",
     "text": [
      "NW Finished 98 trial for N = 100\n",
      "NW Finished 99 trial for N = 100\n"
     ]
    },
    {
     "name": "stderr",
     "output_type": "stream",
     "text": [
      "                                                             \r"
     ]
    },
    {
     "name": "stdout",
     "output_type": "stream",
     "text": [
      "81 trial : 1, 1\n"
     ]
    },
    {
     "name": "stderr",
     "output_type": "stream",
     "text": [
      "Training NF:   0%|          | 0/200 [00:00<?, ?it/s]          "
     ]
    },
    {
     "name": "stdout",
     "output_type": "stream",
     "text": [
      "82 trial : 1, 0.5\n",
      "80 trial : 1, 1\n"
     ]
    },
    {
     "name": "stderr",
     "output_type": "stream",
     "text": [
      "                                                              \r"
     ]
    },
    {
     "name": "stdout",
     "output_type": "stream",
     "text": [
      "83 trial : 3, 0.1\n"
     ]
    },
    {
     "name": "stderr",
     "output_type": "stream",
     "text": [
      "Training NF:   0%|          | 0/200 [00:00<?, ?it/s]          "
     ]
    },
    {
     "name": "stdout",
     "output_type": "stream",
     "text": [
      "84 trial : 1, 0.1\n"
     ]
    },
    {
     "name": "stderr",
     "output_type": "stream",
     "text": [
      "                                                              \r"
     ]
    },
    {
     "name": "stdout",
     "output_type": "stream",
     "text": [
      "85 trial : 1, 0.01\n"
     ]
    },
    {
     "name": "stderr",
     "output_type": "stream",
     "text": [
      "                                                              \r"
     ]
    },
    {
     "name": "stdout",
     "output_type": "stream",
     "text": [
      "86 trial : 1, 0.1\n"
     ]
    },
    {
     "name": "stderr",
     "output_type": "stream",
     "text": [
      "                                                              \r"
     ]
    },
    {
     "name": "stdout",
     "output_type": "stream",
     "text": [
      "Trial 81 : NF-GMM Finished 81 trial for N = 100\n",
      "Trial 82 : NF-GMM Finished 82 trial for N = 100\n",
      "Trial 80 : NF-GMM Finished 80 trial for N = 100\n",
      "87 trial : 3, 0.5\n"
     ]
    },
    {
     "name": "stderr",
     "output_type": "stream",
     "text": [
      "                                                              \r"
     ]
    },
    {
     "name": "stdout",
     "output_type": "stream",
     "text": [
      "88 trial : 1, 0.01\n"
     ]
    },
    {
     "name": "stderr",
     "output_type": "stream",
     "text": [
      "                                                              \r"
     ]
    },
    {
     "name": "stdout",
     "output_type": "stream",
     "text": [
      "90 trial : 3, 0.05\n"
     ]
    },
    {
     "name": "stderr",
     "output_type": "stream",
     "text": [
      "                                                              \r"
     ]
    },
    {
     "name": "stdout",
     "output_type": "stream",
     "text": [
      "Trial 83 : NF-GMM Finished 83 trial for N = 100\n",
      "89 trial : 1, 0.1\n"
     ]
    },
    {
     "name": "stderr",
     "output_type": "stream",
     "text": [
      "Training NF:   0%|          | 0/200 [00:00<?, ?it/s]          "
     ]
    },
    {
     "name": "stdout",
     "output_type": "stream",
     "text": [
      "Trial 84 : NF-GMM Finished 84 trial for N = 100\n",
      "92 trial : 1, 0.1\n"
     ]
    },
    {
     "name": "stderr",
     "output_type": "stream",
     "text": [
      "                                                              \r"
     ]
    },
    {
     "name": "stdout",
     "output_type": "stream",
     "text": [
      "91 trial : 1, 1\n"
     ]
    },
    {
     "name": "stderr",
     "output_type": "stream",
     "text": [
      "                                                              \r"
     ]
    },
    {
     "name": "stdout",
     "output_type": "stream",
     "text": [
      "Trial 85 : NF-GMM Finished 85 trial for N = 100\n",
      "95 trial : 3, 0.01\n"
     ]
    },
    {
     "name": "stderr",
     "output_type": "stream",
     "text": [
      "                                                              \r"
     ]
    },
    {
     "name": "stdout",
     "output_type": "stream",
     "text": [
      "97 trial : 1, 1\n",
      "93 trial : 3, 0.05\n"
     ]
    },
    {
     "name": "stderr",
     "output_type": "stream",
     "text": [
      "                                                              \r"
     ]
    },
    {
     "name": "stdout",
     "output_type": "stream",
     "text": [
      "94 trial : 3, 0.5\n"
     ]
    },
    {
     "name": "stderr",
     "output_type": "stream",
     "text": [
      "                                                              \r"
     ]
    },
    {
     "name": "stdout",
     "output_type": "stream",
     "text": [
      "98 trial : 3, 1\n",
      "Trial 86 : NF-GMM Finished 86 trial for N = 100\n"
     ]
    },
    {
     "name": "stderr",
     "output_type": "stream",
     "text": [
      "                                                              \r"
     ]
    },
    {
     "name": "stdout",
     "output_type": "stream",
     "text": [
      "96 trial : 3, 0.05\n"
     ]
    },
    {
     "name": "stderr",
     "output_type": "stream",
     "text": [
      "                                                              \r"
     ]
    },
    {
     "name": "stdout",
     "output_type": "stream",
     "text": [
      "Trial 87 : NF-GMM Finished 87 trial for N = 100\n",
      "Trial 88 : NF-GMM Finished 88 trial for N = 100\n",
      "99 trial : 1, 0.1\n"
     ]
    },
    {
     "name": "stderr",
     "output_type": "stream",
     "text": [
      "                                                              \r"
     ]
    },
    {
     "name": "stdout",
     "output_type": "stream",
     "text": [
      "Trial 90 : NF-GMM Finished 90 trial for N = 100\n",
      "Trial 89 : NF-GMM Finished 89 trial for N = 100\n",
      "Trial 92 : NF-GMM Finished 92 trial for N = 100\n",
      "Trial 91 : NF-GMM Finished 91 trial for N = 100\n",
      "Trial 95 : NF-GMM Finished 95 trial for N = 100\n",
      "Trial 93 : NF-GMM Finished 93 trial for N = 100\n",
      "Trial 97 : NF-GMM Finished 97 trial for N = 100\n",
      "Trial 94 : NF-GMM Finished 94 trial for N = 100\n",
      "Trial 98 : NF-GMM Finished 98 trial for N = 100\n",
      "Trial 96 : NF-GMM Finished 96 trial for N = 100\n",
      "Trial 99 : NF-GMM Finished 99 trial for N = 100\n"
     ]
    }
   ],
   "source": [
    " # ----------------------- Implementation 2 ----------------------------\n",
    "T = 100\n",
    "N = 100\n",
    "dim_s_list = [20]\n",
    "dim_xi = 1\n",
    "eps_list = [0.01, 0.05, 0.1, 0.5, 1]\n",
    "max_K = 3\n",
    "Cs = CHs = [1, 5,10]\n",
    "h, b = 10, 2\n",
    "hidden_node, hidden_layer, block_size, bins, total_epoch = 64, 1, 1, 8, 300\n",
    "device = torch.device(\"cuda\" if torch.cuda.is_available() else \"cpu\")\n",
    "\n",
    "for dim_s in dim_s_list: \n",
    "    print(f\"✅✅✅✅✅✅✅Running trials for dim_s = {dim_s}✅✅✅✅✅✅✅✅\")\n",
    "    def run_trial(tt, N):\n",
    "        max_retry = 30\n",
    "        random.seed(tt)\n",
    "        np.random.seed(tt)\n",
    "        torch.manual_seed(tt)\n",
    "        torch.cuda.manual_seed_all(tt)  \n",
    "        for attempt_trial in range(max_retry):\n",
    "            try:\n",
    "                s, xi, _, _ = generate_data(N, dim_s, dim_xi)\n",
    "                gammas = s\n",
    "                s_single, _, W1_oos, W2_oos = generate_data(1, dim_s, dim_xi)\n",
    "                gamma = s_single[0]\n",
    "\n",
    "                #-------------------------------- NW--------------------------------\n",
    "                C_H = cv_H(CHs, xi, gammas, h, b)\n",
    "                H = C_H * 1 / (N ** (1 / 6))\n",
    "                kde = KernelDensity(kernel='exponential', bandwidth=1).fit(gammas)\n",
    "                g_gamma = np.exp(kde.score_samples(gamma.reshape(1, -1))).item()\n",
    "                weight = NW_weights(gamma, gammas, H)\n",
    "                C_smart = cv_lda(Cs, C_H, xi, gammas, h, b)\n",
    "                lda_0 = 1 / np.sqrt(N * (H ** 2) * g_gamma)\n",
    "                lda_smart = C_smart * lda_0\n",
    "                nw_model = Newsvendor(reg=lda_smart, verbose=False)\n",
    "                nw_model.fit({\"b\": b, \"h\": h, \"gamma\": gamma, \"xi\": xi, \"weight\": weight})\n",
    "                q_nw = nw_model.coef_\n",
    "                loss_nw = oos_loss(q_nw, gamma, h, b, W1_oos, W2_oos, dim_xi=1)\n",
    "                print(f\"NW Finished {tt} trial for N = {N}\")\n",
    "\n",
    "                #--------------------------- NF-GMM-------------------------------\n",
    "                best_K_NF, best_eps_NF = cv_GMM(N, max_K, eps_list, xi, gammas, h, b, hidden_node, hidden_layer, block_size, bins, total_epoch, device)\n",
    "                print(f\"{tt} trial : {best_K_NF}, {best_eps_NF}\")\n",
    "                scaler_s, scaler_xi =StandardScaler(), StandardScaler()\n",
    "                s_std = scaler_s.fit_transform(gammas)\n",
    "                xi_std = scaler_xi.fit_transform(xi)\n",
    "                s_val = gamma.reshape(1, -1)                                # (1, dim_s)\n",
    "                s_val_std = scaler_s.transform(s_val) \n",
    "                data_std = np.hstack([s_std, xi_std]) \n",
    "                x_tensor = torch.tensor(data_std, dtype=torch.float32).to(device)\n",
    "\n",
    "                cov_type = 'full' if dim_s <= 10 else 'diag'\n",
    "                gmm_x = GaussianMixture(n_components=best_K_NF, covariance_type=cov_type, reg_covar=1e-2).fit(data_std)\n",
    "                mu_x, cov_x, p_x = gmm_x.means_, gmm_x.covariances_, gmm_x.weights_\n",
    "                sig_x = np.array([np.diag(cov) for cov in cov_x]) if cov_type == 'diag' else cov_x\n",
    "\n",
    "\n",
    "                nfm, _ = train_nf_model(latent_size=dim_s + dim_xi, best_K=best_K_NF, hidden_node=hidden_node, hidden_layer=hidden_layer, block_size=block_size, num_bins=bins, total_epoch=200, x=x_tensor, device=device)\n",
    "\n",
    "                s_vec = s_val_std.ravel()                                 \n",
    "\n",
    "                mu_cond_x, cov_cond_x, w_x = transforming_conditional(s=s_vec, num_components=best_K_NF, mu_k=mu_x, sig_k=sig_x, p_k=p_x, dim_s=dim_s)\n",
    "                xi_hat_std = (w_x[:, None] * mu_cond_x).sum(axis=0, keepdims=True )    # (1, dim_xi)\n",
    "\n",
    "                gamma_std = np.hstack([s_val_std, xi_hat_std])                         # (1, dim_s+dim_xi)\n",
    "                gamma_tensor = torch.tensor(gamma_std, dtype=torch.float32).to(device)\n",
    "\n",
    "                z_s = inverse(nfm, gamma_tensor)[:, :dim_s].reshape(-1)\n",
    "                z_train = inverse(nfm, x_tensor)\n",
    "\n",
    "                cov_type = 'full' if dim_s <= 10 else 'diag'\n",
    "                gmm_z = GaussianMixture(n_components=best_K_NF, covariance_type=cov_type, reg_covar=1e-2).fit(z_train)\n",
    "                mu_z, cov_z, p_z = gmm_z.means_, gmm_z.covariances_, gmm_z.weights_\n",
    "                sig_z = np.array([np.diag(cov) for cov in cov_z]) if cov_type == 'diag' else cov_z\n",
    "\n",
    "                mu_cond_z, cov_cond_z, w_z = transforming_conditional(s=z_s, num_components= best_K_NF, mu_k=mu_z, sig_k=sig_z, p_k=p_z, dim_s=dim_s)\n",
    "                z_xi_sample = MC_sampling(best_K_NF, 1000, mu_cond_z, cov_cond_z, w_z)\n",
    "                z_full = np.hstack([np.repeat(z_s.reshape(1, -1), len(z_xi_sample), axis=0), z_xi_sample])\n",
    "\n",
    "                z_tensor = torch.tensor(z_full, dtype=torch.float32).to(device)\n",
    "                xi_sampled_std = forward(nfm, z_tensor)[:, dim_s:]\n",
    "                xi_sampled = scaler_xi.inverse_transform(xi_sampled_std)\n",
    "                xi_sampled = np.maximum(xi_sampled, 0)        \n",
    "                q_NF_gmm = NewsVendor_2_Wass(xi_sampled, best_eps_NF, h, b)\n",
    "                loss_NF_gmm = oos_loss(q_NF_gmm, gamma, h, b, W1_oos, W2_oos, dim_xi=1)\n",
    "                print(f\"Trial {tt} : NF-GMM Finished {tt} trial for N = {N}\")\n",
    "\n",
    "                #-------------------- Non-NF-GMM--------------------------\n",
    "                best_K_nonNF, best_eps_nonNF = cv_GMM_nonNF(N, max_K, eps_list, xi, gammas, h, b, hidden_node, hidden_layer, block_size, bins, total_epoch, device)\n",
    "                scaler_xi, scaler_s = StandardScaler(), StandardScaler()\n",
    "                s_std = scaler_s.fit_transform(gammas)\n",
    "                xi_std = scaler_xi.fit_transform(xi)\n",
    "                data = np.hstack([s_std, xi_std])  \n",
    "\n",
    "                cov_type_nonNF = 'full' if dim_s <= 10 else 'diag'\n",
    "                gmm_x = GaussianMixture(n_components=best_K_nonNF, covariance_type=cov_type_nonNF, reg_covar=1e-2).fit(data)\n",
    "                mu_x, cov_x, p_x = gmm_x.means_, gmm_x.covariances_, gmm_x.weights_\n",
    "                sig_x = np.array([np.diag(cov) for cov in cov_x]) if cov_type_nonNF == 'diag' else cov_x\n",
    "\n",
    "                s_val = gamma.reshape(1, -1) \n",
    "                s_val_std = scaler_s.transform(s_val)  \n",
    "                s_vec = s_val_std.ravel()               \n",
    "                mu_cond_x, cov_cond_x, p_cond_x = transforming_conditional(s=s_vec, num_components=best_K_nonNF, mu_k=mu_x, sig_k=sig_x, p_k=p_x, dim_s=dim_s)\n",
    "\n",
    "                num_mc = 1000\n",
    "                xi_sampled_std = MC_sampling(best_K_nonNF, num_mc, mu_cond_x, cov_cond_x, p_cond_x)  \n",
    "                xi_sampled = scaler_xi.inverse_transform(xi_sampled_std)\n",
    "                xi_sampled = np.maximum(xi_sampled, 0)  \n",
    "                q_nonNF_gmm = NewsVendor_2_Wass(xi_sampled, best_eps_nonNF, h, b)\n",
    "                loss_nonNF_gmm = oos_loss(q_nonNF_gmm, gamma, h, b, W1_oos, W2_oos, dim_xi=1)\n",
    "                print(f\"Trial {tt} : GMM (non-NF) Finished for N = {N}\")\n",
    "\n",
    "                #---------------------------Kannan-----------------------------\n",
    "                best_eps2 = cv_eps_kannan(eps_list, xi, gammas, h, b)\n",
    "                print(f\"Kanna Best eps at {tt} trial for N = {N} : {best_eps2}\")\n",
    "                model = LinearRegression().fit(gammas, xi)\n",
    "                residuals = xi - model.predict(gammas)\n",
    "                f_hat = model.predict(np.atleast_2d(gamma)).item()\n",
    "                xi_er = np.maximum(residuals + f_hat, 0) \n",
    "                q_reg = NewsVendor_1_Wass(xi_er, best_eps2, h=h, b=b)\n",
    "                loss_reg = oos_loss(q_reg, gamma, h, b, W1_oos, W2_oos, dim_xi=1)\n",
    "                print(f\"KANNAN Finished {tt} trial for N = {N}\")\n",
    "\n",
    "                print(f\"NF-gmm,nonNF-gmm,kannan,nw : {loss_NF_gmm}, {loss_nonNF_gmm}, {loss_reg}, {loss_nw}\")\n",
    "                return {\n",
    "                    'K_NF_GMM' : best_K_NF,\n",
    "                    'K_nonNF_GMM' : best_K_nonNF,\n",
    "                    'eps_NF_GMM': best_eps_NF,\n",
    "                    'eps_nonNF_GMM': best_eps_nonNF,\n",
    "                    'eps_kannan': best_eps2,\n",
    "                    'loss_NF_GMM': loss_NF_gmm,\n",
    "                    'loss_nonNF_GMM': loss_nonNF_gmm,\n",
    "                    'loss_kannan': loss_reg,\n",
    "                    'loss_nw': loss_nw,\n",
    "                }\n",
    "                \n",
    "            except Exception as e:\n",
    "                print(f\"[Global Retry {attempt_trial+1}/{max_retry}] Trial {tt}, N={N} failed: {e}\")\n",
    "                continue\n",
    "\n",
    "        print(f\"⚠️ Trial {tt}, N={N} failed after {max_retry} retries.\")\n",
    "        return None\n",
    "\n",
    "    results = Parallel(n_jobs=-1)(delayed(run_trial)(tt, N) for tt in tqdm(range(T)))\n",
    "\n",
    "    # --- Eliminate None or malformed results ---\n",
    "    results = [r for r in results if isinstance(r, dict) and r is not None]\n",
    "\n",
    "    # --- Handle empty case ---\n",
    "    if len(results) == 0:\n",
    "        print(f\"⚠️ No valid results for N={N}, skipping.\")\n",
    "        continue  #\n",
    "  \n",
    "    # --- Add Trial indices (if not already present) ---\n",
    "    for i, r in enumerate(results):\n",
    "        r['Trial'] = i\n",
    "\n",
    "    # --- Construct DataFrame ---   \n",
    "    df = pd.DataFrame(results)\n",
    "\n",
    "    # --- Ensure 'Trial' column exists ---\n",
    "    if 'Trial' in df.columns:\n",
    "        cols = ['Trial'] + [c for c in df.columns if c != 'Trial']\n",
    "        df = df[cols]\n",
    "    else:\n",
    "        print(\"⚠️ Warning: 'Trial' column not found. Columns:\", df.columns)\n",
    "\n",
    "    # --- Add AVG row ---\n",
    "    mean_row = {'Trial': 'AVG'}\n",
    "    for col in df.columns:\n",
    "        if col != 'Trial' and pd.api.types.is_numeric_dtype(df[col]):\n",
    "            mean_row[col] = df[col].mean(skipna=True)\n",
    "    df = pd.concat([df, pd.DataFrame([mean_row])], ignore_index=True)\n",
    "\n",
    "    # --- SAVE ---\n",
    "    save_path = f\"NV_{dim_s}d_LinQuad.csv\"\n",
    "    df.to_csv(save_path, index=False) \n",
    "    print(f\"✅ Saved to {save_path}\")"
   ]
  }
 ],
 "metadata": {
  "kernelspec": {
   "display_name": "sklearn-env",
   "language": "python",
   "name": "python3"
  },
  "language_info": {
   "codemirror_mode": {
    "name": "ipython",
    "version": 3
   },
   "file_extension": ".py",
   "mimetype": "text/x-python",
   "name": "python",
   "nbconvert_exporter": "python",
   "pygments_lexer": "ipython3",
   "version": "3.13.5"
  }
 },
 "nbformat": 4,
 "nbformat_minor": 5
}
